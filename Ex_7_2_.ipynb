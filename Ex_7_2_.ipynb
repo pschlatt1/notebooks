{
  "cells": [
    {
      "cell_type": "markdown",
      "metadata": {
        "id": "2FEhiv6-xH5j"
      },
      "source": [
        "# Solution to Task 7.2: Non-equilibrium boundary layer\n",
        "Solved using a simple shooting/bisection method and Runge-Kutta RK4 integration.\n",
        "\n",
        "Adapted from lecture notes of Prof. Dr. Philipp Schlatter by Dr. Venkatesh Pulletikurthi"
      ]
    },
    {
      "cell_type": "markdown",
      "metadata": {
        "id": "ZphBV71jxH5m"
      },
      "source": [
        " Binder: https://mybinder.org/v2/gh/pschlatt1/notebooks/main?filepath=fs.ipynb\n",
        "\n",
        " Colab: https://colab.research.google.com/github/pschlatt1/notebooks/blob/main/fs.ipynb"
      ]
    },
    {
      "cell_type": "markdown",
      "metadata": {
        "id": "UK6QDImdxH5n"
      },
      "source": [
        "Preliminaries: (for Google CoLab use %matplotlib inline)"
      ]
    },
    {
      "cell_type": "code",
      "execution_count": 96,
      "metadata": {
        "id": "ggYNNr1exH5n"
      },
      "outputs": [],
      "source": [
        "#%matplotlib notebook\n",
        "%matplotlib inline\n",
        "import numpy as np\n",
        "import matplotlib.pyplot as plt\n",
        "import matplotlib.pylab as pylab\n",
        "params = {'legend.fontsize': 12,\n",
        "          'legend.loc':'best',\n",
        "          'figure.figsize': (8,5),\n",
        "          'lines.markerfacecolor':'none',\n",
        "          'axes.labelsize': 12,\n",
        "          'axes.titlesize': 12,\n",
        "          'xtick.labelsize':12,\n",
        "          'ytick.labelsize':12,\n",
        "          'grid.alpha':0.6}\n",
        "pylab.rcParams.update(params)"
      ]
    },
    {
      "cell_type": "markdown",
      "metadata": {
        "id": "dWAXhuqCxH5o"
      },
      "source": [
        "The equation to solve is\n",
        "$$f'''+\\frac{1}{2} f f'' + \\frac{\\beta_H }{2}(1-f' ^2) = 0 \\ ,$$\n",
        "subject to boundary conditions\n",
        "$$f(0)=0, f'(0)=0, f'(\\infty) = 1 \\ .$$\n",
        "\n",
        "The Hartree parameter $\\beta_H$ is related to the acceleration of the velocity as $\\beta_H=2m/(m+1)$. Positive $\\beta_H$ lead to accelerating boundary layers (favourable pressure gradient, FPG), whereas negative $\\beta_H$ are associated with adverse pressure gradient (APG).\n",
        "\n",
        "For the Cyber Truck, the $m=0.25$ for front windshield and $m=-0.0654$ for the rear windshield.\n",
        "\n",
        "We thus define first our equation in vector form:"
      ]
    },
    {
      "cell_type": "code",
      "execution_count": 97,
      "metadata": {
        "id": "KjDU-rIIxH5o"
      },
      "outputs": [],
      "source": [
        "def ff(u,betaH):\n",
        "    f0 =   u[1]\n",
        "    f1 =   u[2]\n",
        "    f2 = - 0.5*u[0] * u[2]  - betaH/2*(1-u[1]**2)\n",
        "    return np.array([f0,f1,f2])"
      ]
    },
    {
      "cell_type": "markdown",
      "metadata": {
        "id": "Cynor6dHxH5p"
      },
      "source": [
        "and then the Runge-Kutta ODE integrator RK4, using the (unknown) initial value $a$ for $f''(0)$"
      ]
    },
    {
      "cell_type": "code",
      "execution_count": 98,
      "metadata": {
        "id": "yXt_QF2uxH5p"
      },
      "outputs": [],
      "source": [
        "def RK4(a,h,L,betaH):\n",
        "    imax = int(L/h)\n",
        "    X = np.arange(imax+1)*h\n",
        "    U = np.zeros((imax+1,3)); U[0,:] = [0,0,a]\n",
        "    for i in range(imax):\n",
        "        K1 = ff(U[i,:],betaH)\n",
        "        K2 = ff(U[i,:]+K1*h/2,betaH)\n",
        "        K3 = ff(U[i,:]+K2*h/2,betaH)\n",
        "        K4 = ff(U[i,:]+K3*h,betaH)\n",
        "        U[i+1,:] = U[i,:] + h*(K1+2*K2+2*K3+K4)/6\n",
        "    return X,U"
      ]
    },
    {
      "cell_type": "markdown",
      "metadata": {
        "id": "i680ltEKxH5p"
      },
      "source": [
        "The shooting function returns the value $1-f'(\\infty)$ (approximated as $1-f'(L)$):"
      ]
    },
    {
      "cell_type": "code",
      "execution_count": 99,
      "metadata": {
        "id": "iOBICHl2xH5q"
      },
      "outputs": [],
      "source": [
        "def shoot(a,h,L,betaH):\n",
        "    X,U = RK4(a,h,L,betaH)\n",
        "    return (1.0-U[-1,1])"
      ]
    },
    {
      "cell_type": "markdown",
      "metadata": {
        "id": "ECr4sIcLxH5q"
      },
      "source": [
        "The function blasius is performing a bisection method, in an effort to bring the error of $f'(L)=1$ below the specified tolerance.  Note that the initial values for the bisection may need to be tweaked a bit."
      ]
    },
    {
      "cell_type": "code",
      "execution_count": 100,
      "metadata": {
        "id": "lJirMIfuxH5q"
      },
      "outputs": [],
      "source": [
        "def blasius(h,L,tol,nmax,m):\n",
        "    betaH = 2*m/(m+1)\n",
        "    if (betaH>0):\n",
        "        a = 2*m+0.1; fa = shoot(a,h,L,betaH)\n",
        "    else:\n",
        "        a = 0.0; fa = shoot(a,h,L,betaH)\n",
        "    b = 1.0; fb = shoot(b,h,L,betaH)\n",
        "    if (fa*fb > 0 or np.isnan(fa*fb)):\n",
        "        print(\" f(a=%14.7f) = %14.7f\" %(a,fa))\n",
        "        print(\" f(b=%14.7f) = %14.7f\" %(b,fb))\n",
        "        raise RuntimeError('Bad initial interval.')\n",
        "    n = 0; delta = (b-a)/2\n",
        "    while (abs(delta) >= tol and n <= nmax):\n",
        "        delta = (b-a)/2; n = n + 1;\n",
        "        x = a + delta; fx = shoot(x,h,L,betaH)\n",
        "        print(\" x = %14.7e (Estimated error %14.7e at iteration %d)\" % (x,abs(delta),n))\n",
        "        if (fx*fa > 0):\n",
        "            a = x;  fa = fx\n",
        "        else:\n",
        "            b = x;  fb = fx\n",
        "        if (n > nmax):\n",
        "            raise RuntimeError('Too many iterations.')\n",
        "    return x"
      ]
    },
    {
      "cell_type": "markdown",
      "metadata": {
        "id": "cK9yVAedxH5q"
      },
      "source": [
        "Finally, the main script calls the blasius function and computes the solution in $\\eta$ and $f$"
      ]
    },
    {
      "cell_type": "code",
      "execution_count": 117,
      "metadata": {
        "id": "_ZyFvA0_xH5r",
        "outputId": "3bef4887-60bf-4048-a24c-9c4caed4e613",
        "colab": {
          "base_uri": "https://localhost:8080/"
        }
      },
      "outputs": [
        {
          "output_type": "stream",
          "name": "stdout",
          "text": [
            "The Hartree-beta for front wind shield is\n",
            "\n",
            "  4.0000000e-01\n",
            "The Hartree-beta for rear wind shield is\n",
            "\n",
            " -1.3995292e-01\n"
          ]
        }
      ],
      "source": [
        "# parameters\n",
        "nmax = 100\n",
        "h   = 0.01\n",
        "L   = 30\n",
        "tol = 1e-6\n",
        "mFPG=0.25  # front wind shield (FPG)\n",
        "mAPG=-0.0654  # rear wind shield (APG)\n",
        "\n",
        "\n",
        "# Compute the Hartree-beta\n",
        "betaH_APG=2*mAPG/(mAPG+1)\n",
        "betaH_FPG=2*mFPG/(mFPG+1)\n",
        "print(\"The Hartree-beta for front wind shield is\\n\")\n",
        "print(\" %14.7e\" % betaH_FPG)\n",
        "print(\"The Hartree-beta for rear wind shield is\\n\")\n",
        "print(\" %14.7e\" % betaH_APG)"
      ]
    },
    {
      "cell_type": "markdown",
      "source": [
        "#For the front wind shield, $m=0.25$ (FPG)"
      ],
      "metadata": {
        "id": "lUI1OVitIKgF"
      }
    },
    {
      "cell_type": "code",
      "execution_count": 118,
      "metadata": {
        "scrolled": true,
        "id": "yzUoZ1R_xH5r",
        "outputId": "85dfd757-4a27-47af-a8c2-7b2b2de50e4f",
        "colab": {
          "base_uri": "https://localhost:8080/"
        }
      },
      "outputs": [
        {
          "output_type": "stream",
          "name": "stdout",
          "text": [
            " x =  8.0000000e-01 (Estimated error  2.0000000e-01 at iteration 1)\n",
            " x =  7.0000000e-01 (Estimated error  1.0000000e-01 at iteration 2)\n",
            " x =  6.5000000e-01 (Estimated error  5.0000000e-02 at iteration 3)\n",
            " x =  6.2500000e-01 (Estimated error  2.5000000e-02 at iteration 4)\n",
            " x =  6.1250000e-01 (Estimated error  1.2500000e-02 at iteration 5)\n",
            " x =  6.0625000e-01 (Estimated error  6.2500000e-03 at iteration 6)\n",
            " x =  6.0312500e-01 (Estimated error  3.1250000e-03 at iteration 7)\n",
            " x =  6.0468750e-01 (Estimated error  1.5625000e-03 at iteration 8)\n",
            " x =  6.0390625e-01 (Estimated error  7.8125000e-04 at iteration 9)\n",
            " x =  6.0429687e-01 (Estimated error  3.9062500e-04 at iteration 10)\n",
            " x =  6.0410156e-01 (Estimated error  1.9531250e-04 at iteration 11)\n",
            " x =  6.0419922e-01 (Estimated error  9.7656250e-05 at iteration 12)\n",
            " x =  6.0415039e-01 (Estimated error  4.8828125e-05 at iteration 13)\n",
            " x =  6.0417480e-01 (Estimated error  2.4414063e-05 at iteration 14)\n",
            " x =  6.0416260e-01 (Estimated error  1.2207031e-05 at iteration 15)\n",
            " x =  6.0416870e-01 (Estimated error  6.1035156e-06 at iteration 16)\n",
            " x =  6.0416565e-01 (Estimated error  3.0517578e-06 at iteration 17)\n",
            " x =  6.0416718e-01 (Estimated error  1.5258789e-06 at iteration 18)\n",
            " x =  6.0416641e-01 (Estimated error  7.6293945e-07 at iteration 19)\n",
            "Final value for f''(0) =   0.6041664124\n"
          ]
        }
      ],
      "source": [
        "# compute the value of f''(0)\n",
        "a = blasius(h,L,tol,nmax,mFPG)\n",
        "# recompute the Blasius solution with the optimised value for f''(0)\n",
        "eta,f = RK4(a,h,L,betaH_FPG)\n",
        "\n",
        "print(\"Final value for f''(0) = %14.10f\" % f[0,2])"
      ]
    },
    {
      "cell_type": "markdown",
      "metadata": {
        "id": "KkpjOjlLxH5s"
      },
      "source": [
        "\n",
        "\n",
        "```\n",
        "# This is formatted as code\n",
        "```\n",
        "\n",
        "Finally, let us plot the results for the similarity function"
      ]
    },
    {
      "cell_type": "code",
      "execution_count": 119,
      "metadata": {
        "id": "DYGC84b0xH5s",
        "outputId": "9a6d5164-fad8-4432-b635-991abb49cec4",
        "colab": {
          "base_uri": "https://localhost:8080/",
          "height": 481
        }
      },
      "outputs": [
        {
          "output_type": "display_data",
          "data": {
            "text/plain": [
              "<Figure size 800x500 with 1 Axes>"
            ],
            "image/png": "[encoded data removed]"
          },
          "metadata": {}
        }
      ],
      "source": [
        "plt.figure()\n",
        "#plt.plot(f[:,0],eta,'-k',label=\"$f$\")\n",
        "plt.plot(f[:,1],eta,'-r',label=\"$f'$\")\n",
        "#plt.plot(f[:,2],eta,'-b',label=\"$f''$\")\n",
        "plt.xlim([0, 1])\n",
        "plt.ylim([0,10])\n",
        "plt.grid()\n",
        "plt.xlabel(\"$f'$\")\n",
        "plt.ylabel('$\\eta=y/\\Delta$')\n",
        "plt.legend(loc='best')\n",
        "plt.show()"
      ]
    },
    {
      "cell_type": "markdown",
      "metadata": {
        "id": "GS2L2MyQxH5s"
      },
      "source": [
        "Let us now compute some integral quantities: (Blasius length scale $\\Delta$, boundary-layer thickness $\\delta_{99}$, displacement thickness $\\delta^*$, momentum-loss thickness $\\theta$, shape factor $H_{12}$)"
      ]
    },
    {
      "cell_type": "code",
      "execution_count": 120,
      "metadata": {
        "id": "mne91H9MxH5s",
        "outputId": "88e0b797-924e-4226-8061-bf4dc329ea07",
        "colab": {
          "base_uri": "https://localhost:8080/"
        }
      },
      "outputs": [
        {
          "output_type": "stream",
          "name": "stdout",
          "text": [
            "d99   / Delta =    4.030892855\n",
            "dstar / Delta =    1.206063579\n",
            "theta / Delta =    0.518829705\n",
            "H12           =    2.324584671\n",
            "dstar/d99     =   0.2992050701\n",
            "theta/d99     =   0.1287133456\n"
          ]
        }
      ],
      "source": [
        "d99 = np.interp(0.99,f[:,1],eta)\n",
        "d1 = eta[-1]-f[-1,0]\n",
        "d2 = np.trapz(f[:,1]*(1-f[:,1]),eta)  # note the difference to Blasius!\n",
        "H12 = d1/d2\n",
        "print('d99   / Delta = %14.10g' % d99)\n",
        "print('dstar / Delta = %14.10g' % d1)\n",
        "print('theta / Delta = %14.10g' % d2)\n",
        "print('H12           = %14.10g' % H12)\n",
        "print('dstar/d99     = %14.10g' % float(d1/d99))\n",
        "print('theta/d99     = %14.10g' % float(d2/d99))"
      ]
    },
    {
      "cell_type": "markdown",
      "metadata": {
        "id": "4E9iWnckxH5t"
      },
      "source": [
        "The boundary layer thickness $$\\Delta = \\sqrt{\\frac{1}{m+1}\\frac{\\nu x}{U_e}}  $$ is used for non-dimensionalisation of length, and $U_e=K x^m$ for velocity. Thus, the local skin-friction coefficient $$c_f = \\frac{\\tau_w}{\\frac12 \\rho U_e^2}= \\frac{2f''(0)}{\\sqrt{Re_x}}\\sqrt{(m+1)} $$ is computed using the wall-shear stress $$\\tau_w = \\mu \\frac{\\mathrm \\partial u}{\\partial y}|_{y=0} =\\mu \\frac{U_e f''(0)}{\\Delta} =\\frac{\\rho U_e^2}{\\sqrt{Re_x}}f''(0) \\sqrt{m+1}\\ .$$"
      ]
    },
    {
      "cell_type": "code",
      "execution_count": 106,
      "metadata": {
        "id": "2k4dxXAHxH5t",
        "outputId": "b55f9c2a-b862-4009-a332-f1e0525c7249",
        "colab": {
          "base_uri": "https://localhost:8080/"
        }
      },
      "outputs": [
        {
          "output_type": "stream",
          "name": "stdout",
          "text": [
            "cf*sqrt(Rex) =    1.350957168\n"
          ]
        }
      ],
      "source": [
        "print(\"cf*sqrt(Rex) = %14.10g\" % float(2*f[0,2]*np.sqrt(mFPG+1)))"
      ]
    },
    {
      "cell_type": "markdown",
      "metadata": {
        "id": "2fsvX9YHxH5t"
      },
      "source": [
        "The von Kármán integral equation states\n",
        "$$\\frac{\\tau_w}{\\rho} = c_f \\cdot \\frac12U_e^2 = U_e \\frac{\\mathrm d U_e}{\\mathrm d x} (\\delta^* + 2\\theta) + U_e^2 \\frac{\\mathrm d \\theta}{\\mathrm d x} \\ ,$$\n",
        "which can be used to verify the above relation for $\\tau_w$:\n",
        "$$\\tau_w = \\frac{\\rho U_e^2}{\\sqrt{Re_x}} \\sqrt{\\frac{1}{m+1}}\\left( m \\frac{\\delta^*}{\\Delta} + \\frac{\\theta}{\\Delta} \\frac{1+3m}{2}\\right)$$\n",
        "and for $c_f$:\n",
        "$$c_f = \\frac{\\tau_w}{\\frac12 \\rho U_e^2} = \\frac{2}{\\sqrt{Re_x}} \\sqrt{\\frac{1}{m+1}}\\left( m \\frac{\\delta^*}{\\Delta} + \\frac{\\theta}{\\Delta} \\frac{1+3m}{2}\\right)$$"
      ]
    },
    {
      "cell_type": "code",
      "execution_count": 107,
      "metadata": {
        "id": "nXDQYlyWxH5t",
        "outputId": "e1ea6b72-31f3-4425-844f-bdd5378d5a25",
        "colab": {
          "base_uri": "https://localhost:8080/"
        }
      },
      "outputs": [
        {
          "output_type": "stream",
          "name": "stdout",
          "text": [
            "cf*sqrt(Rex) =    1.351464972\n"
          ]
        }
      ],
      "source": [
        "print(\"cf*sqrt(Rex) = %14.10g\" % float(2*np.sqrt(1/(mFPG+1))*(mFPG*d1+d2*(1+3*mFPG)/2)))"
      ]
    },
    {
      "cell_type": "markdown",
      "metadata": {
        "id": "Pj_n1izHxH5t"
      },
      "source": [
        "These integral quantities can also be obtained by integration using the trapezoidal rule:\n",
        "\n",
        "$$\\delta^* = \\int_0^\\infty (1-u/u_\\infty) \\mathrm dy = \\Delta \\int_0^\\infty (1-f') \\mathrm d\\eta$$\n",
        "\n",
        "$$\\theta = \\int_0^\\infty (u/u_\\infty)(1-u/u_\\infty) \\mathrm dy = \\Delta \\int_0^\\infty f'(1-f') \\mathrm d\\eta$$"
      ]
    },
    {
      "cell_type": "code",
      "execution_count": 108,
      "metadata": {
        "id": "CNOT56KQxH5t",
        "outputId": "1f25de79-4fd8-46b3-f1dd-ba22352a4305",
        "colab": {
          "base_uri": "https://localhost:8080/"
        }
      },
      "outputs": [
        {
          "output_type": "execute_result",
          "data": {
            "text/plain": [
              "1.2060686139430066"
            ]
          },
          "metadata": {},
          "execution_count": 108
        }
      ],
      "source": [
        "np.trapz(1-f[:,1],eta)"
      ]
    },
    {
      "cell_type": "code",
      "execution_count": 109,
      "metadata": {
        "id": "bVvwP4shxH5t",
        "outputId": "782f7b92-5d5f-4421-91b9-d730eb23142c",
        "colab": {
          "base_uri": "https://localhost:8080/"
        }
      },
      "outputs": [
        {
          "output_type": "execute_result",
          "data": {
            "text/plain": [
              "0.518829705044418"
            ]
          },
          "metadata": {},
          "execution_count": 109
        }
      ],
      "source": [
        "np.trapz(f[:,1]*(1-f[:,1]),eta)"
      ]
    },
    {
      "cell_type": "code",
      "execution_count": 110,
      "metadata": {
        "id": "1KaJIJtoxH5u",
        "outputId": "ee399437-f524-41f5-830f-93fd9b9d9e16",
        "colab": {
          "base_uri": "https://localhost:8080/"
        }
      },
      "outputs": [
        {
          "output_type": "execute_result",
          "data": {
            "text/plain": [
              "1.3509571677446295"
            ]
          },
          "metadata": {},
          "execution_count": 110
        }
      ],
      "source": [
        "2*f[0,2]*np.sqrt(mFPG+1)"
      ]
    },
    {
      "cell_type": "code",
      "execution_count": 111,
      "metadata": {
        "id": "YepHvl77xH5u",
        "outputId": "cff3c5be-189d-4708-9f9e-dd00e99db844",
        "colab": {
          "base_uri": "https://localhost:8080/"
        }
      },
      "outputs": [
        {
          "output_type": "execute_result",
          "data": {
            "text/plain": [
              "1.351464972097427"
            ]
          },
          "metadata": {},
          "execution_count": 111
        }
      ],
      "source": [
        "2*np.sqrt(1/(mFPG+1))*(mFPG*d1+d2*(1+3*mFPG)/2)"
      ]
    },
    {
      "cell_type": "markdown",
      "source": [
        "#For the rear wind shield, $m=-0.0654$ (APG)"
      ],
      "metadata": {
        "id": "uESGaWo9Iv20"
      }
    },
    {
      "cell_type": "code",
      "source": [
        "# compute the value of f''(0)\n",
        "a = blasius(h,L,tol,nmax,mAPG)\n",
        "# recompute the Blasius solution with the optimised value for f''(0)\n",
        "eta,f = RK4(a,h,L,betaH_APG)\n",
        "\n",
        "print(\"Final value for f''(0) = %14.10f\" % f[0,2])"
      ],
      "metadata": {
        "colab": {
          "base_uri": "https://localhost:8080/"
        },
        "id": "iE19i7awJHs3",
        "outputId": "76f85e6b-ea8d-4934-a490-22ba0d1254fb"
      },
      "execution_count": 123,
      "outputs": [
        {
          "output_type": "stream",
          "name": "stdout",
          "text": [
            " x =  5.0000000e-01 (Estimated error  5.0000000e-01 at iteration 1)\n",
            " x =  2.5000000e-01 (Estimated error  2.5000000e-01 at iteration 2)\n",
            " x =  1.2500000e-01 (Estimated error  1.2500000e-01 at iteration 3)\n",
            " x =  1.8750000e-01 (Estimated error  6.2500000e-02 at iteration 4)\n",
            " x =  1.5625000e-01 (Estimated error  3.1250000e-02 at iteration 5)\n",
            " x =  1.7187500e-01 (Estimated error  1.5625000e-02 at iteration 6)\n",
            " x =  1.6406250e-01 (Estimated error  7.8125000e-03 at iteration 7)\n",
            " x =  1.6796875e-01 (Estimated error  3.9062500e-03 at iteration 8)\n",
            " x =  1.6992188e-01 (Estimated error  1.9531250e-03 at iteration 9)\n",
            " x =  1.6894531e-01 (Estimated error  9.7656250e-04 at iteration 10)\n",
            " x =  1.6943359e-01 (Estimated error  4.8828125e-04 at iteration 11)\n",
            " x =  1.6967773e-01 (Estimated error  2.4414062e-04 at iteration 12)\n",
            " x =  1.6955566e-01 (Estimated error  1.2207031e-04 at iteration 13)\n",
            " x =  1.6961670e-01 (Estimated error  6.1035156e-05 at iteration 14)\n",
            " x =  1.6958618e-01 (Estimated error  3.0517578e-05 at iteration 15)\n",
            " x =  1.6960144e-01 (Estimated error  1.5258789e-05 at iteration 16)\n",
            " x =  1.6959381e-01 (Estimated error  7.6293945e-06 at iteration 17)\n",
            " x =  1.6959000e-01 (Estimated error  3.8146973e-06 at iteration 18)\n",
            " x =  1.6959190e-01 (Estimated error  1.9073486e-06 at iteration 19)\n",
            " x =  1.6959286e-01 (Estimated error  9.5367432e-07 at iteration 20)\n",
            "Final value for f''(0) =   0.1695928574\n"
          ]
        }
      ]
    },
    {
      "cell_type": "markdown",
      "source": [
        "```\n",
        "# This is formatted as code\n",
        "```\n",
        "\n",
        "Finally, let us plot the results for the similarity function"
      ],
      "metadata": {
        "id": "dZFIzPilJPgH"
      }
    },
    {
      "cell_type": "code",
      "source": [
        "plt.figure()\n",
        "#plt.plot(f[:,0],eta,'-k',label=\"$f$\")\n",
        "plt.plot(f[:,1],eta,'-r',label=\"$f'$\")\n",
        "#plt.plot(f[:,2],eta,'-b',label=\"$f''$\")\n",
        "plt.xlim([0, 1])\n",
        "plt.ylim([0,10])\n",
        "plt.grid()\n",
        "plt.xlabel(\"$f'$\")\n",
        "plt.ylabel('$\\eta=y/\\Delta$')\n",
        "plt.legend(loc='best')\n",
        "plt.show()"
      ],
      "metadata": {
        "colab": {
          "base_uri": "https://localhost:8080/",
          "height": 481
        },
        "id": "hAnr3LG3JQ_W",
        "outputId": "d94dc6fe-908a-414a-c6d7-c45713037203"
      },
      "execution_count": 124,
      "outputs": [
        {
          "output_type": "display_data",
          "data": {
            "text/plain": [
              "<Figure size 800x500 with 1 Axes>"
            ],
            "image/png": "[encoded data removed]"
          },
          "metadata": {}
        }
      ]
    },
    {
      "cell_type": "markdown",
      "source": [
        "Let us now compute some integral quantities: (Blasius length scale $\\Delta$, boundary-layer thickness $\\delta_{99}$, displacement thickness $\\delta^*$, momentum-loss thickness $\\theta$, shape factor $H_{12}$)"
      ],
      "metadata": {
        "id": "M4a6s7SjJmr7"
      }
    },
    {
      "cell_type": "code",
      "source": [
        "d99 = np.interp(0.99,f[:,1],eta)\n",
        "d1 = eta[-1]-f[-1,0]\n",
        "d2 = np.trapz(f[:,1]*(1-f[:,1]),eta)  # note the difference to Blasius!\n",
        "H12 = d1/d2\n",
        "print('d99   / Delta = %14.10g' % d99)\n",
        "print('dstar / Delta = %14.10g' % d1)\n",
        "print('theta / Delta = %14.10g' % d2)\n",
        "print('H12           = %14.10g' % H12)\n",
        "print('dstar/d99     = %14.10g' % float(d1/d99))\n",
        "print('theta/d99     = %14.10g' % float(d2/d99))\n",
        "\n",
        "print(\"cf*sqrt(Rex) = %14.10g\" % float(2*f[0,2]*np.sqrt(mAPG+1)))\n",
        "print(\"cf*sqrt(Rex) = %14.10g\" % float(2*np.sqrt(1/(mAPG+1))*(mAPG*d1+d2*(1+3*mAPG)/2)))\n",
        "\n"
      ],
      "metadata": {
        "colab": {
          "base_uri": "https://localhost:8080/"
        },
        "id": "xp4ZsDEgJnrq",
        "outputId": "7b7d4cf8-4f77-4a6a-a3c0-fca9c6a35322"
      },
      "execution_count": 90,
      "outputs": [
        {
          "output_type": "stream",
          "name": "stdout",
          "text": [
            "d99   / Delta =    5.611655214\n",
            "dstar / Delta =    2.256650827\n",
            "theta / Delta =   0.7616126614\n",
            "H12           =    2.962990167\n",
            "dstar/d99     =   0.4021364001\n",
            "theta/d99     =    0.135719789\n",
            "cf*sqrt(Rex) =   0.3279068139\n",
            "cf*sqrt(Rex) =   0.3279185648\n"
          ]
        }
      ]
    },
    {
      "cell_type": "code",
      "source": [
        "np.trapz(1-f[:,1],eta)\n",
        "\n"
      ],
      "metadata": {
        "colab": {
          "base_uri": "https://localhost:8080/"
        },
        "id": "o4mP176FJzxQ",
        "outputId": "d31bc502-ebdc-419a-8ded-3799244d69d3"
      },
      "execution_count": 91,
      "outputs": [
        {
          "output_type": "execute_result",
          "data": {
            "text/plain": [
              "2.256652240079973"
            ]
          },
          "metadata": {},
          "execution_count": 91
        }
      ]
    },
    {
      "cell_type": "code",
      "source": [
        "np.trapz(f[:,1]*(1-f[:,1]),eta)\n"
      ],
      "metadata": {
        "colab": {
          "base_uri": "https://localhost:8080/"
        },
        "id": "MoR9cypnKAE3",
        "outputId": "a2ed018e-2d89-4124-e835-d076a20038bc"
      },
      "execution_count": 92,
      "outputs": [
        {
          "output_type": "execute_result",
          "data": {
            "text/plain": [
              "0.7616126614105876"
            ]
          },
          "metadata": {},
          "execution_count": 92
        }
      ]
    },
    {
      "cell_type": "code",
      "source": [
        "2*f[0,2]*np.sqrt(mAPG+1)\n"
      ],
      "metadata": {
        "colab": {
          "base_uri": "https://localhost:8080/"
        },
        "id": "obx3m7SgKBgb",
        "outputId": "ec7076e5-4704-4ccd-f1df-034be58a9930"
      },
      "execution_count": 93,
      "outputs": [
        {
          "output_type": "execute_result",
          "data": {
            "text/plain": [
              "0.32790681389991955"
            ]
          },
          "metadata": {},
          "execution_count": 93
        }
      ]
    },
    {
      "cell_type": "code",
      "source": [
        "2*np.sqrt(1/(mAPG+1))*(mAPG*d1+d2*(1+3*mAPG)/2)"
      ],
      "metadata": {
        "colab": {
          "base_uri": "https://localhost:8080/"
        },
        "id": "GEAJ41kKKCpT",
        "outputId": "e473ba6e-1abe-400e-b337-803f93ec5054"
      },
      "execution_count": 94,
      "outputs": [
        {
          "output_type": "execute_result",
          "data": {
            "text/plain": [
              "0.32791856476932685"
            ]
          },
          "metadata": {},
          "execution_count": 94
        }
      ]
    }
  ],
  "metadata": {
    "kernelspec": {
      "display_name": "Python 3 (ipykernel)",
      "language": "python",
      "name": "python3"
    },
    "language_info": {
      "codemirror_mode": {
        "name": "ipython",
        "version": 3
      },
      "file_extension": ".py",
      "mimetype": "text/x-python",
      "name": "python",
      "nbconvert_exporter": "python",
      "pygments_lexer": "ipython3",
      "version": "3.11.5"
    },
    "colab": {
      "provenance": []
    }
  },
  "nbformat": 4,
  "nbformat_minor": 0
}
