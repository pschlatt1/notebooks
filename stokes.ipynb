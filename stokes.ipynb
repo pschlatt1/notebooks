{
  "cells": [
    {
      "cell_type": "markdown",
      "metadata": {
        "id": "KvILLjfW75hy"
      },
      "source": [
        "# Stokes first and second problem\n",
        "\n",
        "Colab-link: https://colab.research.google.com/github/pschlatt1/notebooks/blob/main/stokes.ipynb\n",
        "\n",
        "Demonstration of Stokes first and second problem.\n",
        "\n",
        "Philipp Schlatter, 2022"
      ]
    },
    {
      "cell_type": "markdown",
      "metadata": {
        "id": "31N-Sdcr75h4"
      },
      "source": [
        "Preliminaries:"
      ]
    },
    {
      "cell_type": "code",
      "source": [
        "import sys\n",
        "IN_COLAB = 'google.colab' in sys.modules\n",
        "if IN_COLAB:\n",
        "  # for Google Colab and interative figures\n",
        "  #!pip install -q ipympl\n",
        "  #get_ipython().kernel.do_shutdown(restart=True)\n",
        "  from google.colab import output\n",
        "  output.enable_custom_widget_manager()"
      ],
      "metadata": {
        "id": "npoq01on8SH1"
      },
      "execution_count": null,
      "outputs": []
    },
    {
      "cell_type": "code",
      "execution_count": null,
      "metadata": {
        "id": "IHUglfrs75h5"
      },
      "outputs": [],
      "source": [
        "%matplotlib widget\n",
        "\n",
        "# Maybe needed on Binder environments\n",
        "#!pip install scipy\n",
        "import numpy as np\n",
        "import ipywidgets as widgets\n",
        "import matplotlib.pyplot as plt\n",
        "import matplotlib.pylab as pylab\n",
        "import matplotlib.animation\n",
        "from scipy.special import erf\n",
        "from IPython import display"
      ]
    },
    {
      "cell_type": "markdown",
      "metadata": {
        "id": "1koLaYtq75h8"
      },
      "source": [
        "\n",
        "## First Stokes problem: Impusively started plate"
      ]
    },
    {
      "cell_type": "markdown",
      "metadata": {
        "id": "W5dEE7lZ75h8"
      },
      "source": [
        "Consider a plate that is impulsively starting to move with velocity $V$ in the $x$-direction for $t>0$. Then,  we can use a similarity approach to solve for the velocity profile $u(y,t)$ above the plate. This solution will contain the so-called *error function* $\\mathrm{erf}(z)$,\n",
        "\n",
        "$$\\mathrm{erf}(z) = \\frac{2}{\\sqrt{\\pi}} \\int_0^z e^{-q^2} \\mathrm{d}q \\ . $$"
      ]
    },
    {
      "cell_type": "code",
      "execution_count": null,
      "metadata": {
        "id": "ZdGM81T775h9"
      },
      "outputs": [],
      "source": [
        "x=np.linspace(-2.5,2.5,101);\n",
        "plt.figure()\n",
        "plt.xlabel(f'$x$')\n",
        "plt.ylabel(f'erf$(x)$')\n",
        "plt.plot( x, erf(x),'b')\n",
        "plt.grid()\n",
        "plt.title('Error function')\n",
        "plt.show()"
      ]
    },
    {
      "cell_type": "markdown",
      "metadata": {
        "id": "tYeLX3ZQ75h-"
      },
      "source": [
        "With the (independent) similarity variable,\n",
        "$$ \\eta =\\frac{y}{\\sqrt{\\nu t}}\\ , $$\n",
        "\n",
        "we obtain the similarity solution $f(\\eta) = u/V$\n",
        "\n",
        "$$f(\\eta) = 1 - \\mathrm{erf}\\left(\\frac{\\eta}{2}\\right) \\ .$$\n",
        "\n",
        "Thus, the actual velocity profile is then given as\n",
        "\n",
        "$$ u(y,t) = V \\left[1 - \\mathrm{erf}\\left(\\frac{y}{2\\sqrt{\\nu t}}\\right) \\right]\\ . $$\n",
        "\n",
        "The value $f(\\eta)=0.01$ is obtained for $\\eta\\approx 3.64$.\n"
      ]
    },
    {
      "cell_type": "code",
      "execution_count": null,
      "metadata": {
        "id": "R-b9EcZ275h_"
      },
      "outputs": [],
      "source": [
        "eta=np.linspace(0,5,101);\n",
        "plt.figure()\n",
        "plt.xlabel(r'$f(\\eta)$')\n",
        "plt.ylabel(r'$\\eta$')\n",
        "plt.plot( 1-erf(eta/2),eta,'b')\n",
        "plt.grid()\n",
        "plt.title(r'Similarity solution $f(\\eta)$')\n",
        "plt.show()"
      ]
    },
    {
      "cell_type": "code",
      "execution_count": null,
      "metadata": {
        "id": "AJELXVsA75iA"
      },
      "outputs": [],
      "source": [
        "y=np.linspace(0,5,101);\n",
        "plt.figure()\n",
        "plt.xlabel(r'$u/V$')\n",
        "plt.ylabel(r'$y$')\n",
        "nu=1\n",
        "u = lambda y,t : 1-erf(y/np.sqrt(nu*t)/2)\n",
        "\n",
        "plt.plot( u(y,0.0001),y,'b')\n",
        "plt.plot( u(y,0.001),y,'b')\n",
        "plt.plot( u(y,0.01),y,'b')\n",
        "plt.plot( u(y,0.1),y,'b')\n",
        "plt.plot( u(y,1),y,'b')\n",
        "plt.plot( u(y,10),y,'b')\n",
        "plt.plot( u(y,100),y,'b')\n",
        "\n",
        "plt.grid()\n",
        "plt.title(r'Stokes first problem ($\\nu=1$)')\n",
        "plt.show()"
      ]
    },
    {
      "cell_type": "code",
      "execution_count": null,
      "metadata": {
        "id": "hGHNASRR75iB"
      },
      "outputs": [],
      "source": [
        "y=np.linspace(0,5,501);\n",
        "plt.figure()\n",
        "plt.xlabel(r'$\\omega_z$')\n",
        "plt.ylabel(r'$y$')\n",
        "nu=1\n",
        "u = lambda y,t : 1-erf(y/np.sqrt(nu*t)/2)\n",
        "\n",
        "plt.plot( np.gradient(-u(y,0.0001),y),y,'b')\n",
        "plt.plot( np.gradient(-u(y,0.001),y),y,'b')\n",
        "plt.plot( np.gradient(-u(y,0.01),y),y,'b')\n",
        "plt.plot( np.gradient(-u(y,0.1),y),y,'b')\n",
        "plt.plot( np.gradient(-u(y,1),y),y,'b')\n",
        "plt.plot( np.gradient(-u(y,10),y),y,'b')\n",
        "plt.plot( np.gradient(-u(y,100),y),y,'b')\n",
        "\n",
        "plt.grid()\n",
        "plt.xlim(-0.1,20)\n",
        "plt.ylim(-0.1,1)\n",
        "plt.title(r'Stokes first problem ($\\nu=1$, $V=1$)')\n",
        "plt.show()"
      ]
    },
    {
      "cell_type": "code",
      "execution_count": null,
      "metadata": {
        "id": "sFcAhDrh75iC"
      },
      "outputs": [],
      "source": [
        "fig,ax = plt.subplots(1)\n",
        "ell, = ax.plot([],[],color='b')\n",
        "tmax=10\n",
        "t=np.arange(0.05,tmax,tmax/200)\n",
        "\n",
        "def init():\n",
        "    ax.set_xlim([-0.1, 1.1])\n",
        "    ax.set_ylim([0, 5])\n",
        "    ax.set_xlabel(r'$u/V$')\n",
        "    ax.set_ylabel(r'$y$')\n",
        "\n",
        "def animate(j):\n",
        "    ell.set_data(u(y,t[j]),y)\n",
        "    ax.set_title(rf'$ \\nu t $={t[j]:.2f}')\n",
        "    return ell,ax\n",
        "\n",
        "ani=matplotlib.animation.FuncAnimation(fig, animate, frames=t.size, init_func=init, repeat=False,blit=True,interval=10)"
      ]
    },
    {
      "cell_type": "code",
      "execution_count": null,
      "metadata": {
        "id": "nlAzI2Hq75iD"
      },
      "outputs": [],
      "source": [
        "video = ani.to_html5_video()\n",
        "html = display.HTML(video)\n",
        "display.display(html)"
      ]
    },
    {
      "cell_type": "markdown",
      "metadata": {
        "id": "JrEVPm-J75iD"
      },
      "source": [
        "## Second Stokes problem: Oscillating plate\n",
        "\n",
        "Let us assume a plate which moves with velocity $V \\cos(\\omega t)$ in the $x$-direction. Then, the velocity profile $u(y,t)$ is obtained as the solution to Stokes second problem as follows:\n",
        "\n",
        "$$u(y,t) = V e^{-k y} \\cos ( \\omega t - k y) \\ ,$$\n",
        "\n",
        "with $k=\\sqrt{\\omega / (2\\nu)}$. A non-dimensional form is then obtained as $u/V(k y, \\omega t)$ and visualised with the following code:"
      ]
    },
    {
      "cell_type": "code",
      "execution_count": null,
      "metadata": {
        "id": "ZRoSn4Iv75iE"
      },
      "outputs": [],
      "source": [
        "yk = np.arange(0,6,0.1)\n",
        "dk = 4.6\n",
        "tmax=2*np.pi # period\n",
        "tom=np.arange(0,tmax,tmax/100)\n",
        "\n",
        "u = lambda tom : np.exp(-yk)*np.cos(yk-tom);\n",
        "um = np.exp(-yk);\n",
        "\n",
        "fig,ax = plt.subplots(1)\n",
        "ell, = ax.plot([],[],color='b')\n",
        "\n",
        "def init():\n",
        "    ax.set_xlim([-1, 1])\n",
        "    ax.set_ylim([0, yk[-1]])\n",
        "    ax.plot(um, yk,'g--')\n",
        "    ax.plot(-um, yk,'g--')\n",
        "    ax.plot([-0.1,0.1],[dk,dk],'g--')\n",
        "    ax.set_xlabel(r'$u / V$')\n",
        "    ax.set_ylabel(r'$y \\cdot k$')\n",
        "\n",
        "def animate(j):\n",
        "    ell.set_data(u(tom[j]),yk)\n",
        "    ax.set_title(rf'$t \\cdot \\omega$={tom[j]:.2f}')\n",
        "    return ell,ax\n",
        "\n",
        "ani=matplotlib.animation.FuncAnimation(fig, animate, frames=tom.size, init_func=init, repeat=False,blit=True,interval=10)"
      ]
    },
    {
      "cell_type": "code",
      "execution_count": null,
      "metadata": {
        "id": "-jxJR8uQ75iE"
      },
      "outputs": [],
      "source": [
        "# convert to html5 video\n",
        "# plt.rcParams['animation.ffmpeg_path'] = '/path_to_your/ffmpeg'\n",
        "video = ani.to_html5_video()\n",
        "html = display.HTML(video)\n",
        "display.display(html)"
      ]
    },
    {
      "cell_type": "code",
      "execution_count": null,
      "metadata": {
        "id": "Un10MUPL75iF"
      },
      "outputs": [],
      "source": []
    }
  ],
  "metadata": {
    "kernelspec": {
      "display_name": "Python 3 (ipykernel)",
      "language": "python",
      "name": "python3"
    },
    "language_info": {
      "codemirror_mode": {
        "name": "ipython",
        "version": 3
      },
      "file_extension": ".py",
      "mimetype": "text/x-python",
      "name": "python",
      "nbconvert_exporter": "python",
      "pygments_lexer": "ipython3",
      "version": "3.11.5"
    },
    "nbTranslate": {
      "displayLangs": [
        "en",
        "pl"
      ],
      "hotkey": "alt-t",
      "langInMainMenu": true,
      "sourceLang": "pl",
      "targetLang": "en",
      "useGoogleTranslate": true
    },
    "colab": {
      "provenance": []
    }
  },
  "nbformat": 4,
  "nbformat_minor": 0
}