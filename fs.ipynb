{
 "cells": [
  {
   "cell_type": "markdown",
   "metadata": {
    "id": "S7sWqR09dle_"
   },
   "source": [
    "# Blasius/Falkner-Skan equation\n",
    "Solved using a simple shooting/bisection method and Runge-Kutta RK4 integration.\n",
    "\n",
    "Adapted 2021-2024 by Philipp Schlatter"
   ]
  },
  {
   "cell_type": "markdown",
   "metadata": {
    "id": "PLYxLeeidlfF"
   },
   "source": [
    " Binder: https://mybinder.org/v2/gh/pschlatt1/notebooks/main?filepath=fs.ipynb\n",
    "\n",
    " Colab: https://colab.research.google.com/github/pschlatt1/notebooks/blob/main/fs.ipynb"
   ]
  },
  {
   "cell_type": "markdown",
   "metadata": {
    "id": "LYVr6VVhdlfG"
   },
   "source": [
    "Preliminaries: To run on Google CoLab use either %matplotlib inline or !pip install ipympl; from google.colab import output; output.enable_custom_widget_manager(); %matplotlib widget"
   ]
  },
  {
   "cell_type": "code",
   "execution_count": 1,
   "metadata": {
    "id": "uk-l9DoWdlfG"
   },
   "outputs": [],
   "source": [
    "import sys\n",
    "IN_COLAB = 'google.colab' in sys.modules\n",
    "if IN_COLAB:\n",
    "  # for Google Colab and interative figures\n",
    "  !pip install -q ipympl\n",
    "  from google.colab import output\n",
    "  output.enable_custom_widget_manager()"
   ]
  },
  {
   "cell_type": "code",
   "execution_count": 2,
   "metadata": {
    "id": "z6PUsX_zdlfI"
   },
   "outputs": [],
   "source": [
    "# if you want LaTeX fonts on Google CoLab use this plus set usetex:True\n",
    "#!apt install texlive-fonts-recommended texlive-fonts-extra cm-super dvipng"
   ]
  },
  {
   "cell_type": "code",
   "execution_count": 3,
   "metadata": {
    "id": "qmlvCJJGdlfI"
   },
   "outputs": [],
   "source": [
    "#%matplotlib notebook\n",
    "%matplotlib widget\n",
    "#%matplotlib inline\n",
    "import numpy as np\n",
    "import matplotlib.pyplot as plt\n",
    "import matplotlib.pylab as pylab\n",
    "params = {'legend.fontsize': 12,\n",
    "          'legend.loc':'best',\n",
    "          'figure.figsize': (8,5),\n",
    "          'lines.markerfacecolor':'none',\n",
    "          'axes.labelsize': 12,\n",
    "          'axes.titlesize': 12,\n",
    "          'xtick.labelsize':12,\n",
    "          'ytick.labelsize':12,\n",
    "          'grid.alpha':0.6,\n",
    "          'text.usetex':False}\n",
    "pylab.rcParams.update(params)"
   ]
  },
  {
   "cell_type": "markdown",
   "metadata": {
    "id": "zqHAoAU1dlfJ"
   },
   "source": [
    "The equation to solve is\n",
    "$$f'''+\\frac{1}{2} f f'' + \\frac{\\beta_H }{2}(1-f' ^2) = 0 \\ ,$$\n",
    "subject to boundary conditions\n",
    "$$f(0)=0, f'(0)=0, f'(\\infty) = 1 \\ .$$\n",
    "\n",
    "The Hartree parameter $\\beta_H$ is related to the acceleration of the velocity as $\\beta_H=2m/(m+1)$. Positive $\\beta_H$ lead to accelerating boundary layers (favourable pressure gradient, FPG), whereas negative $\\beta_H$ are associated with adverse pressure gradient (APG). Separation would occur at $m=-0.090428$.\n",
    "\n",
    "We thus define first our equation in vector form:"
   ]
  },
  {
   "cell_type": "code",
   "execution_count": 4,
   "metadata": {
    "id": "lh8HtH8JdlfK"
   },
   "outputs": [],
   "source": [
    "def ff(u):\n",
    "    f0 =   u[1]\n",
    "    f1 =   u[2]\n",
    "    f2 = - 0.5*u[0] * u[2]  - betaH/2*(1-u[1]**2)\n",
    "    return np.array([f0,f1,f2])"
   ]
  },
  {
   "cell_type": "markdown",
   "metadata": {
    "id": "GgjdMBu4dlfK"
   },
   "source": [
    "and then the Runge-Kutta ODE integrator RK4, using the (unknown) initial value $a$ for $f''(0)$"
   ]
  },
  {
   "cell_type": "code",
   "execution_count": 5,
   "metadata": {
    "id": "-9O735pFdlfL"
   },
   "outputs": [],
   "source": [
    "def RK4(a,h,L):\n",
    "    imax = int(L/h)\n",
    "    X = np.arange(imax+1)*h\n",
    "    U = np.zeros((imax+1,3)); U[0,:] = [0,0,a]\n",
    "    for i in range(imax):\n",
    "        K1 = ff(U[i,:]       )\n",
    "        K2 = ff(U[i,:]+K1*h/2)\n",
    "        K3 = ff(U[i,:]+K2*h/2)\n",
    "        K4 = ff(U[i,:]+K3*h  )\n",
    "        U[i+1,:] = U[i,:] + h*(K1+2*K2+2*K3+K4)/6\n",
    "    return X,U"
   ]
  },
  {
   "cell_type": "markdown",
   "metadata": {
    "id": "jbtxbbe7dlfL"
   },
   "source": [
    "The shooting function returns the value $1-f'(\\infty)$ (approximated as $1-f'(L)$):"
   ]
  },
  {
   "cell_type": "code",
   "execution_count": 6,
   "metadata": {
    "id": "Bp0y2_tZdlfM"
   },
   "outputs": [],
   "source": [
    "def shoot(a,h,L):\n",
    "    X,U = RK4(a,h,L)\n",
    "    return (1.0-U[-1,1])"
   ]
  },
  {
   "cell_type": "markdown",
   "metadata": {
    "id": "B89sqyvadlfM"
   },
   "source": [
    "The function blasius is performing a bisection method, in an effort to bring the error of $f'(L)=1$ below the specified tolerance.  Note that the initial values for the bisection may need to be tweaked a bit."
   ]
  },
  {
   "cell_type": "code",
   "execution_count": 7,
   "metadata": {
    "id": "LU2YspuFdlfM"
   },
   "outputs": [],
   "source": [
    "def blasius(h,L,tol,nmax):\n",
    "    if (betaH>0):\n",
    "        a = 2*m+0.1; fa = shoot(a,h,L)\n",
    "    else:\n",
    "        a = 0.0; fa = shoot(a,h,L)\n",
    "    b = 1.0; fb = shoot(b,h,L)\n",
    "    if (fa*fb > 0 or np.isnan(fa*fb)):\n",
    "        print(\" f(a=%14.7f) = %14.7f\" %(a,fa))\n",
    "        print(\" f(b=%14.7f) = %14.7f\" %(b,fb))\n",
    "        raise RuntimeError('Bad initial interval.')\n",
    "    n = 0; delta = (b-a)/2\n",
    "    while (abs(delta) >= tol and n <= nmax):\n",
    "        delta = (b-a)/2; n = n + 1;\n",
    "        x = a + delta; fx = shoot(x,h,L)\n",
    "        print(\" x = %14.7e (Estimated error %14.7e at iteration %d)\" % (x,abs(delta),n))\n",
    "        if (fx*fa > 0):\n",
    "            a = x;  fa = fx\n",
    "        else:\n",
    "            b = x;  fb = fx\n",
    "        if (n > nmax):\n",
    "            raise RuntimeError('Too many iterations.')\n",
    "    return x"
   ]
  },
  {
   "cell_type": "markdown",
   "metadata": {
    "id": "EL7ygcZodlfN"
   },
   "source": [
    "Finally, the main script calls the blasius function and computes the solution in $\\eta$ and $f$"
   ]
  },
  {
   "cell_type": "code",
   "execution_count": 8,
   "metadata": {
    "colab": {
     "base_uri": "https://localhost:8080/"
    },
    "id": "SgVdR_IrdlfN",
    "outputId": "f2a98a3b-ce7c-4bdd-92cd-92f00dcd46c5"
   },
   "outputs": [
    {
     "name": "stdout",
     "output_type": "stream",
     "text": [
      " m=-9.0428000e-02  beta_H = -1.9883638e-01  wedge angle (degrees): -3.5790548e+01\n"
     ]
    }
   ],
   "source": [
    "# parameters\n",
    "nmax = 100\n",
    "h   = 0.01\n",
    "L   = 30\n",
    "tol = 1e-8\n",
    "m=-0.090428  # minimum possible value\n",
    "#m=0.2  # favourable pressure gradient (FPG)\n",
    "#m=-0.09  # adverse pressure gradient (APG)\n",
    "#m=0  # zero pressure gradient (ZPG)\n",
    "\n",
    "# Compute the Hartree-beta\n",
    "betaH=2*m/(m+1)\n",
    "print(\" m=%14.7e  beta_H = %14.7e  wedge angle (degrees): %14.7e\" % (m,betaH,betaH*180))"
   ]
  },
  {
   "cell_type": "code",
   "execution_count": 9,
   "metadata": {
    "colab": {
     "base_uri": "https://localhost:8080/"
    },
    "id": "EimGG3t_dlfO",
    "outputId": "a9e2aae0-a46b-4145-dd18-bab64a23762a"
   },
   "outputs": [
    {
     "name": "stdout",
     "output_type": "stream",
     "text": [
      " x =  5.0000000e-01 (Estimated error  5.0000000e-01 at iteration 1)\n",
      " x =  2.5000000e-01 (Estimated error  2.5000000e-01 at iteration 2)\n",
      " x =  1.2500000e-01 (Estimated error  1.2500000e-01 at iteration 3)\n",
      " x =  6.2500000e-02 (Estimated error  6.2500000e-02 at iteration 4)\n",
      " x =  3.1250000e-02 (Estimated error  3.1250000e-02 at iteration 5)\n",
      " x =  1.5625000e-02 (Estimated error  1.5625000e-02 at iteration 6)\n",
      " x =  7.8125000e-03 (Estimated error  7.8125000e-03 at iteration 7)\n",
      " x =  3.9062500e-03 (Estimated error  3.9062500e-03 at iteration 8)\n",
      " x =  1.9531250e-03 (Estimated error  1.9531250e-03 at iteration 9)\n",
      " x =  9.7656250e-04 (Estimated error  9.7656250e-04 at iteration 10)\n",
      " x =  4.8828125e-04 (Estimated error  4.8828125e-04 at iteration 11)\n",
      " x =  7.3242188e-04 (Estimated error  2.4414062e-04 at iteration 12)\n",
      " x =  6.1035156e-04 (Estimated error  1.2207031e-04 at iteration 13)\n",
      " x =  6.7138672e-04 (Estimated error  6.1035156e-05 at iteration 14)\n",
      " x =  7.0190430e-04 (Estimated error  3.0517578e-05 at iteration 15)\n",
      " x =  6.8664551e-04 (Estimated error  1.5258789e-05 at iteration 16)\n",
      " x =  6.9427490e-04 (Estimated error  7.6293945e-06 at iteration 17)\n",
      " x =  6.9808960e-04 (Estimated error  3.8146973e-06 at iteration 18)\n",
      " x =  6.9618225e-04 (Estimated error  1.9073486e-06 at iteration 19)\n",
      " x =  6.9713593e-04 (Estimated error  9.5367432e-07 at iteration 20)\n",
      " x =  6.9665909e-04 (Estimated error  4.7683716e-07 at iteration 21)\n",
      " x =  6.9689751e-04 (Estimated error  2.3841858e-07 at iteration 22)\n",
      " x =  6.9701672e-04 (Estimated error  1.1920929e-07 at iteration 23)\n",
      " x =  6.9707632e-04 (Estimated error  5.9604645e-08 at iteration 24)\n",
      " x =  6.9704652e-04 (Estimated error  2.9802322e-08 at iteration 25)\n",
      " x =  6.9703162e-04 (Estimated error  1.4901161e-08 at iteration 26)\n",
      " x =  6.9702417e-04 (Estimated error  7.4505806e-09 at iteration 27)\n",
      "Final value for f''(0) =   0.0006970242\n"
     ]
    }
   ],
   "source": [
    "# compute the value of f''(0)\n",
    "a = blasius(h,L,tol,nmax)\n",
    "# recompute the Blasius solution with the optimised value for f''(0)\n",
    "eta,f = RK4(a,h,L)\n",
    "\n",
    "print(\"Final value for f''(0) = %14.10f\" % f[0,2])"
   ]
  },
  {
   "cell_type": "markdown",
   "metadata": {
    "id": "x5ng9DvCdlfO"
   },
   "source": [
    "Finally, let us plot the results for the similarity function"
   ]
  },
  {
   "cell_type": "code",
   "execution_count": 10,
   "metadata": {
    "colab": {
     "base_uri": "https://localhost:8080/",
     "height": 557,
     "referenced_widgets": [
      "ba3b8fad1b2240d59188a637feca71b8",
      "889ed623e1654ac99ac28008a2f1bac5",
      "9e39fb800ac843809fd59e658e50c33b",
      "74f48641eee54f60b9a274334f94ae49"
     ]
    },
    "id": "py7gwoEadlfP",
    "outputId": "d3300b41-6530-452a-8fca-cad359392022"
   },
   "outputs": [
    {
     "data": {
      "application/vnd.jupyter.widget-view+json": {
       "model_id": "457c4db8f6d34728ad94bd95a77958bd",
       "version_major": 2,
       "version_minor": 0
      },
      "image/png": "[encoded data removed]",
      "text/html": [
       "\n",
       "            <div style=\"display: inline-block;\">\n",
       "                <div class=\"jupyter-widgets widget-label\" style=\"text-align: center;\">\n",
       "                    Figure\n",
       "                </div>\n",
       "                <img src='data:image/png;base64,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' width=800.0/>\n",
       "            </div>\n",
       "        "
      ],
      "text/plain": [
       "Canvas(header_visible=False, toolbar=Toolbar(toolitems=[('Home', 'Reset original view', 'home', 'home'), ('Bac…"
      ]
     },
     "metadata": {},
     "output_type": "display_data"
    }
   ],
   "source": [
    "fig=plt.figure()\n",
    "fig.canvas.header_visible = False\n",
    "plt.title('Solution to the Falkner-Skan equation')\n",
    "plt.plot(f[:,0],eta,'-k',label=\"$f$\")\n",
    "plt.plot(f[:,1],eta,'-r',label=\"$f'$\")\n",
    "plt.plot(f[:,2],eta,'-b',label=\"$f''$\")\n",
    "plt.xlim([0, 2.5])\n",
    "plt.ylim([0,10])\n",
    "plt.grid()\n",
    "plt.xlabel(r\"$f$, $f'$, $f''$\")\n",
    "plt.ylabel(r'$\\eta=y/\\Delta$')\n",
    "plt.legend(loc='best')\n",
    "plt.show()"
   ]
  },
  {
   "cell_type": "markdown",
   "metadata": {
    "id": "EJnJRaJAdlfP"
   },
   "source": [
    "Let us now compute some integral quantities: (Blasius length scale $\\Delta$, boundary-layer thickness $\\delta_{99}$, displacement thickness $\\delta^*$, momentum-loss thickness $\\theta$, shape factor $H_{12}$)"
   ]
  },
  {
   "cell_type": "code",
   "execution_count": 11,
   "metadata": {
    "id": "3Zrco1GadlfP",
    "outputId": "a51aeae9-aeba-4615-8dec-ada6ee34f8a2"
   },
   "outputs": [
    {
     "name": "stdout",
     "output_type": "stream",
     "text": [
      "d99   / Delta =    6.765364655\n",
      "dstar / Delta =    3.328920764\n",
      "theta / Delta =   0.8279264857\n",
      "H12           =    4.020792693\n",
      "dstar/d99     =   0.4920534123\n",
      "theta/d99     =   0.1223772151\n"
     ]
    }
   ],
   "source": [
    "d99 = np.interp(0.99,f[:,1],eta)\n",
    "d1 = eta[-1]-f[-1,0]\n",
    "d2 = np.trapz(f[:,1]*(1-f[:,1]),eta)  # note the difference to Blasius!\n",
    "H12 = d1/d2\n",
    "print('d99   / Delta = %14.10g' % d99)\n",
    "print('dstar / Delta = %14.10g' % d1)\n",
    "print('theta / Delta = %14.10g' % d2)\n",
    "print('H12           = %14.10g' % H12)\n",
    "print('dstar/d99     = %14.10g' % float(d1/d99))\n",
    "print('theta/d99     = %14.10g' % float(d2/d99))"
   ]
  },
  {
   "cell_type": "markdown",
   "metadata": {
    "id": "Sb2WRH14dlfP"
   },
   "source": [
    "The thickness scale $$\\Delta = \\sqrt{\\frac{1}{m+1}\\frac{\\nu x}{U_e}}  $$ is used for non-dimensionalisation of length, and $U_e=K x^m$ for velocity. Thus, the local skin-friction coefficient $$c_f = \\frac{\\tau_w}{\\frac12 \\rho U_e^2}= \\frac{2f''(0)}{\\sqrt{Re_x}}\\sqrt{(m+1)} $$ is computed using the wall-shear stress $$\\tau_w = \\mu \\frac{\\mathrm \\partial u}{\\partial y}|_{y=0} =\\mu \\frac{U_e f''(0)}{\\Delta} =\\frac{\\rho U_e^2}{\\sqrt{Re_x}}f''(0) \\sqrt{m+1}\\ .$$"
   ]
  },
  {
   "cell_type": "code",
   "execution_count": 12,
   "metadata": {
    "id": "sZGPqFtXdlfQ",
    "outputId": "0d37bd89-0592-40e9-e5b7-2a9098cfc7c4"
   },
   "outputs": [
    {
     "name": "stdout",
     "output_type": "stream",
     "text": [
      "cf*sqrt(Rex) = 0.001329524586\n"
     ]
    }
   ],
   "source": [
    "print(\"cf*sqrt(Rex) = %14.10g\" % float(2*f[0,2]*np.sqrt(m+1)))"
   ]
  },
  {
   "cell_type": "markdown",
   "metadata": {
    "id": "pCBDIpKqdlfQ"
   },
   "source": [
    "The von Kármán integral equation states\n",
    "$$\\frac{\\tau_w}{\\rho} = c_f \\cdot \\frac12U_e^2 = U_e \\frac{\\mathrm d U_e}{\\mathrm d x} (\\delta^* + 2\\theta) + U_e^2 \\frac{\\mathrm d \\theta}{\\mathrm d x} \\ ,$$\n",
    "which can be used to verify the above relation for $\\tau_w$:\n",
    "$$\\tau_w = \\frac{\\rho U_e^2}{\\sqrt{Re_x}} \\sqrt{\\frac{1}{m+1}}\\left( m \\frac{\\delta^*}{\\Delta} + \\frac{\\theta}{\\Delta} \\frac{1+3m}{2}\\right)$$\n",
    "and for $c_f$:\n",
    "$$c_f = \\frac{\\tau_w}{\\frac12 \\rho U_e^2} = \\frac{2}{\\sqrt{Re_x}} \\sqrt{\\frac{1}{m+1}}\\left( m \\frac{\\delta^*}{\\Delta} + \\frac{\\theta}{\\Delta} \\frac{1+3m}{2}\\right)$$"
   ]
  },
  {
   "cell_type": "code",
   "execution_count": 13,
   "metadata": {
    "id": "61F9u0ZNdlfQ",
    "outputId": "2f2fb56e-d604-4789-cb0a-ffca42bd365a"
   },
   "outputs": [
    {
     "name": "stdout",
     "output_type": "stream",
     "text": [
      "cf*sqrt(Rex) =   0.0013295203\n"
     ]
    }
   ],
   "source": [
    "print(\"cf*sqrt(Rex) = %14.10g\" % float(2*np.sqrt(1/(m+1))*(m*d1+d2*(1+3*m)/2)))"
   ]
  },
  {
   "cell_type": "markdown",
   "metadata": {
    "id": "dceCVRGddlfR"
   },
   "source": [
    "These integral quantities can also be obtained by integration using the trapezoidal rule:\n",
    "\n",
    "$$\\delta^* = \\int_0^\\infty (1-u/u_\\infty) \\mathrm dy = \\Delta \\int_0^\\infty (1-f') \\mathrm d\\eta$$\n",
    "\n",
    "$$\\theta = \\int_0^\\infty (u/u_\\infty)(1-u/u_\\infty) \\mathrm dy = \\Delta \\int_0^\\infty f'(1-f') \\mathrm d\\eta$$"
   ]
  },
  {
   "cell_type": "code",
   "execution_count": 14,
   "metadata": {
    "id": "54RCmLkcdlfR",
    "outputId": "dd84d2de-695f-4473-ffae-b03d330d16e7"
   },
   "outputs": [
    {
     "data": {
      "text/plain": [
       "3.328920769887297"
      ]
     },
     "execution_count": 14,
     "metadata": {},
     "output_type": "execute_result"
    }
   ],
   "source": [
    "np.trapz(1-f[:,1],eta)             # displacement thickness"
   ]
  },
  {
   "cell_type": "code",
   "execution_count": 15,
   "metadata": {
    "id": "EnTs2qURdlfR",
    "outputId": "67e10a74-88c0-4169-aae6-9f31cababaa9"
   },
   "outputs": [
    {
     "data": {
      "text/plain": [
       "0.8279264856925784"
      ]
     },
     "execution_count": 15,
     "metadata": {},
     "output_type": "execute_result"
    }
   ],
   "source": [
    "np.trapz(f[:,1]*(1-f[:,1]),eta)    # momentum thickness"
   ]
  },
  {
   "cell_type": "code",
   "execution_count": null,
   "metadata": {
    "id": "BIFNHVW5dlfS"
   },
   "outputs": [],
   "source": []
  },
  {
   "cell_type": "code",
   "execution_count": null,
   "metadata": {
    "id": "v33M-lmQdlfS"
   },
   "outputs": [],
   "source": []
  }
 ],
 "metadata": {
  "colab": {
   "provenance": []
  },
  "kernelspec": {
   "display_name": "Python 3 (ipykernel)",
   "language": "python",
   "name": "python3"
  },
  "language_info": {
   "codemirror_mode": {
    "name": "ipython",
    "version": 3
   },
   "file_extension": ".py",
   "mimetype": "text/x-python",
   "name": "python",
   "nbconvert_exporter": "python",
   "pygments_lexer": "ipython3",
   "version": "3.11.5"
  }
 },
 "nbformat": 4,
 "nbformat_minor": 1
}
