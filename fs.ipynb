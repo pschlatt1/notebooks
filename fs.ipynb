{
  "cells": [
    {
      "cell_type": "markdown",
      "metadata": {
        "id": "S7sWqR09dle_"
      },
      "source": [
        "# Blasius/Falkner-Skan equation\n",
        "Solved using a simple shooting/bisection method and Runge-Kutta RK4 integration.\n",
        "\n",
        "Adapted 2021-2024 by Philipp Schlatter"
      ]
    },
    {
      "cell_type": "markdown",
      "metadata": {
        "id": "PLYxLeeidlfF"
      },
      "source": [
        " Binder: https://mybinder.org/v2/gh/pschlatt1/notebooks/main?filepath=fs.ipynb\n",
        "\n",
        " Colab: https://colab.research.google.com/github/pschlatt1/notebooks/blob/main/fs.ipynb"
      ]
    },
    {
      "cell_type": "markdown",
      "metadata": {
        "id": "LYVr6VVhdlfG"
      },
      "source": [
        "Preliminaries: To run on Google CoLab use either %matplotlib inline or !pip install ipympl; from google.colab import output; output.enable_custom_widget_manager(); %matplotlib widget"
      ]
    },
    {
      "cell_type": "code",
      "execution_count": 1,
      "metadata": {
        "id": "uk-l9DoWdlfG"
      },
      "outputs": [],
      "source": [
        "import sys\n",
        "IN_COLAB = 'google.colab' in sys.modules\n",
        "if IN_COLAB:\n",
        "  # for Google Colab and interative figures\n",
        "  !pip install -q ipympl\n",
        "  from google.colab import output\n",
        "  output.enable_custom_widget_manager()"
      ]
    },
    {
      "cell_type": "code",
      "execution_count": 2,
      "metadata": {
        "id": "z6PUsX_zdlfI"
      },
      "outputs": [],
      "source": [
        "# if you want LaTeX fonts on Google CoLab use this plus set usetex:True\n",
        "#!apt install texlive-fonts-recommended texlive-fonts-extra cm-super dvipng"
      ]
    },
    {
      "cell_type": "code",
      "execution_count": 3,
      "metadata": {
        "id": "qmlvCJJGdlfI"
      },
      "outputs": [],
      "source": [
        "#%matplotlib notebook\n",
        "%matplotlib widget\n",
        "#%matplotlib inline\n",
        "import numpy as np\n",
        "import matplotlib.pyplot as plt\n",
        "import matplotlib.pylab as pylab\n",
        "params = {'legend.fontsize': 12,\n",
        "          'legend.loc':'best',\n",
        "          'figure.figsize': (8,5),\n",
        "          'lines.markerfacecolor':'none',\n",
        "          'axes.labelsize': 12,\n",
        "          'axes.titlesize': 12,\n",
        "          'xtick.labelsize':12,\n",
        "          'ytick.labelsize':12,\n",
        "          'grid.alpha':0.6,\n",
        "          'text.usetex':False}\n",
        "pylab.rcParams.update(params)"
      ]
    },
    {
      "cell_type": "markdown",
      "metadata": {
        "id": "zqHAoAU1dlfJ"
      },
      "source": [
        "The equation to solve is\n",
        "$$f'''+\\frac{1}{2} f f'' + \\frac{\\beta_H }{2}(1-f' ^2) = 0 \\ ,$$\n",
        "subject to boundary conditions\n",
        "$$f(0)=0, f'(0)=0, f'(\\infty) = 1 \\ .$$\n",
        "\n",
        "The Hartree parameter $\\beta_H$ is related to the acceleration of the velocity as $\\beta_H=2m/(m+1)$. Positive $\\beta_H$ lead to accelerating boundary layers (favourable pressure gradient, FPG), whereas negative $\\beta_H$ are associated with adverse pressure gradient (APG). Separation would occur at $m=-0.090428$.\n",
        "\n",
        "We thus define first our equation in vector form:"
      ]
    },
    {
      "cell_type": "code",
      "execution_count": 4,
      "metadata": {
        "id": "lh8HtH8JdlfK"
      },
      "outputs": [],
      "source": [
        "def ff(u):\n",
        "    f0 =   u[1]\n",
        "    f1 =   u[2]\n",
        "    f2 = - 0.5*u[0] * u[2]  - betaH/2*(1-u[1]**2)\n",
        "    return np.array([f0,f1,f2])"
      ]
    },
    {
      "cell_type": "markdown",
      "metadata": {
        "id": "GgjdMBu4dlfK"
      },
      "source": [
        "and then the Runge-Kutta ODE integrator RK4, using the (unknown) initial value $a$ for $f''(0)$"
      ]
    },
    {
      "cell_type": "code",
      "execution_count": 5,
      "metadata": {
        "id": "-9O735pFdlfL"
      },
      "outputs": [],
      "source": [
        "def RK4(a,h,L):\n",
        "    imax = int(L/h)\n",
        "    X = np.arange(imax+1)*h\n",
        "    U = np.zeros((imax+1,3)); U[0,:] = [0,0,a]\n",
        "    for i in range(imax):\n",
        "        K1 = ff(U[i,:]       )\n",
        "        K2 = ff(U[i,:]+K1*h/2)\n",
        "        K3 = ff(U[i,:]+K2*h/2)\n",
        "        K4 = ff(U[i,:]+K3*h  )\n",
        "        U[i+1,:] = U[i,:] + h*(K1+2*K2+2*K3+K4)/6\n",
        "    return X,U"
      ]
    },
    {
      "cell_type": "markdown",
      "metadata": {
        "id": "jbtxbbe7dlfL"
      },
      "source": [
        "The shooting function returns the value $1-f'(\\infty)$ (approximated as $1-f'(L)$):"
      ]
    },
    {
      "cell_type": "code",
      "execution_count": 6,
      "metadata": {
        "id": "Bp0y2_tZdlfM"
      },
      "outputs": [],
      "source": [
        "def shoot(a,h,L):\n",
        "    X,U = RK4(a,h,L)\n",
        "    return (1.0-U[-1,1])"
      ]
    },
    {
      "cell_type": "markdown",
      "metadata": {
        "id": "B89sqyvadlfM"
      },
      "source": [
        "The function blasius is performing a bisection method, in an effort to bring the error of $f'(L)=1$ below the specified tolerance.  Note that the initial values for the bisection may need to be tweaked a bit."
      ]
    },
    {
      "cell_type": "code",
      "execution_count": 7,
      "metadata": {
        "id": "LU2YspuFdlfM"
      },
      "outputs": [],
      "source": [
        "def blasius(h,L,tol,nmax):\n",
        "    if (betaH>0):\n",
        "        a = 2*m+0.1; fa = shoot(a,h,L)\n",
        "    else:\n",
        "        a = 0.0; fa = shoot(a,h,L)\n",
        "    b = 1.0; fb = shoot(b,h,L)\n",
        "    if (fa*fb > 0 or np.isnan(fa*fb)):\n",
        "        print(\" f(a=%14.7f) = %14.7f\" %(a,fa))\n",
        "        print(\" f(b=%14.7f) = %14.7f\" %(b,fb))\n",
        "        raise RuntimeError('Bad initial interval.')\n",
        "    n = 0; delta = (b-a)/2\n",
        "    while (abs(delta) >= tol and n <= nmax):\n",
        "        delta = (b-a)/2; n = n + 1;\n",
        "        x = a + delta; fx = shoot(x,h,L)\n",
        "        print(\" x = %14.7e (Estimated error %14.7e at iteration %d)\" % (x,abs(delta),n))\n",
        "        if (fx*fa > 0):\n",
        "            a = x;  fa = fx\n",
        "        else:\n",
        "            b = x;  fb = fx\n",
        "        if (n > nmax):\n",
        "            raise RuntimeError('Too many iterations.')\n",
        "    return x"
      ]
    },
    {
      "cell_type": "markdown",
      "metadata": {
        "id": "EL7ygcZodlfN"
      },
      "source": [
        "Finally, the main script calls the blasius function and computes the solution in $\\eta$ and $f$"
      ]
    },
    {
      "cell_type": "code",
      "execution_count": 10,
      "metadata": {
        "id": "SgVdR_IrdlfN",
        "outputId": "f2a98a3b-ce7c-4bdd-92cd-92f00dcd46c5",
        "colab": {
          "base_uri": "https://localhost:8080/"
        }
      },
      "outputs": [
        {
          "output_type": "stream",
          "name": "stdout",
          "text": [
            " m=-9.0428000e-02  beta_H = -1.9883638e-01  wedge angle (degrees): -3.5790548e+01\n"
          ]
        }
      ],
      "source": [
        "# parameters\n",
        "nmax = 100\n",
        "h   = 0.01\n",
        "L   = 30\n",
        "tol = 1e-8\n",
        "m=-0.090428  # minimum possible value\n",
        "#m=0.2  # favourable pressure gradient (FPG)\n",
        "#m=-0.09  # adverse pressure gradient (APG)\n",
        "#m=0  # zero pressure gradient (ZPG)\n",
        "\n",
        "# Compute the Hartree-beta\n",
        "betaH=2*m/(m+1)\n",
        "print(\" m=%14.7e  beta_H = %14.7e  wedge angle (degrees): %14.7e\" % (m,betaH,betaH*180))"
      ]
    },
    {
      "cell_type": "code",
      "execution_count": 11,
      "metadata": {
        "id": "EimGG3t_dlfO",
        "outputId": "a9e2aae0-a46b-4145-dd18-bab64a23762a",
        "colab": {
          "base_uri": "https://localhost:8080/"
        }
      },
      "outputs": [
        {
          "output_type": "stream",
          "name": "stdout",
          "text": [
            " x =  5.0000000e-01 (Estimated error  5.0000000e-01 at iteration 1)\n",
            " x =  2.5000000e-01 (Estimated error  2.5000000e-01 at iteration 2)\n",
            " x =  1.2500000e-01 (Estimated error  1.2500000e-01 at iteration 3)\n",
            " x =  6.2500000e-02 (Estimated error  6.2500000e-02 at iteration 4)\n",
            " x =  3.1250000e-02 (Estimated error  3.1250000e-02 at iteration 5)\n",
            " x =  1.5625000e-02 (Estimated error  1.5625000e-02 at iteration 6)\n",
            " x =  7.8125000e-03 (Estimated error  7.8125000e-03 at iteration 7)\n",
            " x =  3.9062500e-03 (Estimated error  3.9062500e-03 at iteration 8)\n",
            " x =  1.9531250e-03 (Estimated error  1.9531250e-03 at iteration 9)\n",
            " x =  9.7656250e-04 (Estimated error  9.7656250e-04 at iteration 10)\n",
            " x =  4.8828125e-04 (Estimated error  4.8828125e-04 at iteration 11)\n",
            " x =  7.3242188e-04 (Estimated error  2.4414062e-04 at iteration 12)\n",
            " x =  6.1035156e-04 (Estimated error  1.2207031e-04 at iteration 13)\n",
            " x =  6.7138672e-04 (Estimated error  6.1035156e-05 at iteration 14)\n",
            " x =  7.0190430e-04 (Estimated error  3.0517578e-05 at iteration 15)\n",
            " x =  6.8664551e-04 (Estimated error  1.5258789e-05 at iteration 16)\n",
            " x =  6.9427490e-04 (Estimated error  7.6293945e-06 at iteration 17)\n",
            " x =  6.9808960e-04 (Estimated error  3.8146973e-06 at iteration 18)\n",
            " x =  6.9618225e-04 (Estimated error  1.9073486e-06 at iteration 19)\n",
            " x =  6.9713593e-04 (Estimated error  9.5367432e-07 at iteration 20)\n",
            " x =  6.9665909e-04 (Estimated error  4.7683716e-07 at iteration 21)\n",
            " x =  6.9689751e-04 (Estimated error  2.3841858e-07 at iteration 22)\n",
            " x =  6.9701672e-04 (Estimated error  1.1920929e-07 at iteration 23)\n",
            " x =  6.9707632e-04 (Estimated error  5.9604645e-08 at iteration 24)\n",
            " x =  6.9704652e-04 (Estimated error  2.9802322e-08 at iteration 25)\n",
            " x =  6.9703162e-04 (Estimated error  1.4901161e-08 at iteration 26)\n",
            " x =  6.9702417e-04 (Estimated error  7.4505806e-09 at iteration 27)\n",
            "Final value for f''(0) =   0.0006970242\n"
          ]
        }
      ],
      "source": [
        "# compute the value of f''(0)\n",
        "a = blasius(h,L,tol,nmax)\n",
        "# recompute the Blasius solution with the optimised value for f''(0)\n",
        "eta,f = RK4(a,h,L)\n",
        "\n",
        "print(\"Final value for f''(0) = %14.10f\" % f[0,2])"
      ]
    },
    {
      "cell_type": "markdown",
      "metadata": {
        "id": "x5ng9DvCdlfO"
      },
      "source": [
        "Finally, let us plot the results for the similarity function"
      ]
    },
    {
      "cell_type": "code",
      "execution_count": 12,
      "metadata": {
        "id": "py7gwoEadlfP",
        "outputId": "d3300b41-6530-452a-8fca-cad359392022",
        "colab": {
          "base_uri": "https://localhost:8080/",
          "height": 557,
          "referenced_widgets": [
            "ba3b8fad1b2240d59188a637feca71b8",
            "889ed623e1654ac99ac28008a2f1bac5",
            "9e39fb800ac843809fd59e658e50c33b",
            "74f48641eee54f60b9a274334f94ae49"
          ]
        }
      },
      "outputs": [
        {
          "output_type": "display_data",
          "data": {
            "text/plain": [
              "Canvas(header_visible=False, toolbar=Toolbar(toolitems=[('Home', 'Reset original view', 'home', 'home'), ('Bac…"
            ],
            "image/png": "[encoded data removed]",
            "text/html": [
              "\n",
              "            <div style=\"display: inline-block;\">\n",
              "                <div class=\"jupyter-widgets widget-label\" style=\"text-align: center;\">\n",
              "                    Figure\n",
              "                </div>\n",
              "                <img src='data:image/png;base64,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' width=800.0/>\n",
              "            </div>\n",
              "        "
            ],
            "application/vnd.jupyter.widget-view+json": {
              "version_major": 2,
              "version_minor": 0,
              "model_id": "ba3b8fad1b2240d59188a637feca71b8"
            }
          },
          "metadata": {
            "application/vnd.jupyter.widget-view+json": {
              "colab": {
                "custom_widget_manager": {
                  "url": "https://ssl.gstatic.com/colaboratory-static/widgets/colab-cdn-widget-manager/2b70e893a8ba7c0f/manager.min.js"
                }
              }
            }
          }
        }
      ],
      "source": [
        "fig=plt.figure()\n",
        "fig.canvas.header_visible = False\n",
        "plt.title('Solution to the Falkner-Skan equation')\n",
        "plt.plot(f[:,0],eta,'-k',label=\"$f$\")\n",
        "plt.plot(f[:,1],eta,'-r',label=\"$f'$\")\n",
        "plt.plot(f[:,2],eta,'-b',label=\"$f''$\")\n",
        "plt.xlim([0, 2.5])\n",
        "plt.ylim([0,10])\n",
        "plt.grid()\n",
        "plt.xlabel(r\"$f$, $f'$, $f''$\")\n",
        "plt.ylabel(r'$\\eta=y/\\Delta$')\n",
        "plt.legend(loc='best')\n",
        "plt.show()"
      ]
    },
    {
      "cell_type": "markdown",
      "metadata": {
        "id": "EJnJRaJAdlfP"
      },
      "source": [
        "Let us now compute some integral quantities: (Blasius length scale $\\Delta$, boundary-layer thickness $\\delta_{99}$, displacement thickness $\\delta^*$, momentum-loss thickness $\\theta$, shape factor $H_{12}$)"
      ]
    },
    {
      "cell_type": "code",
      "execution_count": null,
      "metadata": {
        "id": "3Zrco1GadlfP",
        "outputId": "a51aeae9-aeba-4615-8dec-ada6ee34f8a2"
      },
      "outputs": [
        {
          "name": "stdout",
          "output_type": "stream",
          "text": [
            "d99   / Delta =    4.136363492\n",
            "dstar / Delta =    1.258888526\n",
            "theta / Delta =   0.5360546422\n",
            "H12           =    2.348433214\n",
            "dstar/d99     =   0.3043466873\n",
            "theta/d99     =   0.1295956323\n"
          ]
        }
      ],
      "source": [
        "d99 = np.interp(0.99,f[:,1],eta)\n",
        "d1 = eta[-1]-f[-1,0]\n",
        "d2 = np.trapz(f[:,1]*(1-f[:,1]),eta)  # note the difference to Blasius!\n",
        "H12 = d1/d2\n",
        "print('d99   / Delta = %14.10g' % d99)\n",
        "print('dstar / Delta = %14.10g' % d1)\n",
        "print('theta / Delta = %14.10g' % d2)\n",
        "print('H12           = %14.10g' % H12)\n",
        "print('dstar/d99     = %14.10g' % float(d1/d99))\n",
        "print('theta/d99     = %14.10g' % float(d2/d99))"
      ]
    },
    {
      "cell_type": "markdown",
      "metadata": {
        "id": "Sb2WRH14dlfP"
      },
      "source": [
        "The thickness scale $$\\Delta = \\sqrt{\\frac{1}{m+1}\\frac{\\nu x}{U_e}}  $$ is used for non-dimensionalisation of length, and $U_e=K x^m$ for velocity. Thus, the local skin-friction coefficient $$c_f = \\frac{\\tau_w}{\\frac12 \\rho U_e^2}= \\frac{2f''(0)}{\\sqrt{Re_x}}\\sqrt{(m+1)} $$ is computed using the wall-shear stress $$\\tau_w = \\mu \\frac{\\mathrm \\partial u}{\\partial y}|_{y=0} =\\mu \\frac{U_e f''(0)}{\\Delta} =\\frac{\\rho U_e^2}{\\sqrt{Re_x}}f''(0) \\sqrt{m+1}\\ .$$"
      ]
    },
    {
      "cell_type": "code",
      "execution_count": null,
      "metadata": {
        "id": "sZGPqFtXdlfQ",
        "outputId": "0d37bd89-0592-40e9-e5b7-2a9098cfc7c4"
      },
      "outputs": [
        {
          "name": "stdout",
          "output_type": "stream",
          "text": [
            "cf*sqrt(Rex) =    1.242647632\n"
          ]
        }
      ],
      "source": [
        "print(\"cf*sqrt(Rex) = %14.10g\" % float(2*f[0,2]*np.sqrt(m+1)))"
      ]
    },
    {
      "cell_type": "markdown",
      "metadata": {
        "id": "pCBDIpKqdlfQ"
      },
      "source": [
        "The von Kármán integral equation states\n",
        "$$\\frac{\\tau_w}{\\rho} = c_f \\cdot \\frac12U_e^2 = U_e \\frac{\\mathrm d U_e}{\\mathrm d x} (\\delta^* + 2\\theta) + U_e^2 \\frac{\\mathrm d \\theta}{\\mathrm d x} \\ ,$$\n",
        "which can be used to verify the above relation for $\\tau_w$:\n",
        "$$\\tau_w = \\frac{\\rho U_e^2}{\\sqrt{Re_x}} \\sqrt{\\frac{1}{m+1}}\\left( m \\frac{\\delta^*}{\\Delta} + \\frac{\\theta}{\\Delta} \\frac{1+3m}{2}\\right)$$\n",
        "and for $c_f$:\n",
        "$$c_f = \\frac{\\tau_w}{\\frac12 \\rho U_e^2} = \\frac{2}{\\sqrt{Re_x}} \\sqrt{\\frac{1}{m+1}}\\left( m \\frac{\\delta^*}{\\Delta} + \\frac{\\theta}{\\Delta} \\frac{1+3m}{2}\\right)$$"
      ]
    },
    {
      "cell_type": "code",
      "execution_count": null,
      "metadata": {
        "id": "61F9u0ZNdlfQ",
        "outputId": "2f2fb56e-d604-4789-cb0a-ffca42bd365a"
      },
      "outputs": [
        {
          "name": "stdout",
          "output_type": "stream",
          "text": [
            "cf*sqrt(Rex) =    1.242639014\n"
          ]
        }
      ],
      "source": [
        "print(\"cf*sqrt(Rex) = %14.10g\" % float(2*np.sqrt(1/(m+1))*(m*d1+d2*(1+3*m)/2)))"
      ]
    },
    {
      "cell_type": "markdown",
      "metadata": {
        "id": "dceCVRGddlfR"
      },
      "source": [
        "These integral quantities can also be obtained by integration using the trapezoidal rule:\n",
        "\n",
        "$$\\delta^* = \\int_0^\\infty (1-u/u_\\infty) \\mathrm dy = \\Delta \\int_0^\\infty (1-f') \\mathrm d\\eta$$\n",
        "\n",
        "$$\\theta = \\int_0^\\infty (u/u_\\infty)(1-u/u_\\infty) \\mathrm dy = \\Delta \\int_0^\\infty f'(1-f') \\mathrm d\\eta$$"
      ]
    },
    {
      "cell_type": "code",
      "execution_count": null,
      "metadata": {
        "id": "54RCmLkcdlfR",
        "outputId": "dd84d2de-695f-4473-ffae-b03d330d16e7"
      },
      "outputs": [
        {
          "data": {
            "text/plain": [
              "1.258893252890319"
            ]
          },
          "execution_count": 41,
          "metadata": {},
          "output_type": "execute_result"
        }
      ],
      "source": [
        "np.trapz(1-f[:,1],eta)             # displacement thickness"
      ]
    },
    {
      "cell_type": "code",
      "execution_count": null,
      "metadata": {
        "id": "EnTs2qURdlfR",
        "outputId": "67e10a74-88c0-4169-aae6-9f31cababaa9"
      },
      "outputs": [
        {
          "data": {
            "text/plain": [
              "0.5360546421911587"
            ]
          },
          "execution_count": 42,
          "metadata": {},
          "output_type": "execute_result"
        }
      ],
      "source": [
        "np.trapz(f[:,1]*(1-f[:,1]),eta)    # momentum thickness"
      ]
    },
    {
      "cell_type": "code",
      "execution_count": null,
      "metadata": {
        "id": "BIFNHVW5dlfS"
      },
      "outputs": [],
      "source": []
    },
    {
      "cell_type": "code",
      "execution_count": null,
      "metadata": {
        "id": "v33M-lmQdlfS"
      },
      "outputs": [],
      "source": []
    }
  ],
  "metadata": {
    "kernelspec": {
      "display_name": "Python 3 (ipykernel)",
      "language": "python",
      "name": "python3"
    },
    "language_info": {
      "codemirror_mode": {
        "name": "ipython",
        "version": 3
      },
      "file_extension": ".py",
      "mimetype": "text/x-python",
      "name": "python",
      "nbconvert_exporter": "python",
      "pygments_lexer": "ipython3",
      "version": "3.11.5"
    },
    "colab": {
      "provenance": []
    },
    "widgets": {
      "application/vnd.jupyter.widget-state+json": {
        "ba3b8fad1b2240d59188a637feca71b8": {
          "model_module": "jupyter-matplotlib",
          "model_name": "MPLCanvasModel",
          "model_module_version": "^0.11",
          "state": {
            "_cursor": "default",
            "_data_url": "data:image/png;base64,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",
            "_dom_classes": [],
            "_figure_label": "Figure 1",
            "_image_mode": "full",
            "_message": "",
            "_model_module": "jupyter-matplotlib",
            "_model_module_version": "^0.11",
            "_model_name": "MPLCanvasModel",
            "_rubberband_height": 0,
            "_rubberband_width": 0,
            "_rubberband_x": 0,
            "_rubberband_y": 0,
            "_size": [
              800,
              500
            ],
            "_view_count": null,
            "_view_module": "jupyter-matplotlib",
            "_view_module_version": "^0.11",
            "_view_name": "MPLCanvasView",
            "capture_scroll": false,
            "footer_visible": true,
            "header_visible": false,
            "layout": "IPY_MODEL_889ed623e1654ac99ac28008a2f1bac5",
            "pan_zoom_throttle": 33,
            "resizable": true,
            "toolbar": "IPY_MODEL_9e39fb800ac843809fd59e658e50c33b",
            "toolbar_position": "left",
            "toolbar_visible": "fade-in-fade-out"
          }
        },
        "889ed623e1654ac99ac28008a2f1bac5": {
          "model_module": "@jupyter-widgets/base",
          "model_name": "LayoutModel",
          "model_module_version": "1.2.0",
          "state": {
            "_model_module": "@jupyter-widgets/base",
            "_model_module_version": "1.2.0",
            "_model_name": "LayoutModel",
            "_view_count": null,
            "_view_module": "@jupyter-widgets/base",
            "_view_module_version": "1.2.0",
            "_view_name": "LayoutView",
            "align_content": null,
            "align_items": null,
            "align_self": null,
            "border": null,
            "bottom": null,
            "display": null,
            "flex": null,
            "flex_flow": null,
            "grid_area": null,
            "grid_auto_columns": null,
            "grid_auto_flow": null,
            "grid_auto_rows": null,
            "grid_column": null,
            "grid_gap": null,
            "grid_row": null,
            "grid_template_areas": null,
            "grid_template_columns": null,
            "grid_template_rows": null,
            "height": null,
            "justify_content": null,
            "justify_items": null,
            "left": null,
            "margin": null,
            "max_height": null,
            "max_width": null,
            "min_height": null,
            "min_width": null,
            "object_fit": null,
            "object_position": null,
            "order": null,
            "overflow": null,
            "overflow_x": null,
            "overflow_y": null,
            "padding": null,
            "right": null,
            "top": null,
            "visibility": null,
            "width": null
          }
        },
        "9e39fb800ac843809fd59e658e50c33b": {
          "model_module": "jupyter-matplotlib",
          "model_name": "ToolbarModel",
          "model_module_version": "^0.11",
          "state": {
            "_current_action": "",
            "_dom_classes": [],
            "_model_module": "jupyter-matplotlib",
            "_model_module_version": "^0.11",
            "_model_name": "ToolbarModel",
            "_view_count": null,
            "_view_module": "jupyter-matplotlib",
            "_view_module_version": "^0.11",
            "_view_name": "ToolbarView",
            "button_style": "",
            "collapsed": true,
            "layout": "IPY_MODEL_74f48641eee54f60b9a274334f94ae49",
            "orientation": "vertical",
            "toolitems": [
              [
                "Home",
                "Reset original view",
                "home",
                "home"
              ],
              [
                "Back",
                "Back to previous view",
                "arrow-left",
                "back"
              ],
              [
                "Forward",
                "Forward to next view",
                "arrow-right",
                "forward"
              ],
              [
                "Pan",
                "Left button pans, Right button zooms\nx/y fixes axis, CTRL fixes aspect",
                "arrows",
                "pan"
              ],
              [
                "Zoom",
                "Zoom to rectangle\nx/y fixes axis",
                "square-o",
                "zoom"
              ],
              [
                "Download",
                "Download plot",
                "floppy-o",
                "save_figure"
              ]
            ]
          }
        },
        "74f48641eee54f60b9a274334f94ae49": {
          "model_module": "@jupyter-widgets/base",
          "model_name": "LayoutModel",
          "model_module_version": "1.2.0",
          "state": {
            "_model_module": "@jupyter-widgets/base",
            "_model_module_version": "1.2.0",
            "_model_name": "LayoutModel",
            "_view_count": null,
            "_view_module": "@jupyter-widgets/base",
            "_view_module_version": "1.2.0",
            "_view_name": "LayoutView",
            "align_content": null,
            "align_items": null,
            "align_self": null,
            "border": null,
            "bottom": null,
            "display": null,
            "flex": null,
            "flex_flow": null,
            "grid_area": null,
            "grid_auto_columns": null,
            "grid_auto_flow": null,
            "grid_auto_rows": null,
            "grid_column": null,
            "grid_gap": null,
            "grid_row": null,
            "grid_template_areas": null,
            "grid_template_columns": null,
            "grid_template_rows": null,
            "height": null,
            "justify_content": null,
            "justify_items": null,
            "left": null,
            "margin": null,
            "max_height": null,
            "max_width": null,
            "min_height": null,
            "min_width": null,
            "object_fit": null,
            "object_position": null,
            "order": null,
            "overflow": null,
            "overflow_x": null,
            "overflow_y": null,
            "padding": null,
            "right": null,
            "top": null,
            "visibility": null,
            "width": null
          }
        }
      }
    }
  },
  "nbformat": 4,
  "nbformat_minor": 0
}