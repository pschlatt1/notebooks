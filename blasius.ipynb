{
 "cells": [
  {
   "cell_type": "markdown",
   "metadata": {
    "id": "DWfugkR7rIKQ"
   },
   "source": [
    "# Blasius equation\n",
    "Solution using a simple shooting method (bisection) and Runge-Kutta RK4 integration, and some simple comparisons to the quadratic velocity profile.\n",
    "\n",
    "Adapted 2021-2025 by Philipp Schlatter (LSTM, FAU)"
   ]
  },
  {
   "cell_type": "markdown",
   "metadata": {
    "id": "eFgFE41erIKW"
   },
   "source": [
    "Binder: https://mybinder.org/v2/gh/pschlatt1/notebooks/main?filepath=blasius.ipynb\n",
    "\n",
    "Colab: https://colab.research.google.com/github/pschlatt1/notebooks/blob/main/blasius.ipynb"
   ]
  },
  {
   "cell_type": "markdown",
   "metadata": {
    "id": "-uAUIvawrIKX"
   },
   "source": [
    "## Preliminaries"
   ]
  },
  {
   "cell_type": "code",
   "execution_count": 1,
   "metadata": {
    "colab": {
     "base_uri": "https://localhost:8080/"
    },
    "id": "GQoxXA3QsrkQ",
    "outputId": "757aa3ca-78a0-471d-8f57-be06164b0400"
   },
   "outputs": [],
   "source": [
    "import sys\n",
    "IN_COLAB = 'google.colab' in sys.modules\n",
    "if IN_COLAB:\n",
    "  # for Google Colab and interative figures\n",
    "  !pip install -q ipympl\n",
    "  from google.colab import output\n",
    "  output.enable_custom_widget_manager()"
   ]
  },
  {
   "cell_type": "code",
   "execution_count": 2,
   "metadata": {
    "id": "Zz6OQi0orIKX"
   },
   "outputs": [],
   "source": [
    "#%matplotlib notebook\n",
    "#%matplotlib widget\n",
    "%matplotlib inline\n",
    "import numpy as np\n",
    "import matplotlib.pyplot as plt\n",
    "import matplotlib.pylab as pylab\n",
    "params = {'legend.fontsize': 12,\n",
    "          'legend.loc':'best',\n",
    "          'figure.figsize': (8,5),\n",
    "          'lines.markerfacecolor':'none',\n",
    "          'axes.labelsize': 12,\n",
    "          'axes.titlesize': 12,\n",
    "          'xtick.labelsize':12,\n",
    "          'ytick.labelsize':12,\n",
    "          'grid.alpha':0.6,\n",
    "          'text.usetex':False}\n",
    "pylab.rcParams.update(params)"
   ]
  },
  {
   "cell_type": "markdown",
   "metadata": {
    "id": "K72wY0HkrIKZ"
   },
   "source": [
    "## Blasius solution\n",
    "\n",
    "The equation to solve is\n",
    "$$f'''+\\frac{1}{2} f f'' = 0 \\ ,$$\n",
    "subject to boundary conditions\n",
    "$$f(0)=0, f'(0)=0, f'(\\infty) = 1 \\ .$$\n",
    "\n",
    "We thus define first our equation:"
   ]
  },
  {
   "cell_type": "code",
   "execution_count": 3,
   "metadata": {
    "id": "yf5w8YpRrIKZ"
   },
   "outputs": [],
   "source": [
    "def ff(u):\n",
    "    f0 =   u[1]\n",
    "    f1 =   u[2]\n",
    "    f2 = - 0.5*u[0] * u[2]\n",
    "    return np.array([f0,f1,f2])"
   ]
  },
  {
   "cell_type": "markdown",
   "metadata": {
    "id": "PjzKHLnbrIKa"
   },
   "source": [
    "and then the standard Runge-Kutta ODE integrator RK4, using the (unknown) initial value $a$ for $f''(0)$"
   ]
  },
  {
   "cell_type": "code",
   "execution_count": 4,
   "metadata": {
    "id": "JuVVYqf6rIKa"
   },
   "outputs": [],
   "source": [
    "def RK4(a,h,L):\n",
    "    imax = int(L/h)\n",
    "    X = np.arange(imax+1)*h\n",
    "    U = np.zeros((imax+1,3)); U[0,:] = [0,0,a]\n",
    "    for i in range(imax):\n",
    "        K1 = ff(U[i,:]       )\n",
    "        K2 = ff(U[i,:]+K1*h/2)\n",
    "        K3 = ff(U[i,:]+K2*h/2)\n",
    "        K4 = ff(U[i,:]+K3*h  )\n",
    "        U[i+1,:] = U[i,:] + h*(K1+2*K2+2*K3+K4)/6\n",
    "    return X,U"
   ]
  },
  {
   "cell_type": "markdown",
   "metadata": {
    "id": "n2ZomO6VrIKb"
   },
   "source": [
    "The shooting function returns the value $1-f'(\\infty)$ (approximated as $1-f'(L)$):"
   ]
  },
  {
   "cell_type": "code",
   "execution_count": 5,
   "metadata": {
    "id": "GGkjzYgLrIKb"
   },
   "outputs": [],
   "source": [
    "def shoot(a,h,L):\n",
    "    X,U = RK4(a,h,L)\n",
    "    return (1.0-U[-1,1])"
   ]
  },
  {
   "cell_type": "markdown",
   "metadata": {
    "id": "ziAqI3QMrIKc"
   },
   "source": [
    "The function `blasius` is performing a bisection method, in an effort to bring the error of $f'(L)=1$ below the specified tolerance"
   ]
  },
  {
   "cell_type": "code",
   "execution_count": 6,
   "metadata": {
    "id": "_iZnI1AYrIKc"
   },
   "outputs": [],
   "source": [
    "def blasius(h,L,tol,nmax):\n",
    "    a = 0; fa = shoot(a,h,L)\n",
    "    b = 1; fb = shoot(b,h,L)\n",
    "    if (fa*fb > 0):\n",
    "        raise RuntimeError('Bad initial interval.')\n",
    "    n = 0; delta = (b-a)/2\n",
    "    while (abs(delta) >= tol and n <= nmax):\n",
    "        delta = (b-a)/2; n = n + 1;\n",
    "        x = a + delta; fx = shoot(x,h,L)\n",
    "        print(\" x = %14.7e (Estimated error %13.7e at iteration %d)\" % (x,abs(delta),n))\n",
    "        if (fx*fa > 0):\n",
    "            a = x;  fa = fx\n",
    "        else :\n",
    "            b = x;  fb = fx\n",
    "    if (n > nmax):\n",
    "        raise RuntimeError('Too many iterations.')\n",
    "    return x"
   ]
  },
  {
   "cell_type": "markdown",
   "metadata": {
    "id": "MVmJ0cXbrIKd"
   },
   "source": [
    "Finally, the main script calls the `blasius` function and computes the solution in $Y$ and $F$."
   ]
  },
  {
   "cell_type": "code",
   "execution_count": 7,
   "metadata": {
    "id": "7jf-eZbWrIKd"
   },
   "outputs": [],
   "source": [
    "# parameters\n",
    "nmax = 100\n",
    "h   = 0.01\n",
    "L   = 30\n",
    "tol = 1e-8"
   ]
  },
  {
   "cell_type": "code",
   "execution_count": 8,
   "metadata": {
    "colab": {
     "base_uri": "https://localhost:8080/"
    },
    "id": "6RZb8b8QrIKd",
    "outputId": "5b01d22b-5c39-4b36-c52f-410767b12aad"
   },
   "outputs": [
    {
     "name": "stdout",
     "output_type": "stream",
     "text": [
      " x =  5.0000000e-01 (Estimated error 5.0000000e-01 at iteration 1)\n",
      " x =  2.5000000e-01 (Estimated error 2.5000000e-01 at iteration 2)\n",
      " x =  3.7500000e-01 (Estimated error 1.2500000e-01 at iteration 3)\n",
      " x =  3.1250000e-01 (Estimated error 6.2500000e-02 at iteration 4)\n",
      " x =  3.4375000e-01 (Estimated error 3.1250000e-02 at iteration 5)\n",
      " x =  3.2812500e-01 (Estimated error 1.5625000e-02 at iteration 6)\n",
      " x =  3.3593750e-01 (Estimated error 7.8125000e-03 at iteration 7)\n",
      " x =  3.3203125e-01 (Estimated error 3.9062500e-03 at iteration 8)\n",
      " x =  3.3398438e-01 (Estimated error 1.9531250e-03 at iteration 9)\n",
      " x =  3.3300781e-01 (Estimated error 9.7656250e-04 at iteration 10)\n",
      " x =  3.3251953e-01 (Estimated error 4.8828125e-04 at iteration 11)\n",
      " x =  3.3227539e-01 (Estimated error 2.4414062e-04 at iteration 12)\n",
      " x =  3.3215332e-01 (Estimated error 1.2207031e-04 at iteration 13)\n",
      " x =  3.3209229e-01 (Estimated error 6.1035156e-05 at iteration 14)\n",
      " x =  3.3206177e-01 (Estimated error 3.0517578e-05 at iteration 15)\n",
      " x =  3.3204651e-01 (Estimated error 1.5258789e-05 at iteration 16)\n",
      " x =  3.3205414e-01 (Estimated error 7.6293945e-06 at iteration 17)\n",
      " x =  3.3205795e-01 (Estimated error 3.8146973e-06 at iteration 18)\n",
      " x =  3.3205605e-01 (Estimated error 1.9073486e-06 at iteration 19)\n",
      " x =  3.3205700e-01 (Estimated error 9.5367432e-07 at iteration 20)\n",
      " x =  3.3205748e-01 (Estimated error 4.7683716e-07 at iteration 21)\n",
      " x =  3.3205724e-01 (Estimated error 2.3841858e-07 at iteration 22)\n",
      " x =  3.3205736e-01 (Estimated error 1.1920929e-07 at iteration 23)\n",
      " x =  3.3205730e-01 (Estimated error 5.9604645e-08 at iteration 24)\n",
      " x =  3.3205733e-01 (Estimated error 2.9802322e-08 at iteration 25)\n",
      " x =  3.3205734e-01 (Estimated error 1.4901161e-08 at iteration 26)\n",
      " x =  3.3205733e-01 (Estimated error 7.4505806e-09 at iteration 27)\n",
      "Final value for f''(0) = 0.3320573345 \n"
     ]
    }
   ],
   "source": [
    "# compute the value of f''(0)\n",
    "a = blasius(h,L,tol,nmax)\n",
    "# recompute the Blasius solution with the optimised value for f''(0)\n",
    "eta,f = RK4(a,h,L)\n",
    "\n",
    "print(\"Final value for f''(0) = %.10f \" % f[0,2])"
   ]
  },
  {
   "cell_type": "markdown",
   "metadata": {
    "id": "YNOBGSyhrIKe"
   },
   "source": [
    "Finally, let us plot the results for the similarity function and its derivatives:"
   ]
  },
  {
   "cell_type": "code",
   "execution_count": 9,
   "metadata": {
    "colab": {
     "base_uri": "https://localhost:8080/",
     "height": 557,
     "referenced_widgets": [
      "918c16f581d949a48e2424c09840f686",
      "25be05fa0fb546a8a44352259361f65c",
      "b747cb01b27149d7a63af563c7c183ef",
      "7d36f01dcda9477f9985dcc8c4a7c170"
     ]
    },
    "id": "jXHIGCCDrIKf",
    "outputId": "a68f5fce-2cb9-493f-fd9c-9e2feb12c903"
   },
   "outputs": [
    {
     "data": {
      "image/png": "[encoded data removed]",
      "text/plain": [
       "<Figure size 800x500 with 1 Axes>"
      ]
     },
     "metadata": {},
     "output_type": "display_data"
    }
   ],
   "source": [
    "fig=plt.figure()\n",
    "fig.canvas.header_visible = False\n",
    "plt.title('Solution to the Blasius equation')\n",
    "plt.plot(f[:,0],eta,'-b',label=\"$f$\")\n",
    "plt.plot(f[:,1],eta,'-r',label=\"$f'$\")\n",
    "plt.plot(f[:,2],eta,'-g',label=\"$f''$\")\n",
    "plt.xlim([0, 2.5])\n",
    "plt.ylim([0,10])\n",
    "plt.grid()\n",
    "plt.xlabel(r\"$f$, $f'$, $f''$\")\n",
    "plt.ylabel(r'$\\eta = y/\\Delta$')\n",
    "plt.legend(loc='best')\n",
    "plt.show()"
   ]
  },
  {
   "cell_type": "markdown",
   "metadata": {
    "id": "7c9aSwSerIKf"
   },
   "source": [
    "Let us now compute some integral quantities: (Blasius length scale $\\Delta$, boundary-layer thickness $\\delta_{99}$, displacement thickness $\\delta^*$, momentum-loss thickness $\\theta$, shape factor $H_{12}$)"
   ]
  },
  {
   "cell_type": "code",
   "execution_count": 10,
   "metadata": {
    "colab": {
     "base_uri": "https://localhost:8080/"
    },
    "id": "emMWvM0mrIKf",
    "outputId": "6eb64fb0-5140-47a8-ec81-51ec4f603fc8"
   },
   "outputs": [
    {
     "name": "stdout",
     "output_type": "stream",
     "text": [
      "d99   / Delta =    4.909989791\n",
      "dstar / Delta =    1.720787759\n",
      "theta / Delta =    0.664114669\n",
      "H12           =    2.591100362\n",
      "dstar/d99     =   0.3504666674\n",
      "theta/d99     =   0.1352578513\n"
     ]
    }
   ],
   "source": [
    "d99 = np.interp(0.99,f[:,1],eta)\n",
    "d1 = eta[-1]-f[-1,0]\n",
    "d2 = 2*f[0,2]   # only valid for Blasius, otherwise use d2 = np.trapz(f[:,1]*(1-f[:,1]),eta)\n",
    "H12 = d1/d2\n",
    "print('d99   / Delta = %14.10g' % d99)\n",
    "print('dstar / Delta = %14.10g' % d1)\n",
    "print('theta / Delta = %14.10g' % d2)\n",
    "print('H12           = %14.10g' % H12)\n",
    "print('dstar/d99     = %14.10g' % float(d1/d99))\n",
    "print('theta/d99     = %14.10g' % float(d2/d99))"
   ]
  },
  {
   "cell_type": "markdown",
   "metadata": {
    "id": "aGjKkKbSrIKg"
   },
   "source": [
    "## Checks of the integral values using integrals\n",
    "\n",
    "Useful to remember is that the displacement thickness is about a third of $\\delta_{99}$, and the momentum thickness about a tenth of $\\delta_{99}$.\n",
    "\n"
   ]
  },
  {
   "cell_type": "markdown",
   "metadata": {
    "id": "-jIIOeverIKg"
   },
   "source": [
    "The Blasius boundary layer thickness $$\\Delta = \\sqrt{\\frac{\\nu x}{U_\\infty}} = \\frac{x}{\\sqrt{Re_x}} $$ is used for non-dimensionalisation of length, and $U_\\infty$ for velocity. The streamwise velocity is $$u(y/\\Delta)/U_\\infty = f'(\\eta) \\ .$$ Thus, the local skin-friction coefficient $$c_f = \\frac{\\tau_w}{\\frac12 \\rho U_\\infty^2}= \\frac{2 f''(0)}{\\sqrt{Re_x}}=\\frac{0.664}{\\sqrt{Re_x}}$$ is computed using the wall-shear stress $$\\tau_w = \\mu \\frac{\\mathrm \\partial u}{\\partial y}|_{y=0} =\\mu \\frac{U_\\infty f''(0)}{\\Delta} =f''(0) \\frac{\\rho U_\\infty^2}{\\sqrt{Re_x}}\\ .$$"
   ]
  },
  {
   "cell_type": "code",
   "execution_count": 11,
   "metadata": {
    "colab": {
     "base_uri": "https://localhost:8080/"
    },
    "id": "uUYStpgyrIKh",
    "outputId": "defaf23d-20ec-48ac-cdef-1b7cc884caa1"
   },
   "outputs": [
    {
     "name": "stdout",
     "output_type": "stream",
     "text": [
      "2f''(0)     =    0.664114669\n"
     ]
    }
   ],
   "source": [
    "print(\"2f''(0)     = %14.10g\" % float(2*f[0,2]))"
   ]
  },
  {
   "cell_type": "markdown",
   "metadata": {
    "id": "7qEikwu-rIKh"
   },
   "source": [
    "The von Kármán integral equation states for a Blasius boundary layer ($U_\\infty = \\text{constant}$) $$c_f = 2 \\frac{\\mathrm d \\theta}{\\mathrm d x}\\ ,$$\n",
    "and with the definition of $\\theta$ we get\n",
    "$$ c_f = 2 \\frac{\\mathrm d \\theta}{\\mathrm d x} = \\frac{\\theta}{x}\\ ,$$ since $\\theta$ grows as a square root of $x$."
   ]
  },
  {
   "cell_type": "markdown",
   "metadata": {
    "id": "prFx1UyLrIKh"
   },
   "source": [
    "These integral quantities can also be verified by integration using the trapezoidal rule:\n",
    "\n",
    "$$\\delta^* = \\int_0^\\infty (1-u/U_\\infty) \\mathrm dy = \\Delta \\int_0^\\infty (1-f') \\mathrm d\\eta$$\n",
    "\n",
    "$$\\theta = \\int_0^\\infty (u/U_\\infty)(1-u/U_\\infty) \\mathrm dy = \\Delta \\int_0^\\infty f'(1-f') \\mathrm d\\eta$$"
   ]
  },
  {
   "cell_type": "code",
   "execution_count": 12,
   "metadata": {
    "colab": {
     "base_uri": "https://localhost:8080/"
    },
    "id": "Zo8dhQSOrIKh",
    "outputId": "c67820a1-ad14-45b4-f80b-d96b71a94197"
   },
   "outputs": [
    {
     "data": {
      "text/plain": [
       "1.72079052609218"
      ]
     },
     "execution_count": 12,
     "metadata": {},
     "output_type": "execute_result"
    }
   ],
   "source": [
    "np.trapz(1-f[:,1],eta)           # displacement thickness"
   ]
  },
  {
   "cell_type": "code",
   "execution_count": 13,
   "metadata": {
    "colab": {
     "base_uri": "https://localhost:8080/"
    },
    "id": "G4EAlZImrIKi",
    "outputId": "8ad79169-f303-40bb-e4a8-a0df17c95e78"
   },
   "outputs": [
    {
     "data": {
      "text/plain": [
       "0.6641120002512727"
      ]
     },
     "execution_count": 13,
     "metadata": {},
     "output_type": "execute_result"
    }
   ],
   "source": [
    "np.trapz(f[:,1]*(1-f[:,1]),eta)  # momentum thickness"
   ]
  },
  {
   "cell_type": "markdown",
   "metadata": {
    "id": "QY0Fi9MhrIKi"
   },
   "source": [
    "## Comparison with the parabolic profile (e.g. from channel flow)"
   ]
  },
  {
   "cell_type": "code",
   "execution_count": 14,
   "metadata": {
    "id": "1rAZUHpprIKi"
   },
   "outputs": [],
   "source": [
    "par = np.hstack( (-eta[eta<=1]**2+2*eta[eta<=1], -eta[eta>1]*0+1  ))"
   ]
  },
  {
   "cell_type": "code",
   "execution_count": 15,
   "metadata": {
    "colab": {
     "base_uri": "https://localhost:8080/",
     "height": 557,
     "referenced_widgets": [
      "e95257cad418432ba7970a380523fdca",
      "7672520380a841f484078d57c0bc9b05",
      "de877b2b12ba492d99aa739b82267c89",
      "8fcb2bc78a8d4996ac8c43b7dbecb9f6"
     ]
    },
    "id": "IBIhn_0mrIKk",
    "outputId": "4357dfd6-a219-47a2-d8d8-c427e207fd88"
   },
   "outputs": [
    {
     "data": {
      "image/png": "[encoded data removed]",
      "text/plain": [
       "<Figure size 800x500 with 1 Axes>"
      ]
     },
     "metadata": {},
     "output_type": "display_data"
    }
   ],
   "source": [
    "fig=plt.figure()\n",
    "fig.canvas.header_visible = False\n",
    "plt.title('Comparison Blasius and quadratic profile')\n",
    "plt.plot(f[:,1],eta/d99,'-r',label=\"Blasius\")\n",
    "plt.plot(par,eta,'-b',label=\"Parabola\")\n",
    "\n",
    "plt.xlim([0, 1.5])\n",
    "plt.ylim([0,2])\n",
    "plt.grid()\n",
    "plt.xlabel(r\"$u/U_\\infty$\")\n",
    "plt.ylabel(r'$y/\\delta$')\n",
    "plt.legend(loc='best')\n",
    "plt.show()"
   ]
  },
  {
   "cell_type": "code",
   "execution_count": null,
   "metadata": {},
   "outputs": [],
   "source": []
  }
 ],
 "metadata": {
  "colab": {
   "provenance": []
  },
  "kernelspec": {
   "display_name": "Python 3 (ipykernel)",
   "language": "python",
   "name": "python3"
  },
  "language_info": {
   "codemirror_mode": {
    "name": "ipython",
    "version": 3
   },
   "file_extension": ".py",
   "mimetype": "text/x-python",
   "name": "python",
   "nbconvert_exporter": "python",
   "pygments_lexer": "ipython3",
   "version": "3.11.5"
  },
  "widgets": {
   "application/vnd.jupyter.widget-state+json": {
    "25be05fa0fb546a8a44352259361f65c": {
     "model_module": "@jupyter-widgets/base",
     "model_module_version": "1.2.0",
     "model_name": "LayoutModel",
     "state": {
      "_model_module": "@jupyter-widgets/base",
      "_model_module_version": "1.2.0",
      "_model_name": "LayoutModel",
      "_view_count": null,
      "_view_module": "@jupyter-widgets/base",
      "_view_module_version": "1.2.0",
      "_view_name": "LayoutView",
      "align_content": null,
      "align_items": null,
      "align_self": null,
      "border": null,
      "bottom": null,
      "display": null,
      "flex": null,
      "flex_flow": null,
      "grid_area": null,
      "grid_auto_columns": null,
      "grid_auto_flow": null,
      "grid_auto_rows": null,
      "grid_column": null,
      "grid_gap": null,
      "grid_row": null,
      "grid_template_areas": null,
      "grid_template_columns": null,
      "grid_template_rows": null,
      "height": null,
      "justify_content": null,
      "justify_items": null,
      "left": null,
      "margin": null,
      "max_height": null,
      "max_width": null,
      "min_height": null,
      "min_width": null,
      "object_fit": null,
      "object_position": null,
      "order": null,
      "overflow": null,
      "overflow_x": null,
      "overflow_y": null,
      "padding": null,
      "right": null,
      "top": null,
      "visibility": null,
      "width": null
     }
    },
    "7672520380a841f484078d57c0bc9b05": {
     "model_module": "@jupyter-widgets/base",
     "model_module_version": "1.2.0",
     "model_name": "LayoutModel",
     "state": {
      "_model_module": "@jupyter-widgets/base",
      "_model_module_version": "1.2.0",
      "_model_name": "LayoutModel",
      "_view_count": null,
      "_view_module": "@jupyter-widgets/base",
      "_view_module_version": "1.2.0",
      "_view_name": "LayoutView",
      "align_content": null,
      "align_items": null,
      "align_self": null,
      "border": null,
      "bottom": null,
      "display": null,
      "flex": null,
      "flex_flow": null,
      "grid_area": null,
      "grid_auto_columns": null,
      "grid_auto_flow": null,
      "grid_auto_rows": null,
      "grid_column": null,
      "grid_gap": null,
      "grid_row": null,
      "grid_template_areas": null,
      "grid_template_columns": null,
      "grid_template_rows": null,
      "height": null,
      "justify_content": null,
      "justify_items": null,
      "left": null,
      "margin": null,
      "max_height": null,
      "max_width": null,
      "min_height": null,
      "min_width": null,
      "object_fit": null,
      "object_position": null,
      "order": null,
      "overflow": null,
      "overflow_x": null,
      "overflow_y": null,
      "padding": null,
      "right": null,
      "top": null,
      "visibility": null,
      "width": null
     }
    },
    "7d36f01dcda9477f9985dcc8c4a7c170": {
     "model_module": "@jupyter-widgets/base",
     "model_module_version": "1.2.0",
     "model_name": "LayoutModel",
     "state": {
      "_model_module": "@jupyter-widgets/base",
      "_model_module_version": "1.2.0",
      "_model_name": "LayoutModel",
      "_view_count": null,
      "_view_module": "@jupyter-widgets/base",
      "_view_module_version": "1.2.0",
      "_view_name": "LayoutView",
      "align_content": null,
      "align_items": null,
      "align_self": null,
      "border": null,
      "bottom": null,
      "display": null,
      "flex": null,
      "flex_flow": null,
      "grid_area": null,
      "grid_auto_columns": null,
      "grid_auto_flow": null,
      "grid_auto_rows": null,
      "grid_column": null,
      "grid_gap": null,
      "grid_row": null,
      "grid_template_areas": null,
      "grid_template_columns": null,
      "grid_template_rows": null,
      "height": null,
      "justify_content": null,
      "justify_items": null,
      "left": null,
      "margin": null,
      "max_height": null,
      "max_width": null,
      "min_height": null,
      "min_width": null,
      "object_fit": null,
      "object_position": null,
      "order": null,
      "overflow": null,
      "overflow_x": null,
      "overflow_y": null,
      "padding": null,
      "right": null,
      "top": null,
      "visibility": null,
      "width": null
     }
    },
    "8fcb2bc78a8d4996ac8c43b7dbecb9f6": {
     "model_module": "@jupyter-widgets/base",
     "model_module_version": "1.2.0",
     "model_name": "LayoutModel",
     "state": {
      "_model_module": "@jupyter-widgets/base",
      "_model_module_version": "1.2.0",
      "_model_name": "LayoutModel",
      "_view_count": null,
      "_view_module": "@jupyter-widgets/base",
      "_view_module_version": "1.2.0",
      "_view_name": "LayoutView",
      "align_content": null,
      "align_items": null,
      "align_self": null,
      "border": null,
      "bottom": null,
      "display": null,
      "flex": null,
      "flex_flow": null,
      "grid_area": null,
      "grid_auto_columns": null,
      "grid_auto_flow": null,
      "grid_auto_rows": null,
      "grid_column": null,
      "grid_gap": null,
      "grid_row": null,
      "grid_template_areas": null,
      "grid_template_columns": null,
      "grid_template_rows": null,
      "height": null,
      "justify_content": null,
      "justify_items": null,
      "left": null,
      "margin": null,
      "max_height": null,
      "max_width": null,
      "min_height": null,
      "min_width": null,
      "object_fit": null,
      "object_position": null,
      "order": null,
      "overflow": null,
      "overflow_x": null,
      "overflow_y": null,
      "padding": null,
      "right": null,
      "top": null,
      "visibility": null,
      "width": null
     }
    },
    "918c16f581d949a48e2424c09840f686": {
     "model_module": "jupyter-matplotlib",
     "model_module_version": "^0.11",
     "model_name": "MPLCanvasModel",
     "state": {
      "_cursor": "default",
      "_data_url": "data:image/png;base64,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",
      "_dom_classes": [],
      "_figure_label": "Figure 1",
      "_image_mode": "full",
      "_message": "",
      "_model_module": "jupyter-matplotlib",
      "_model_module_version": "^0.11",
      "_model_name": "MPLCanvasModel",
      "_rubberband_height": 0,
      "_rubberband_width": 0,
      "_rubberband_x": 0,
      "_rubberband_y": 0,
      "_size": [
       800,
       500
      ],
      "_view_count": null,
      "_view_module": "jupyter-matplotlib",
      "_view_module_version": "^0.11",
      "_view_name": "MPLCanvasView",
      "capture_scroll": false,
      "footer_visible": true,
      "header_visible": false,
      "layout": "IPY_MODEL_25be05fa0fb546a8a44352259361f65c",
      "pan_zoom_throttle": 33,
      "resizable": true,
      "toolbar": "IPY_MODEL_b747cb01b27149d7a63af563c7c183ef",
      "toolbar_position": "left",
      "toolbar_visible": "fade-in-fade-out"
     }
    },
    "b747cb01b27149d7a63af563c7c183ef": {
     "model_module": "jupyter-matplotlib",
     "model_module_version": "^0.11",
     "model_name": "ToolbarModel",
     "state": {
      "_current_action": "",
      "_dom_classes": [],
      "_model_module": "jupyter-matplotlib",
      "_model_module_version": "^0.11",
      "_model_name": "ToolbarModel",
      "_view_count": null,
      "_view_module": "jupyter-matplotlib",
      "_view_module_version": "^0.11",
      "_view_name": "ToolbarView",
      "button_style": "",
      "collapsed": true,
      "layout": "IPY_MODEL_7d36f01dcda9477f9985dcc8c4a7c170",
      "orientation": "vertical",
      "toolitems": [
       [
        "Home",
        "Reset original view",
        "home",
        "home"
       ],
       [
        "Back",
        "Back to previous view",
        "arrow-left",
        "back"
       ],
       [
        "Forward",
        "Forward to next view",
        "arrow-right",
        "forward"
       ],
       [
        "Pan",
        "Left button pans, Right button zooms\nx/y fixes axis, CTRL fixes aspect",
        "arrows",
        "pan"
       ],
       [
        "Zoom",
        "Zoom to rectangle\nx/y fixes axis",
        "square-o",
        "zoom"
       ],
       [
        "Download",
        "Download plot",
        "floppy-o",
        "save_figure"
       ]
      ]
     }
    },
    "de877b2b12ba492d99aa739b82267c89": {
     "model_module": "jupyter-matplotlib",
     "model_module_version": "^0.11",
     "model_name": "ToolbarModel",
     "state": {
      "_current_action": "",
      "_dom_classes": [],
      "_model_module": "jupyter-matplotlib",
      "_model_module_version": "^0.11",
      "_model_name": "ToolbarModel",
      "_view_count": null,
      "_view_module": "jupyter-matplotlib",
      "_view_module_version": "^0.11",
      "_view_name": "ToolbarView",
      "button_style": "",
      "collapsed": true,
      "layout": "IPY_MODEL_8fcb2bc78a8d4996ac8c43b7dbecb9f6",
      "orientation": "vertical",
      "toolitems": [
       [
        "Home",
        "Reset original view",
        "home",
        "home"
       ],
       [
        "Back",
        "Back to previous view",
        "arrow-left",
        "back"
       ],
       [
        "Forward",
        "Forward to next view",
        "arrow-right",
        "forward"
       ],
       [
        "Pan",
        "Left button pans, Right button zooms\nx/y fixes axis, CTRL fixes aspect",
        "arrows",
        "pan"
       ],
       [
        "Zoom",
        "Zoom to rectangle\nx/y fixes axis",
        "square-o",
        "zoom"
       ],
       [
        "Download",
        "Download plot",
        "floppy-o",
        "save_figure"
       ]
      ]
     }
    },
    "e95257cad418432ba7970a380523fdca": {
     "model_module": "jupyter-matplotlib",
     "model_module_version": "^0.11",
     "model_name": "MPLCanvasModel",
     "state": {
      "_cursor": "default",
      "_data_url": "data:image/png;base64,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",
      "_dom_classes": [],
      "_figure_label": "Figure 2",
      "_image_mode": "full",
      "_message": "",
      "_model_module": "jupyter-matplotlib",
      "_model_module_version": "^0.11",
      "_model_name": "MPLCanvasModel",
      "_rubberband_height": 0,
      "_rubberband_width": 0,
      "_rubberband_x": 0,
      "_rubberband_y": 0,
      "_size": [
       800,
       500
      ],
      "_view_count": null,
      "_view_module": "jupyter-matplotlib",
      "_view_module_version": "^0.11",
      "_view_name": "MPLCanvasView",
      "capture_scroll": false,
      "footer_visible": true,
      "header_visible": false,
      "layout": "IPY_MODEL_7672520380a841f484078d57c0bc9b05",
      "pan_zoom_throttle": 33,
      "resizable": true,
      "toolbar": "IPY_MODEL_de877b2b12ba492d99aa739b82267c89",
      "toolbar_position": "left",
      "toolbar_visible": "fade-in-fade-out"
     }
    }
   }
  }
 },
 "nbformat": 4,
 "nbformat_minor": 1
}
