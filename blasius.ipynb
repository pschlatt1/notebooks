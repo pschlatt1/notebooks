{
 "cells": [
  {
   "cell_type": "markdown",
   "metadata": {
    "id": "DWfugkR7rIKQ"
   },
   "source": [
    "# Blasius equation\n",
    "Solution using a simple shooting method (bisection) and Runge-Kutta RK4 integration, and some simple comparisons to the quadratic velocity profile.\n",
    "\n",
    "Adapted 2021-2025 by Philipp Schlatter (LSTM, FAU)"
   ]
  },
  {
   "cell_type": "markdown",
   "metadata": {
    "id": "eFgFE41erIKW"
   },
   "source": [
    "Binder: https://mybinder.org/v2/gh/pschlatt1/notebooks/main?filepath=blasius.ipynb\n",
    "\n",
    "Colab: https://colab.research.google.com/github/pschlatt1/notebooks/blob/main/blasius.ipynb"
   ]
  },
  {
   "cell_type": "markdown",
   "metadata": {
    "id": "AQdwTY13_pms"
   },
   "source": [
    "<a target=\"_blank\" href=\"https://colab.research.google.com/github/pschlatt1/notebooks/blob/main/blasius.ipynb\">\n",
    "  <img src=\"https://colab.research.google.com/assets/colab-badge.svg\" alt=\"Open In Colab\"/>\n",
    "</a>"
   ]
  },
  {
   "cell_type": "markdown",
   "metadata": {
    "id": "-uAUIvawrIKX"
   },
   "source": [
    "## Preliminaries"
   ]
  },
  {
   "cell_type": "code",
   "execution_count": null,
   "metadata": {
    "id": "GQoxXA3QsrkQ"
   },
   "outputs": [],
   "source": [
    "import sys\n",
    "IN_COLAB = 'google.colab' in sys.modules\n",
    "if IN_COLAB:\n",
    "  # for Google Colab and interative figures\n",
    "  !pip install -q ipympl\n",
    "  get_ipython().kernel.do_shutdown(restart=True)"
   ]
  },
  {
   "cell_type": "code",
   "execution_count": null,
   "metadata": {
    "id": "Vrh9RXGq0Y-c"
   },
   "outputs": [],
   "source": [
    "import sys\n",
    "IN_COLAB = 'google.colab' in sys.modules\n",
    "if IN_COLAB:\n",
    "  # for Google Colab and interative figures\n",
    "  # !pip install -q ipympl\n",
    "  #get_ipython().kernel.do_shutdown(restart=True)\n",
    "  from google.colab import output\n",
    "  output.enable_custom_widget_manager()"
   ]
  },
  {
   "cell_type": "code",
   "execution_count": null,
   "metadata": {
    "id": "Zz6OQi0orIKX"
   },
   "outputs": [],
   "source": [
    "#%matplotlib notebook\n",
    "%matplotlib widget\n",
    "#%matplotlib inline\n",
    "import numpy as np\n",
    "import matplotlib.pyplot as plt\n",
    "import matplotlib.pylab as pylab\n",
    "params = {'legend.fontsize': 12,\n",
    "          'legend.loc':'best',\n",
    "          'figure.figsize': (8,5),\n",
    "          'lines.markerfacecolor':'none',\n",
    "          'axes.labelsize': 12,\n",
    "          'axes.titlesize': 12,\n",
    "          'xtick.labelsize':12,\n",
    "          'ytick.labelsize':12,\n",
    "          'grid.alpha':0.6,\n",
    "          'text.usetex':False}\n",
    "pylab.rcParams.update(params)"
   ]
  },
  {
   "cell_type": "markdown",
   "metadata": {
    "id": "K72wY0HkrIKZ"
   },
   "source": [
    "## Blasius solution\n",
    "\n",
    "The equation to solve is\n",
    "$$f'''+\\frac{1}{2} f f'' = 0 \\ ,$$\n",
    "subject to boundary conditions\n",
    "$$f(0)=0, f'(0)=0, f'(\\infty) = 1 \\ .$$\n",
    "\n",
    "We thus define first our equation:"
   ]
  },
  {
   "cell_type": "code",
   "execution_count": null,
   "metadata": {
    "id": "yf5w8YpRrIKZ"
   },
   "outputs": [],
   "source": [
    "def ff(u):\n",
    "    f0 =   u[1]\n",
    "    f1 =   u[2]\n",
    "    f2 = - 0.5*u[0] * u[2]\n",
    "    return np.array([f0,f1,f2])"
   ]
  },
  {
   "cell_type": "markdown",
   "metadata": {
    "id": "PjzKHLnbrIKa"
   },
   "source": [
    "and then the standard Runge-Kutta ODE integrator RK4, using the (unknown) initial value $a$ for $f''(0)$"
   ]
  },
  {
   "cell_type": "code",
   "execution_count": null,
   "metadata": {
    "id": "JuVVYqf6rIKa"
   },
   "outputs": [],
   "source": [
    "def RK4(a,h,L):\n",
    "    imax = int(L/h)\n",
    "    X = np.arange(imax+1)*h\n",
    "    U = np.zeros((imax+1,3)); U[0,:] = [0,0,a]\n",
    "    for i in range(imax):\n",
    "        K1 = ff(U[i,:]       )\n",
    "        K2 = ff(U[i,:]+K1*h/2)\n",
    "        K3 = ff(U[i,:]+K2*h/2)\n",
    "        K4 = ff(U[i,:]+K3*h  )\n",
    "        U[i+1,:] = U[i,:] + h*(K1+2*K2+2*K3+K4)/6\n",
    "    return X,U"
   ]
  },
  {
   "cell_type": "markdown",
   "metadata": {
    "id": "n2ZomO6VrIKb"
   },
   "source": [
    "The shooting function returns the value $1-f'(\\infty)$ (approximated as $1-f'(L)$):"
   ]
  },
  {
   "cell_type": "code",
   "execution_count": null,
   "metadata": {
    "id": "GGkjzYgLrIKb"
   },
   "outputs": [],
   "source": [
    "def shoot(a,h,L):\n",
    "    X,U = RK4(a,h,L)\n",
    "    return (1.0-U[-1,1])"
   ]
  },
  {
   "cell_type": "markdown",
   "metadata": {
    "id": "ziAqI3QMrIKc"
   },
   "source": [
    "The function `blasius` is performing a bisection method, in an effort to bring the error of $f'(L)=1$ below the specified tolerance"
   ]
  },
  {
   "cell_type": "code",
   "execution_count": null,
   "metadata": {
    "id": "_iZnI1AYrIKc"
   },
   "outputs": [],
   "source": [
    "def blasius(h,L,tol,nmax):\n",
    "    a = 0; fa = shoot(a,h,L)\n",
    "    b = 1; fb = shoot(b,h,L)\n",
    "    if (fa*fb > 0):\n",
    "        raise RuntimeError('Bad initial interval.')\n",
    "    n = 0; delta = (b-a)/2\n",
    "    while (abs(delta) >= tol and n <= nmax):\n",
    "        delta = (b-a)/2; n = n + 1;\n",
    "        x = a + delta; fx = shoot(x,h,L)\n",
    "        print(\" x = %14.7e (Estimated error %13.7e at iteration %d)\" % (x,abs(delta),n))\n",
    "        if (fx*fa > 0):\n",
    "            a = x;  fa = fx\n",
    "        else :\n",
    "            b = x;  fb = fx\n",
    "    if (n > nmax):\n",
    "        raise RuntimeError('Too many iterations.')\n",
    "    return x"
   ]
  },
  {
   "cell_type": "markdown",
   "metadata": {
    "id": "MVmJ0cXbrIKd"
   },
   "source": [
    "Finally, the main script calls the `blasius` function and computes the solution in $Y$ and $F$."
   ]
  },
  {
   "cell_type": "code",
   "execution_count": null,
   "metadata": {
    "id": "7jf-eZbWrIKd"
   },
   "outputs": [],
   "source": [
    "# parameters\n",
    "nmax = 100\n",
    "h   = 0.01\n",
    "L   = 30\n",
    "tol = 1e-8"
   ]
  },
  {
   "cell_type": "code",
   "execution_count": null,
   "metadata": {
    "colab": {
     "base_uri": "https://localhost:8080/"
    },
    "id": "6RZb8b8QrIKd",
    "outputId": "34ee4dff-1cf0-4b90-8de3-ac26130be496"
   },
   "outputs": [],
   "source": [
    "# compute the value of f''(0)\n",
    "a = blasius(h,L,tol,nmax)\n",
    "# recompute the Blasius solution with the optimised value for f''(0)\n",
    "eta,f = RK4(a,h,L)\n",
    "\n",
    "print(\"Final value for f''(0) = %.10f \" % f[0,2])"
   ]
  },
  {
   "cell_type": "markdown",
   "metadata": {
    "id": "YNOBGSyhrIKe"
   },
   "source": [
    "Finally, let us plot the results for the similarity function and its derivatives:"
   ]
  },
  {
   "cell_type": "code",
   "execution_count": null,
   "metadata": {
    "colab": {
     "base_uri": "https://localhost:8080/",
     "height": 589,
     "referenced_widgets": [
      "45d22a1171244631aaa93515ad536870",
      "256cac4f34c542cfa1cde3562270f647",
      "7ed82b87efc04148bc5282d7a2da8cb2",
      "4f01c580f160404a99d2341fc4f87b62"
     ]
    },
    "id": "jXHIGCCDrIKf",
    "outputId": "44c20196-3f06-48e4-dc5a-d50759e914c9"
   },
   "outputs": [],
   "source": [
    "fig=plt.figure()\n",
    "#fig.canvas.header_visible = False\n",
    "plt.title('Solution to the Blasius equation')\n",
    "plt.plot(f[:,0],eta,'-b',label=\"$f$\")\n",
    "plt.plot(f[:,1],eta,'-r',label=\"$f'$\")\n",
    "plt.plot(f[:,2],eta,'-g',label=\"$f''$\")\n",
    "plt.xlim([0, 2.5])\n",
    "plt.ylim([0,10])\n",
    "plt.grid()\n",
    "plt.xlabel(r\"$f$, $f'$, $f''$\")\n",
    "plt.ylabel(r'$\\eta = y/\\Delta$')\n",
    "plt.legend(loc='best')\n",
    "plt.show()"
   ]
  },
  {
   "cell_type": "markdown",
   "metadata": {
    "id": "7c9aSwSerIKf"
   },
   "source": [
    "Let us now compute some integral quantities: (Blasius length scale $\\Delta$, boundary-layer thickness $\\delta_{99}$, displacement thickness $\\delta^*$, momentum-loss thickness $\\theta$, shape factor $H_{12}$)"
   ]
  },
  {
   "cell_type": "code",
   "execution_count": null,
   "metadata": {
    "colab": {
     "base_uri": "https://localhost:8080/"
    },
    "id": "emMWvM0mrIKf",
    "outputId": "0afbc0d4-4e7e-42c9-d2cb-94b34467d1bb"
   },
   "outputs": [],
   "source": [
    "d99 = np.interp(0.99,f[:,1],eta)\n",
    "d1 = eta[-1]-f[-1,0]\n",
    "d2 = 2*f[0,2]   # only valid for Blasius, otherwise use d2 = np.trapz(f[:,1]*(1-f[:,1]),eta)\n",
    "H12 = d1/d2\n",
    "print('d99   / Delta = %14.10g' % d99)\n",
    "print('dstar / Delta = %14.10g' % d1)\n",
    "print('theta / Delta = %14.10g' % d2)\n",
    "print('H12           = %14.10g' % H12)\n",
    "print('dstar/d99     = %14.10g' % float(d1/d99))\n",
    "print('theta/d99     = %14.10g' % float(d2/d99))"
   ]
  },
  {
   "cell_type": "markdown",
   "metadata": {
    "id": "aGjKkKbSrIKg"
   },
   "source": [
    "## Checks of the integral values using integrals\n",
    "\n",
    "Useful to remember is that the displacement thickness is about a third of $\\delta_{99}$, and the momentum thickness about a tenth of $\\delta_{99}$.\n",
    "\n"
   ]
  },
  {
   "cell_type": "markdown",
   "metadata": {
    "id": "-jIIOeverIKg"
   },
   "source": [
    "The Blasius boundary layer thickness $$\\Delta = \\sqrt{\\frac{\\nu x}{U_\\infty}} = \\frac{x}{\\sqrt{Re_x}} $$ is used for non-dimensionalisation of length, and $U_\\infty$ for velocity. The streamwise velocity is $$u(y/\\Delta)/U_\\infty = f'(\\eta) \\ .$$ Thus, the local skin-friction coefficient $$c_f = \\frac{\\tau_w}{\\frac12 \\rho U_\\infty^2}= \\frac{2 f''(0)}{\\sqrt{Re_x}}=\\frac{0.664}{\\sqrt{Re_x}}$$ is computed using the wall-shear stress $$\\tau_w = \\mu \\frac{\\mathrm \\partial u}{\\partial y}|_{y=0} =\\mu \\frac{U_\\infty f''(0)}{\\Delta} =f''(0) \\frac{\\rho U_\\infty^2}{\\sqrt{Re_x}}\\ .$$"
   ]
  },
  {
   "cell_type": "code",
   "execution_count": null,
   "metadata": {
    "colab": {
     "base_uri": "https://localhost:8080/"
    },
    "id": "uUYStpgyrIKh",
    "outputId": "0c84fc86-0ff1-4e85-c230-4e4937784f87"
   },
   "outputs": [],
   "source": [
    "print(\"2f''(0)     = %14.10g\" % float(2*f[0,2]))"
   ]
  },
  {
   "cell_type": "markdown",
   "metadata": {
    "id": "7qEikwu-rIKh"
   },
   "source": [
    "The von Kármán integral equation states for a Blasius boundary layer ($U_\\infty = \\text{constant}$) $$c_f = 2 \\frac{\\mathrm d \\theta}{\\mathrm d x}\\ ,$$\n",
    "and with the definition of $\\theta$ we get\n",
    "$$ c_f = 2 \\frac{\\mathrm d \\theta}{\\mathrm d x} = \\frac{\\theta}{x}\\ ,$$ since $\\theta$ grows as a square root of $x$."
   ]
  },
  {
   "cell_type": "markdown",
   "metadata": {
    "id": "prFx1UyLrIKh"
   },
   "source": [
    "These integral quantities can also be verified by integration using the trapezoidal rule:\n",
    "\n",
    "$$\\delta^* = \\int_0^\\infty (1-u/U_\\infty) \\mathrm dy = \\Delta \\int_0^\\infty (1-f') \\mathrm d\\eta$$\n",
    "\n",
    "$$\\theta = \\int_0^\\infty (u/U_\\infty)(1-u/U_\\infty) \\mathrm dy = \\Delta \\int_0^\\infty f'(1-f') \\mathrm d\\eta$$"
   ]
  },
  {
   "cell_type": "code",
   "execution_count": null,
   "metadata": {
    "colab": {
     "base_uri": "https://localhost:8080/"
    },
    "id": "Zo8dhQSOrIKh",
    "outputId": "8d999f3f-bdf4-4a3b-f9df-767f3416d28f"
   },
   "outputs": [],
   "source": [
    "np.trapz(1-f[:,1],eta)           # displacement thickness"
   ]
  },
  {
   "cell_type": "code",
   "execution_count": null,
   "metadata": {
    "colab": {
     "base_uri": "https://localhost:8080/"
    },
    "id": "G4EAlZImrIKi",
    "outputId": "1a23900b-3c37-4b7e-b2da-e56f2664f933"
   },
   "outputs": [],
   "source": [
    "np.trapz(f[:,1]*(1-f[:,1]),eta)  # momentum thickness"
   ]
  },
  {
   "cell_type": "markdown",
   "metadata": {
    "id": "QY0Fi9MhrIKi"
   },
   "source": [
    "## Comparison with the parabolic profile and Polhausen profile\n",
    "\n",
    "For a ZPG case, the parabolic profile (e.g. a half-channel flow profile) is a good approximation to the Blasius profile. For more complicated cases (APG etc.), the fourth-order Pohlhausen profile should be preferred."
   ]
  },
  {
   "cell_type": "code",
   "execution_count": null,
   "metadata": {
    "id": "1rAZUHpprIKi"
   },
   "outputs": [],
   "source": [
    "par = np.hstack( (-eta[eta<=1]**2+2*eta[eta<=1], -eta[eta>1]*0+1  ))\n",
    "\n",
    "PolHausen = np.hstack( (-2*eta[eta<=1]**3+2*eta[eta<=1]+eta[eta<=1]**4, -eta[eta>1]*0+1  ))"
   ]
  },
  {
   "cell_type": "markdown",
   "metadata": {
    "id": "FA7uMRiN_ygl"
   },
   "source": [
    "Plot the comparison:"
   ]
  },
  {
   "cell_type": "code",
   "execution_count": null,
   "metadata": {
    "colab": {
     "base_uri": "https://localhost:8080/",
     "height": 589,
     "referenced_widgets": [
      "6df1d4a500814f1984b13183d5728e26",
      "8cd19f9be04c4d37876ff8e35a2c2fe1",
      "b453858833994b23800f7a8ecff1fc12",
      "a5ce696d47d74af5a69ca878787bf17a"
     ]
    },
    "id": "IBIhn_0mrIKk",
    "outputId": "a105e236-a7b1-4bfb-d3df-be327377ddad"
   },
   "outputs": [],
   "source": [
    "fig=plt.figure()\n",
    "#fig.canvas.header_visible = False\n",
    "plt.title('Comparison Blasius and quadratic profile')\n",
    "plt.plot(f[:,1],eta/d99,'-r',label=\"Blasius\")\n",
    "plt.plot(par,eta,'-b',label=\"Parabola\")\n",
    "plt.plot(PolHausen,eta,'-m',label=\"Pohlhausen\")\n",
    "\n",
    "plt.xlim([0, 1.5])\n",
    "plt.ylim([0,2])\n",
    "plt.grid()\n",
    "plt.xlabel(r\"$u/U_\\infty$\")\n",
    "plt.ylabel(r'$y/\\delta$')\n",
    "plt.legend(loc='best')\n",
    "plt.show()"
   ]
  },
  {
   "cell_type": "code",
   "execution_count": null,
   "metadata": {
    "id": "jue-voNi_pmv"
   },
   "outputs": [],
   "source": []
  }
 ],
 "metadata": {
  "colab": {
   "provenance": []
  },
  "kernelspec": {
   "display_name": "Python 3 (ipykernel)",
   "language": "python",
   "name": "python3"
  },
  "language_info": {
   "codemirror_mode": {
    "name": "ipython",
    "version": 3
   },
   "file_extension": ".py",
   "mimetype": "text/x-python",
   "name": "python",
   "nbconvert_exporter": "python",
   "pygments_lexer": "ipython3",
   "version": "3.11.5"
  },
  "widgets": {
   "application/vnd.jupyter.widget-state+json": {
    "256cac4f34c542cfa1cde3562270f647": {
     "model_module": "@jupyter-widgets/base",
     "model_module_version": "1.2.0",
     "model_name": "LayoutModel",
     "state": {
      "_model_module": "@jupyter-widgets/base",
      "_model_module_version": "1.2.0",
      "_model_name": "LayoutModel",
      "_view_count": null,
      "_view_module": "@jupyter-widgets/base",
      "_view_module_version": "1.2.0",
      "_view_name": "LayoutView",
      "align_content": null,
      "align_items": null,
      "align_self": null,
      "border": null,
      "bottom": null,
      "display": null,
      "flex": null,
      "flex_flow": null,
      "grid_area": null,
      "grid_auto_columns": null,
      "grid_auto_flow": null,
      "grid_auto_rows": null,
      "grid_column": null,
      "grid_gap": null,
      "grid_row": null,
      "grid_template_areas": null,
      "grid_template_columns": null,
      "grid_template_rows": null,
      "height": null,
      "justify_content": null,
      "justify_items": null,
      "left": null,
      "margin": null,
      "max_height": null,
      "max_width": null,
      "min_height": null,
      "min_width": null,
      "object_fit": null,
      "object_position": null,
      "order": null,
      "overflow": null,
      "overflow_x": null,
      "overflow_y": null,
      "padding": null,
      "right": null,
      "top": null,
      "visibility": null,
      "width": null
     }
    },
    "45d22a1171244631aaa93515ad536870": {
     "model_module": "jupyter-matplotlib",
     "model_module_version": "^0.11",
     "model_name": "MPLCanvasModel",
     "state": {
      "_cursor": "default",
      "_data_url": "data:image/png;base64,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",
      "_dom_classes": [],
      "_figure_label": "Figure 1",
      "_image_mode": "full",
      "_message": "",
      "_model_module": "jupyter-matplotlib",
      "_model_module_version": "^0.11",
      "_model_name": "MPLCanvasModel",
      "_rubberband_height": 0,
      "_rubberband_width": 0,
      "_rubberband_x": 0,
      "_rubberband_y": 0,
      "_size": [
       800,
       500
      ],
      "_view_count": null,
      "_view_module": "jupyter-matplotlib",
      "_view_module_version": "^0.11",
      "_view_name": "MPLCanvasView",
      "capture_scroll": false,
      "footer_visible": true,
      "header_visible": true,
      "layout": "IPY_MODEL_256cac4f34c542cfa1cde3562270f647",
      "pan_zoom_throttle": 33,
      "resizable": true,
      "toolbar": "IPY_MODEL_7ed82b87efc04148bc5282d7a2da8cb2",
      "toolbar_position": "left",
      "toolbar_visible": "fade-in-fade-out"
     }
    },
    "4f01c580f160404a99d2341fc4f87b62": {
     "model_module": "@jupyter-widgets/base",
     "model_module_version": "1.2.0",
     "model_name": "LayoutModel",
     "state": {
      "_model_module": "@jupyter-widgets/base",
      "_model_module_version": "1.2.0",
      "_model_name": "LayoutModel",
      "_view_count": null,
      "_view_module": "@jupyter-widgets/base",
      "_view_module_version": "1.2.0",
      "_view_name": "LayoutView",
      "align_content": null,
      "align_items": null,
      "align_self": null,
      "border": null,
      "bottom": null,
      "display": null,
      "flex": null,
      "flex_flow": null,
      "grid_area": null,
      "grid_auto_columns": null,
      "grid_auto_flow": null,
      "grid_auto_rows": null,
      "grid_column": null,
      "grid_gap": null,
      "grid_row": null,
      "grid_template_areas": null,
      "grid_template_columns": null,
      "grid_template_rows": null,
      "height": null,
      "justify_content": null,
      "justify_items": null,
      "left": null,
      "margin": null,
      "max_height": null,
      "max_width": null,
      "min_height": null,
      "min_width": null,
      "object_fit": null,
      "object_position": null,
      "order": null,
      "overflow": null,
      "overflow_x": null,
      "overflow_y": null,
      "padding": null,
      "right": null,
      "top": null,
      "visibility": null,
      "width": null
     }
    },
    "6df1d4a500814f1984b13183d5728e26": {
     "model_module": "jupyter-matplotlib",
     "model_module_version": "^0.11",
     "model_name": "MPLCanvasModel",
     "state": {
      "_cursor": "pointer",
      "_data_url": "data:image/png;base64,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",
      "_dom_classes": [],
      "_figure_label": "Figure 2",
      "_image_mode": "full",
      "_message": "",
      "_model_module": "jupyter-matplotlib",
      "_model_module_version": "^0.11",
      "_model_name": "MPLCanvasModel",
      "_rubberband_height": 0,
      "_rubberband_width": 0,
      "_rubberband_x": 0,
      "_rubberband_y": 0,
      "_size": [
       800,
       500
      ],
      "_view_count": null,
      "_view_module": "jupyter-matplotlib",
      "_view_module_version": "^0.11",
      "_view_name": "MPLCanvasView",
      "capture_scroll": false,
      "footer_visible": true,
      "header_visible": true,
      "layout": "IPY_MODEL_8cd19f9be04c4d37876ff8e35a2c2fe1",
      "pan_zoom_throttle": 33,
      "resizable": true,
      "toolbar": "IPY_MODEL_b453858833994b23800f7a8ecff1fc12",
      "toolbar_position": "left",
      "toolbar_visible": "fade-in-fade-out"
     }
    },
    "7ed82b87efc04148bc5282d7a2da8cb2": {
     "model_module": "jupyter-matplotlib",
     "model_module_version": "^0.11",
     "model_name": "ToolbarModel",
     "state": {
      "_current_action": "",
      "_dom_classes": [],
      "_model_module": "jupyter-matplotlib",
      "_model_module_version": "^0.11",
      "_model_name": "ToolbarModel",
      "_view_count": null,
      "_view_module": "jupyter-matplotlib",
      "_view_module_version": "^0.11",
      "_view_name": "ToolbarView",
      "button_style": "",
      "collapsed": true,
      "layout": "IPY_MODEL_4f01c580f160404a99d2341fc4f87b62",
      "orientation": "vertical",
      "toolitems": [
       [
        "Home",
        "Reset original view",
        "home",
        "home"
       ],
       [
        "Back",
        "Back to previous view",
        "arrow-left",
        "back"
       ],
       [
        "Forward",
        "Forward to next view",
        "arrow-right",
        "forward"
       ],
       [
        "Pan",
        "Left button pans, Right button zooms\nx/y fixes axis, CTRL fixes aspect",
        "arrows",
        "pan"
       ],
       [
        "Zoom",
        "Zoom to rectangle\nx/y fixes axis",
        "square-o",
        "zoom"
       ],
       [
        "Download",
        "Download plot",
        "floppy-o",
        "save_figure"
       ]
      ]
     }
    },
    "8cd19f9be04c4d37876ff8e35a2c2fe1": {
     "model_module": "@jupyter-widgets/base",
     "model_module_version": "1.2.0",
     "model_name": "LayoutModel",
     "state": {
      "_model_module": "@jupyter-widgets/base",
      "_model_module_version": "1.2.0",
      "_model_name": "LayoutModel",
      "_view_count": null,
      "_view_module": "@jupyter-widgets/base",
      "_view_module_version": "1.2.0",
      "_view_name": "LayoutView",
      "align_content": null,
      "align_items": null,
      "align_self": null,
      "border": null,
      "bottom": null,
      "display": null,
      "flex": null,
      "flex_flow": null,
      "grid_area": null,
      "grid_auto_columns": null,
      "grid_auto_flow": null,
      "grid_auto_rows": null,
      "grid_column": null,
      "grid_gap": null,
      "grid_row": null,
      "grid_template_areas": null,
      "grid_template_columns": null,
      "grid_template_rows": null,
      "height": null,
      "justify_content": null,
      "justify_items": null,
      "left": null,
      "margin": null,
      "max_height": null,
      "max_width": null,
      "min_height": null,
      "min_width": null,
      "object_fit": null,
      "object_position": null,
      "order": null,
      "overflow": null,
      "overflow_x": null,
      "overflow_y": null,
      "padding": null,
      "right": null,
      "top": null,
      "visibility": null,
      "width": null
     }
    },
    "a5ce696d47d74af5a69ca878787bf17a": {
     "model_module": "@jupyter-widgets/base",
     "model_module_version": "1.2.0",
     "model_name": "LayoutModel",
     "state": {
      "_model_module": "@jupyter-widgets/base",
      "_model_module_version": "1.2.0",
      "_model_name": "LayoutModel",
      "_view_count": null,
      "_view_module": "@jupyter-widgets/base",
      "_view_module_version": "1.2.0",
      "_view_name": "LayoutView",
      "align_content": null,
      "align_items": null,
      "align_self": null,
      "border": null,
      "bottom": null,
      "display": null,
      "flex": null,
      "flex_flow": null,
      "grid_area": null,
      "grid_auto_columns": null,
      "grid_auto_flow": null,
      "grid_auto_rows": null,
      "grid_column": null,
      "grid_gap": null,
      "grid_row": null,
      "grid_template_areas": null,
      "grid_template_columns": null,
      "grid_template_rows": null,
      "height": null,
      "justify_content": null,
      "justify_items": null,
      "left": null,
      "margin": null,
      "max_height": null,
      "max_width": null,
      "min_height": null,
      "min_width": null,
      "object_fit": null,
      "object_position": null,
      "order": null,
      "overflow": null,
      "overflow_x": null,
      "overflow_y": null,
      "padding": null,
      "right": null,
      "top": null,
      "visibility": null,
      "width": null
     }
    },
    "b453858833994b23800f7a8ecff1fc12": {
     "model_module": "jupyter-matplotlib",
     "model_module_version": "^0.11",
     "model_name": "ToolbarModel",
     "state": {
      "_current_action": "",
      "_dom_classes": [],
      "_model_module": "jupyter-matplotlib",
      "_model_module_version": "^0.11",
      "_model_name": "ToolbarModel",
      "_view_count": null,
      "_view_module": "jupyter-matplotlib",
      "_view_module_version": "^0.11",
      "_view_name": "ToolbarView",
      "button_style": "",
      "collapsed": true,
      "layout": "IPY_MODEL_a5ce696d47d74af5a69ca878787bf17a",
      "orientation": "vertical",
      "toolitems": [
       [
        "Home",
        "Reset original view",
        "home",
        "home"
       ],
       [
        "Back",
        "Back to previous view",
        "arrow-left",
        "back"
       ],
       [
        "Forward",
        "Forward to next view",
        "arrow-right",
        "forward"
       ],
       [
        "Pan",
        "Left button pans, Right button zooms\nx/y fixes axis, CTRL fixes aspect",
        "arrows",
        "pan"
       ],
       [
        "Zoom",
        "Zoom to rectangle\nx/y fixes axis",
        "square-o",
        "zoom"
       ],
       [
        "Download",
        "Download plot",
        "floppy-o",
        "save_figure"
       ]
      ]
     }
    }
   }
  }
 },
 "nbformat": 4,
 "nbformat_minor": 1
}
