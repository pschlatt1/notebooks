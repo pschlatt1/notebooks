{
 "cells": [
  {
   "cell_type": "markdown",
   "metadata": {},
   "source": [
    "# Blasius equation\n",
    "Solved using a simple shooting method (bisection) and Runge-Kutta RK4 integration.\n",
    "\n",
    "Adapted 2021 by Philipp Schlatter"
   ]
  },
  {
   "cell_type": "markdown",
   "metadata": {},
   "source": [
    "Binder: https://mybinder.org/v2/gh/pschlatt1/notebooks/main?filepath=blasius.ipynb\n",
    "\n",
    "Colab: https://colab.research.google.com/github/pschlatt1/notebooks/blob/main/blasius.ipynb"
   ]
  },
  {
   "cell_type": "markdown",
   "metadata": {},
   "source": [
    "Preliminaries: (for Google CoLab use `%matplotlib inline`)"
   ]
  },
  {
   "cell_type": "code",
   "execution_count": 1,
   "metadata": {},
   "outputs": [],
   "source": [
    "#%matplotlib notebook\n",
    "%matplotlib inline   \n",
    "import numpy as np\n",
    "import matplotlib.pyplot as plt\n",
    "import matplotlib.pylab as pylab\n",
    "params = {'legend.fontsize': 12,\n",
    "          'legend.loc':'best',\n",
    "          'figure.figsize': (8,5),\n",
    "          'lines.markerfacecolor':'none',\n",
    "          'axes.labelsize': 12,\n",
    "          'axes.titlesize': 12,\n",
    "          'xtick.labelsize':12,\n",
    "          'ytick.labelsize':12,\n",
    "          'grid.alpha':0.6}\n",
    "pylab.rcParams.update(params)"
   ]
  },
  {
   "cell_type": "markdown",
   "metadata": {},
   "source": [
    "The equation to solve is\n",
    "$$f'''+\\frac{1}{2} f f'' = 0 \\ ,$$\n",
    "subject to boundary conditions\n",
    "$$f(0)=0, f'(0)=0, f'(\\infty) = 1 \\ .$$\n",
    "\n",
    "We thus define first our equation:"
   ]
  },
  {
   "cell_type": "code",
   "execution_count": 2,
   "metadata": {},
   "outputs": [],
   "source": [
    "def ff(u):\n",
    "    f0 =   u[1]\n",
    "    f1 =   u[2] \n",
    "    f2 = - 0.5*u[0] * u[2]  \n",
    "    return np.array([f0,f1,f2])"
   ]
  },
  {
   "cell_type": "markdown",
   "metadata": {},
   "source": [
    "and then the standard Runge-Kutta ODE integrator RK4, using the (unknown) initial value $a$ for $f''(0)$"
   ]
  },
  {
   "cell_type": "code",
   "execution_count": 3,
   "metadata": {},
   "outputs": [],
   "source": [
    "def RK4(a,h,L):\n",
    "    imax = int(L/h)\n",
    "    X = np.arange(imax+1)*h\n",
    "    U = np.zeros((imax+1,3)); U[0,:] = [0,0,a]\n",
    "    for i in range(imax):  \n",
    "        K1 = ff(U[i,:]       )\n",
    "        K2 = ff(U[i,:]+K1*h/2)\n",
    "        K3 = ff(U[i,:]+K2*h/2)\n",
    "        K4 = ff(U[i,:]+K3*h  )\n",
    "        U[i+1,:] = U[i,:] + h*(K1+2*K2+2*K3+K4)/6     \n",
    "    return X,U"
   ]
  },
  {
   "cell_type": "markdown",
   "metadata": {},
   "source": [
    "The shooting function returns the value $1-f'(\\infty)$ (approximated as $1-f'(L)$):"
   ]
  },
  {
   "cell_type": "code",
   "execution_count": 4,
   "metadata": {},
   "outputs": [],
   "source": [
    "def shoot(a,h,L):\n",
    "    X,U = RK4(a,h,L)\n",
    "    return (1.0-U[-1,1])"
   ]
  },
  {
   "cell_type": "markdown",
   "metadata": {},
   "source": [
    "The function `blasius` is performing a bisection method, in an effort to bring the error of $f'(L)=1$ below the specified tolerance"
   ]
  },
  {
   "cell_type": "code",
   "execution_count": 5,
   "metadata": {},
   "outputs": [],
   "source": [
    "def blasius(h,L,tol,nmax):\n",
    "    a = 0; fa = shoot(a,h,L)\n",
    "    b = 1; fb = shoot(b,h,L)\n",
    "    if (fa*fb > 0):\n",
    "        raise RuntimeError('Bad initial interval.') \n",
    "    n = 0; delta = (b-a)/2\n",
    "    while (abs(delta) >= tol and n <= nmax):\n",
    "        delta = (b-a)/2; n = n + 1;\n",
    "        x = a + delta; fx = shoot(x,h,L)\n",
    "        print(\" x = %14.7e (Estimated error %13.7e at iteration %d)\" % (x,abs(delta),n))\n",
    "        if (fx*fa > 0):\n",
    "            a = x;  fa = fx\n",
    "        else :\n",
    "            b = x;  fb = fx\n",
    "    if (n > nmax):\n",
    "        raise RuntimeError('Too many iterations.') \n",
    "    return x"
   ]
  },
  {
   "cell_type": "markdown",
   "metadata": {},
   "source": [
    "Finally, the main script calls the `blasius` function and computes the solution in $Y$ and $F$."
   ]
  },
  {
   "cell_type": "code",
   "execution_count": 6,
   "metadata": {},
   "outputs": [],
   "source": [
    "# parameters\n",
    "nmax = 100\n",
    "h   = 0.01\n",
    "L   = 30\n",
    "tol = 1e-6"
   ]
  },
  {
   "cell_type": "code",
   "execution_count": 7,
   "metadata": {},
   "outputs": [
    {
     "name": "stdout",
     "output_type": "stream",
     "text": [
      " x =  5.0000000e-01 (Estimated error 5.0000000e-01 at iteration 1)\n",
      " x =  2.5000000e-01 (Estimated error 2.5000000e-01 at iteration 2)\n",
      " x =  3.7500000e-01 (Estimated error 1.2500000e-01 at iteration 3)\n",
      " x =  3.1250000e-01 (Estimated error 6.2500000e-02 at iteration 4)\n",
      " x =  3.4375000e-01 (Estimated error 3.1250000e-02 at iteration 5)\n",
      " x =  3.2812500e-01 (Estimated error 1.5625000e-02 at iteration 6)\n",
      " x =  3.3593750e-01 (Estimated error 7.8125000e-03 at iteration 7)\n",
      " x =  3.3203125e-01 (Estimated error 3.9062500e-03 at iteration 8)\n",
      " x =  3.3398438e-01 (Estimated error 1.9531250e-03 at iteration 9)\n",
      " x =  3.3300781e-01 (Estimated error 9.7656250e-04 at iteration 10)\n",
      " x =  3.3251953e-01 (Estimated error 4.8828125e-04 at iteration 11)\n",
      " x =  3.3227539e-01 (Estimated error 2.4414062e-04 at iteration 12)\n",
      " x =  3.3215332e-01 (Estimated error 1.2207031e-04 at iteration 13)\n",
      " x =  3.3209229e-01 (Estimated error 6.1035156e-05 at iteration 14)\n",
      " x =  3.3206177e-01 (Estimated error 3.0517578e-05 at iteration 15)\n",
      " x =  3.3204651e-01 (Estimated error 1.5258789e-05 at iteration 16)\n",
      " x =  3.3205414e-01 (Estimated error 7.6293945e-06 at iteration 17)\n",
      " x =  3.3205795e-01 (Estimated error 3.8146973e-06 at iteration 18)\n",
      " x =  3.3205605e-01 (Estimated error 1.9073486e-06 at iteration 19)\n",
      " x =  3.3205700e-01 (Estimated error 9.5367432e-07 at iteration 20)\n",
      "Final value for f''(0) = 0.3320569992 \n"
     ]
    }
   ],
   "source": [
    "# compute the value of f''(0)\n",
    "a = blasius(h,L,tol,nmax)\n",
    "# recompute the Blasius solution with the optimised value for f''(0)\n",
    "eta,f = RK4(a,h,L)\n",
    "\n",
    "print(\"Final value for f''(0) = %.10f \" % f[0,2])"
   ]
  },
  {
   "cell_type": "markdown",
   "metadata": {},
   "source": [
    "Finally, let us plot the results for the similarity function and its derivatives:"
   ]
  },
  {
   "cell_type": "code",
   "execution_count": 8,
   "metadata": {},
   "outputs": [
    {
     "data": {
      "image/png": "[encoded data removed]",
      "text/plain": [
       "<Figure size 800x500 with 1 Axes>"
      ]
     },
     "metadata": {},
     "output_type": "display_data"
    }
   ],
   "source": [
    "fig=plt.figure()\n",
    "plt.plot(f[:,0],eta,'-b',label=\"$f$\")\n",
    "plt.plot(f[:,1],eta,'-r',label=\"$f'$\")\n",
    "plt.plot(f[:,2],eta,'-g',label=\"$f''$\")\n",
    "plt.xlim([0, 2.5])\n",
    "plt.ylim([0,10])\n",
    "plt.grid()\n",
    "plt.xlabel(\"$f$, $f'$, $f''$\")\n",
    "plt.ylabel('$\\eta = y/\\Delta$')\n",
    "plt.legend(loc='best')\n",
    "plt.show()"
   ]
  },
  {
   "cell_type": "markdown",
   "metadata": {},
   "source": [
    "Let us now compute some integral quantities: (Blasius length scale $\\Delta$, boundary-layer thickness $\\delta_{99}$, displacement thickness $\\delta^*$, momentum-loss thickness $\\theta$, shape factor $H_{12}$)"
   ]
  },
  {
   "cell_type": "code",
   "execution_count": 9,
   "metadata": {},
   "outputs": [
    {
     "name": "stdout",
     "output_type": "stream",
     "text": [
      "d99   / Delta =    4.910027795\n",
      "dstar / Delta =    1.720807374\n",
      "theta / Delta =   0.6641139984\n",
      "H12           =    2.591132513\n",
      "dstar/d99     =   0.3504679496\n",
      "theta/d99     =   0.1352566678\n"
     ]
    }
   ],
   "source": [
    "d99 = np.interp(0.99,f[:,1],eta)\n",
    "d1 = eta[-1]-f[-1,0]\n",
    "d2 = 2*f[0,2]   # only valid for Blasius, otherwise use d2 = np.trapz(f[:,1]*(1-f[:,1]),eta)\n",
    "H12 = d1/d2\n",
    "print('d99   / Delta = %14.10g' % d99)\n",
    "print('dstar / Delta = %14.10g' % d1)\n",
    "print('theta / Delta = %14.10g' % d2)\n",
    "print('H12           = %14.10g' % H12)\n",
    "print('dstar/d99     = %14.10g' % float(d1/d99))\n",
    "print('theta/d99     = %14.10g' % float(d2/d99))"
   ]
  },
  {
   "cell_type": "markdown",
   "metadata": {},
   "source": [
    "Useful to remember is that the displacement thickness is about a third of $\\delta_{99}$, and the momentum thickness about a tenth of $\\delta_{99}$. \n",
    "\n"
   ]
  },
  {
   "cell_type": "markdown",
   "metadata": {},
   "source": [
    "The Blasius boundary layer thickness $$\\Delta = \\sqrt{\\frac{\\nu x}{U_\\infty}} = \\frac{x}{\\sqrt{Re_x}} $$ is used for non-dimensionalisation of length, and $U_\\infty$ for velocity. Thus, the local skin-friction coefficient $$c_f = \\frac{\\tau_w}{\\frac12 \\rho U_\\infty^2}= \\frac{2 f''(0)}{\\sqrt{Re_x}}$$ is computed using the wall-shear stress $$\\tau_w = \\mu \\frac{\\mathrm \\partial u}{\\partial y}|_{y=0} =\\mu \\frac{U_\\infty f''(0)}{\\Delta} =f''(0) \\frac{\\rho U_\\infty^2}{\\sqrt{Re_x}}\\ .$$"
   ]
  },
  {
   "cell_type": "code",
   "execution_count": 10,
   "metadata": {},
   "outputs": [
    {
     "name": "stdout",
     "output_type": "stream",
     "text": [
      "2f''(0)     =   0.6641139984\n"
     ]
    }
   ],
   "source": [
    "print(\"2f''(0)     = %14.10g\" % float(2*f[0,2]))"
   ]
  },
  {
   "cell_type": "markdown",
   "metadata": {},
   "source": [
    "The definition of the momentum-loss thickness states $$c_f = 2 \\frac{\\mathrm d \\theta}{\\mathrm d x}\\ ,$$\n",
    "and for the Blasius boundary layer ($U_\\infty = \\text{constant}$) we get\n",
    "$$c_f = 2 \\frac{\\mathrm d \\theta}{\\mathrm d x} = \\frac{\\theta}{x}\\ ,$$ since $\\theta$ grows as a square root of $x$."
   ]
  },
  {
   "cell_type": "markdown",
   "metadata": {},
   "source": [
    "These integral quantities can also be verified by integration using the trapezoidal rule:\n",
    "\n",
    "$$\\delta^* = \\int_0^\\infty (1-u/u_\\infty) \\mathrm dy = \\Delta \\int_0^\\infty (1-f') \\mathrm d\\eta$$\n",
    "\n",
    "$$\\theta = \\int_0^\\infty (u/u_\\infty)(1-u/u_\\infty) \\mathrm dy = \\Delta \\int_0^\\infty f'(1-f') \\mathrm d\\eta$$"
   ]
  },
  {
   "cell_type": "code",
   "execution_count": 11,
   "metadata": {},
   "outputs": [
    {
     "data": {
      "text/plain": [
       "1.7208101408061196"
      ]
     },
     "execution_count": 11,
     "metadata": {},
     "output_type": "execute_result"
    }
   ],
   "source": [
    "np.trapz(1-f[:,1],eta)"
   ]
  },
  {
   "cell_type": "code",
   "execution_count": 12,
   "metadata": {},
   "outputs": [
    {
     "data": {
      "text/plain": [
       "0.6641303652491823"
      ]
     },
     "execution_count": 12,
     "metadata": {},
     "output_type": "execute_result"
    }
   ],
   "source": [
    "np.trapz(f[:,1]*(1-f[:,1]),eta)"
   ]
  },
  {
   "cell_type": "code",
   "execution_count": null,
   "metadata": {},
   "outputs": [],
   "source": []
  }
 ],
 "metadata": {
  "kernelspec": {
   "display_name": "Python 3 (ipykernel)",
   "language": "python",
   "name": "python3"
  },
  "language_info": {
   "codemirror_mode": {
    "name": "ipython",
    "version": 3
   },
   "file_extension": ".py",
   "mimetype": "text/x-python",
   "name": "python",
   "nbconvert_exporter": "python",
   "pygments_lexer": "ipython3",
   "version": "3.11.5"
  }
 },
 "nbformat": 4,
 "nbformat_minor": 4
}
