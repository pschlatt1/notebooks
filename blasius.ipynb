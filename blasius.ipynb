{
 "cells": [
  {
   "cell_type": "markdown",
   "metadata": {},
   "source": [
    "# Blasius equation\n",
    "Solved using a simple shooting method (bisection) and Runge-Kutta RK4 integration.\n",
    "\n",
    "Adapted 2021 by Philipp Schlatter\n",
    "Changes 2021-2024 Philipp Schlatter"
   ]
  },
  {
   "cell_type": "markdown",
   "metadata": {},
   "source": [
    "Binder: https://mybinder.org/v2/gh/pschlatt1/notebooks/main?filepath=blasius.ipynb\n",
    "\n",
    "Colab: https://colab.research.google.com/github/pschlatt1/notebooks/blob/main/blasius.ipynb"
   ]
  },
  {
   "cell_type": "markdown",
   "metadata": {},
   "source": [
    "Preliminaries: (for Google CoLab use `%matplotlib inline`)"
   ]
  },
  {
   "cell_type": "code",
   "execution_count": 14,
   "metadata": {},
   "outputs": [],
   "source": [
    "#%matplotlib notebook\n",
    "%matplotlib widget\n",
    "#%matplotlib inline   \n",
    "import numpy as np\n",
    "import matplotlib.pyplot as plt\n",
    "import matplotlib.pylab as pylab\n",
    "params = {'legend.fontsize': 12,\n",
    "          'legend.loc':'best',\n",
    "          'figure.figsize': (8,5),\n",
    "          'lines.markerfacecolor':'none',\n",
    "          'axes.labelsize': 12,\n",
    "          'axes.titlesize': 12,\n",
    "          'xtick.labelsize':12,\n",
    "          'ytick.labelsize':12,\n",
    "          'grid.alpha':0.6}\n",
    "pylab.rcParams.update(params)"
   ]
  },
  {
   "cell_type": "markdown",
   "metadata": {},
   "source": [
    "The equation to solve is\n",
    "$$f'''+\\frac{1}{2} f f'' = 0 \\ ,$$\n",
    "subject to boundary conditions\n",
    "$$f(0)=0, f'(0)=0, f'(\\infty) = 1 \\ .$$\n",
    "\n",
    "We thus define first our equation:"
   ]
  },
  {
   "cell_type": "code",
   "execution_count": 15,
   "metadata": {},
   "outputs": [],
   "source": [
    "def ff(u):\n",
    "    f0 =   u[1]\n",
    "    f1 =   u[2] \n",
    "    f2 = - 0.5*u[0] * u[2]  \n",
    "    return np.array([f0,f1,f2])"
   ]
  },
  {
   "cell_type": "markdown",
   "metadata": {},
   "source": [
    "and then the standard Runge-Kutta ODE integrator RK4, using the (unknown) initial value $a$ for $f''(0)$"
   ]
  },
  {
   "cell_type": "code",
   "execution_count": 16,
   "metadata": {},
   "outputs": [],
   "source": [
    "def RK4(a,h,L):\n",
    "    imax = int(L/h)\n",
    "    X = np.arange(imax+1)*h\n",
    "    U = np.zeros((imax+1,3)); U[0,:] = [0,0,a]\n",
    "    for i in range(imax):  \n",
    "        K1 = ff(U[i,:]       )\n",
    "        K2 = ff(U[i,:]+K1*h/2)\n",
    "        K3 = ff(U[i,:]+K2*h/2)\n",
    "        K4 = ff(U[i,:]+K3*h  )\n",
    "        U[i+1,:] = U[i,:] + h*(K1+2*K2+2*K3+K4)/6     \n",
    "    return X,U"
   ]
  },
  {
   "cell_type": "markdown",
   "metadata": {},
   "source": [
    "The shooting function returns the value $1-f'(\\infty)$ (approximated as $1-f'(L)$):"
   ]
  },
  {
   "cell_type": "code",
   "execution_count": 17,
   "metadata": {},
   "outputs": [],
   "source": [
    "def shoot(a,h,L):\n",
    "    X,U = RK4(a,h,L)\n",
    "    return (1.0-U[-1,1])"
   ]
  },
  {
   "cell_type": "markdown",
   "metadata": {},
   "source": [
    "The function `blasius` is performing a bisection method, in an effort to bring the error of $f'(L)=1$ below the specified tolerance"
   ]
  },
  {
   "cell_type": "code",
   "execution_count": 18,
   "metadata": {},
   "outputs": [],
   "source": [
    "def blasius(h,L,tol,nmax):\n",
    "    a = 0; fa = shoot(a,h,L)\n",
    "    b = 1; fb = shoot(b,h,L)\n",
    "    if (fa*fb > 0):\n",
    "        raise RuntimeError('Bad initial interval.') \n",
    "    n = 0; delta = (b-a)/2\n",
    "    while (abs(delta) >= tol and n <= nmax):\n",
    "        delta = (b-a)/2; n = n + 1;\n",
    "        x = a + delta; fx = shoot(x,h,L)\n",
    "        print(\" x = %14.7e (Estimated error %13.7e at iteration %d)\" % (x,abs(delta),n))\n",
    "        if (fx*fa > 0):\n",
    "            a = x;  fa = fx\n",
    "        else :\n",
    "            b = x;  fb = fx\n",
    "    if (n > nmax):\n",
    "        raise RuntimeError('Too many iterations.') \n",
    "    return x"
   ]
  },
  {
   "cell_type": "markdown",
   "metadata": {},
   "source": [
    "Finally, the main script calls the `blasius` function and computes the solution in $Y$ and $F$."
   ]
  },
  {
   "cell_type": "code",
   "execution_count": 19,
   "metadata": {},
   "outputs": [],
   "source": [
    "# parameters\n",
    "nmax = 100\n",
    "h   = 0.01\n",
    "L   = 30\n",
    "tol = 1e-6"
   ]
  },
  {
   "cell_type": "code",
   "execution_count": 20,
   "metadata": {},
   "outputs": [
    {
     "name": "stdout",
     "output_type": "stream",
     "text": [
      " x =  5.0000000e-01 (Estimated error 5.0000000e-01 at iteration 1)\n",
      " x =  2.5000000e-01 (Estimated error 2.5000000e-01 at iteration 2)\n",
      " x =  3.7500000e-01 (Estimated error 1.2500000e-01 at iteration 3)\n",
      " x =  3.1250000e-01 (Estimated error 6.2500000e-02 at iteration 4)\n",
      " x =  3.4375000e-01 (Estimated error 3.1250000e-02 at iteration 5)\n",
      " x =  3.2812500e-01 (Estimated error 1.5625000e-02 at iteration 6)\n",
      " x =  3.3593750e-01 (Estimated error 7.8125000e-03 at iteration 7)\n",
      " x =  3.3203125e-01 (Estimated error 3.9062500e-03 at iteration 8)\n",
      " x =  3.3398438e-01 (Estimated error 1.9531250e-03 at iteration 9)\n",
      " x =  3.3300781e-01 (Estimated error 9.7656250e-04 at iteration 10)\n",
      " x =  3.3251953e-01 (Estimated error 4.8828125e-04 at iteration 11)\n",
      " x =  3.3227539e-01 (Estimated error 2.4414062e-04 at iteration 12)\n",
      " x =  3.3215332e-01 (Estimated error 1.2207031e-04 at iteration 13)\n",
      " x =  3.3209229e-01 (Estimated error 6.1035156e-05 at iteration 14)\n",
      " x =  3.3206177e-01 (Estimated error 3.0517578e-05 at iteration 15)\n",
      " x =  3.3204651e-01 (Estimated error 1.5258789e-05 at iteration 16)\n",
      " x =  3.3205414e-01 (Estimated error 7.6293945e-06 at iteration 17)\n",
      " x =  3.3205795e-01 (Estimated error 3.8146973e-06 at iteration 18)\n",
      " x =  3.3205605e-01 (Estimated error 1.9073486e-06 at iteration 19)\n",
      " x =  3.3205700e-01 (Estimated error 9.5367432e-07 at iteration 20)\n",
      "Final value for f''(0) = 0.3320569992 \n"
     ]
    }
   ],
   "source": [
    "# compute the value of f''(0)\n",
    "a = blasius(h,L,tol,nmax)\n",
    "# recompute the Blasius solution with the optimised value for f''(0)\n",
    "eta,f = RK4(a,h,L)\n",
    "\n",
    "print(\"Final value for f''(0) = %.10f \" % f[0,2])"
   ]
  },
  {
   "cell_type": "markdown",
   "metadata": {},
   "source": [
    "Finally, let us plot the results for the similarity function and its derivatives:"
   ]
  },
  {
   "cell_type": "code",
   "execution_count": 21,
   "metadata": {},
   "outputs": [
    {
     "data": {
      "application/vnd.jupyter.widget-view+json": {
       "model_id": "3640336d6424437bbdc7e7f05c9f5276",
       "version_major": 2,
       "version_minor": 0
      },
      "image/png": "[encoded data removed]",
      "text/html": [
       "\n",
       "            <div style=\"display: inline-block;\">\n",
       "                <div class=\"jupyter-widgets widget-label\" style=\"text-align: center;\">\n",
       "                    Figure\n",
       "                </div>\n",
       "                <img src='data:image/png;base64,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' width=800.0/>\n",
       "            </div>\n",
       "        "
      ],
      "text/plain": [
       "Canvas(header_visible=False, toolbar=Toolbar(toolitems=[('Home', 'Reset original view', 'home', 'home'), ('Bac…"
      ]
     },
     "metadata": {},
     "output_type": "display_data"
    }
   ],
   "source": [
    "fig=plt.figure()\n",
    "fig.canvas.header_visible = False\n",
    "plt.plot(f[:,0],eta,'-b',label=\"$f$\")\n",
    "plt.plot(f[:,1],eta,'-r',label=\"$f'$\")\n",
    "plt.plot(f[:,2],eta,'-g',label=\"$f''$\")\n",
    "plt.xlim([0, 2.5])\n",
    "plt.ylim([0,10])\n",
    "plt.grid()\n",
    "plt.xlabel(r\"$f$, $f'$, $f''$\")\n",
    "plt.ylabel(r'$\\eta = y/\\Delta$')\n",
    "plt.legend(loc='best')\n",
    "plt.show()"
   ]
  },
  {
   "cell_type": "markdown",
   "metadata": {},
   "source": [
    "Let us now compute some integral quantities: (Blasius length scale $\\Delta$, boundary-layer thickness $\\delta_{99}$, displacement thickness $\\delta^*$, momentum-loss thickness $\\theta$, shape factor $H_{12}$)"
   ]
  },
  {
   "cell_type": "code",
   "execution_count": 22,
   "metadata": {},
   "outputs": [
    {
     "name": "stdout",
     "output_type": "stream",
     "text": [
      "d99   / Delta =    4.910027795\n",
      "dstar / Delta =    1.720807374\n",
      "theta / Delta =   0.6641139984\n",
      "H12           =    2.591132513\n",
      "dstar/d99     =   0.3504679496\n",
      "theta/d99     =   0.1352566678\n"
     ]
    }
   ],
   "source": [
    "d99 = np.interp(0.99,f[:,1],eta)\n",
    "d1 = eta[-1]-f[-1,0]\n",
    "d2 = 2*f[0,2]   # only valid for Blasius, otherwise use d2 = np.trapz(f[:,1]*(1-f[:,1]),eta)\n",
    "H12 = d1/d2\n",
    "print('d99   / Delta = %14.10g' % d99)\n",
    "print('dstar / Delta = %14.10g' % d1)\n",
    "print('theta / Delta = %14.10g' % d2)\n",
    "print('H12           = %14.10g' % H12)\n",
    "print('dstar/d99     = %14.10g' % float(d1/d99))\n",
    "print('theta/d99     = %14.10g' % float(d2/d99))"
   ]
  },
  {
   "cell_type": "markdown",
   "metadata": {},
   "source": [
    "Useful to remember is that the displacement thickness is about a third of $\\delta_{99}$, and the momentum thickness about a tenth of $\\delta_{99}$. \n",
    "\n"
   ]
  },
  {
   "cell_type": "markdown",
   "metadata": {},
   "source": [
    "The Blasius boundary layer thickness $$\\Delta = \\sqrt{\\frac{\\nu x}{U_\\infty}} = \\frac{x}{\\sqrt{Re_x}} $$ is used for non-dimensionalisation of length, and $U_\\infty$ for velocity. Thus, the local skin-friction coefficient $$c_f = \\frac{\\tau_w}{\\frac12 \\rho U_\\infty^2}= \\frac{2 f''(0)}{\\sqrt{Re_x}}$$ is computed using the wall-shear stress $$\\tau_w = \\mu \\frac{\\mathrm \\partial u}{\\partial y}|_{y=0} =\\mu \\frac{U_\\infty f''(0)}{\\Delta} =f''(0) \\frac{\\rho U_\\infty^2}{\\sqrt{Re_x}}\\ .$$"
   ]
  },
  {
   "cell_type": "code",
   "execution_count": 23,
   "metadata": {},
   "outputs": [
    {
     "name": "stdout",
     "output_type": "stream",
     "text": [
      "2f''(0)     =   0.6641139984\n"
     ]
    }
   ],
   "source": [
    "print(\"2f''(0)     = %14.10g\" % float(2*f[0,2]))"
   ]
  },
  {
   "cell_type": "markdown",
   "metadata": {},
   "source": [
    "The definition of the momentum-loss thickness states $$c_f = 2 \\frac{\\mathrm d \\theta}{\\mathrm d x}\\ ,$$\n",
    "and for the Blasius boundary layer ($U_\\infty = \\text{constant}$) we get\n",
    "$$c_f = 2 \\frac{\\mathrm d \\theta}{\\mathrm d x} = \\frac{\\theta}{x}\\ ,$$ since $\\theta$ grows as a square root of $x$."
   ]
  },
  {
   "cell_type": "markdown",
   "metadata": {},
   "source": [
    "These integral quantities can also be verified by integration using the trapezoidal rule:\n",
    "\n",
    "$$\\delta^* = \\int_0^\\infty (1-u/u_\\infty) \\mathrm dy = \\Delta \\int_0^\\infty (1-f') \\mathrm d\\eta$$\n",
    "\n",
    "$$\\theta = \\int_0^\\infty (u/u_\\infty)(1-u/u_\\infty) \\mathrm dy = \\Delta \\int_0^\\infty f'(1-f') \\mathrm d\\eta$$"
   ]
  },
  {
   "cell_type": "code",
   "execution_count": 24,
   "metadata": {},
   "outputs": [
    {
     "data": {
      "text/plain": [
       "1.7208101408061196"
      ]
     },
     "execution_count": 24,
     "metadata": {},
     "output_type": "execute_result"
    }
   ],
   "source": [
    "np.trapz(1-f[:,1],eta)"
   ]
  },
  {
   "cell_type": "code",
   "execution_count": 25,
   "metadata": {},
   "outputs": [
    {
     "data": {
      "text/plain": [
       "0.6641303652491823"
      ]
     },
     "execution_count": 25,
     "metadata": {},
     "output_type": "execute_result"
    }
   ],
   "source": [
    "np.trapz(f[:,1]*(1-f[:,1]),eta)"
   ]
  },
  {
   "cell_type": "code",
   "execution_count": null,
   "metadata": {},
   "outputs": [],
   "source": []
  },
  {
   "cell_type": "code",
   "execution_count": null,
   "metadata": {},
   "outputs": [],
   "source": []
  }
 ],
 "metadata": {
  "kernelspec": {
   "display_name": "Python 3 (ipykernel)",
   "language": "python",
   "name": "python3"
  },
  "language_info": {
   "codemirror_mode": {
    "name": "ipython",
    "version": 3
   },
   "file_extension": ".py",
   "mimetype": "text/x-python",
   "name": "python",
   "nbconvert_exporter": "python",
   "pygments_lexer": "ipython3",
   "version": "3.12.2"
  }
 },
 "nbformat": 4,
 "nbformat_minor": 4
}
