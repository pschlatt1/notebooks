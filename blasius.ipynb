{
  "cells": [
    {
      "cell_type": "markdown",
      "metadata": {
        "id": "DWfugkR7rIKQ"
      },
      "source": [
        "# Blasius equation\n",
        "Solution using a simple shooting method (bisection) and Runge-Kutta RK4 integration, and some simple comparisons to the quadratic velocity profile.\n",
        "\n",
        "Adapted 2021-2025 by Philipp Schlatter (LSTM, FAU)\n",
        "\n",
        "Binder: https://mybinder.org/v2/gh/pschlatt1/notebooks/main?filepath=blasius.ipynb\n",
        "\n",
        "Colab: https://colab.research.google.com/github/pschlatt1/notebooks/blob/main/blasius.ipynb\n",
        "\n",
        "<a target=\"_blank\" href=\"https://colab.research.google.com/github/pschlatt1/notebooks/blob/main/blasius.ipynb\">\n",
        "  <img src=\"https://colab.research.google.com/assets/colab-badge.svg\" alt=\"Open In Colab\"/>\n",
        "</a>"
      ]
    },
    {
      "cell_type": "markdown",
      "metadata": {
        "id": "-uAUIvawrIKX"
      },
      "source": [
        "## Preliminaries"
      ]
    },
    {
      "cell_type": "code",
      "execution_count": null,
      "metadata": {
        "id": "Vrh9RXGq0Y-c"
      },
      "outputs": [],
      "source": [
        "import sys\n",
        "IN_COLAB = 'google.colab' in sys.modules\n",
        "if IN_COLAB:\n",
        "  # for Google Colab and interative figures\n",
        "  # !pip install -q ipympl\n",
        "  # get_ipython().kernel.do_shutdown(restart=True)\n",
        "  from google.colab import output\n",
        "  output.enable_custom_widget_manager()"
      ]
    },
    {
      "cell_type": "code",
      "execution_count": null,
      "metadata": {
        "id": "Zz6OQi0orIKX"
      },
      "outputs": [],
      "source": [
        "%matplotlib widget\n",
        "#%matplotlib inline\n",
        "import numpy as np\n",
        "import matplotlib.pyplot as plt\n",
        "import matplotlib.pylab as pylab\n",
        "params = {'legend.fontsize': 12,\n",
        "          'legend.loc':'best',\n",
        "          'figure.figsize': (8,5),\n",
        "          'lines.markerfacecolor':'none',\n",
        "          'axes.labelsize': 12,\n",
        "          'axes.titlesize': 12,\n",
        "          'xtick.labelsize':12,\n",
        "          'ytick.labelsize':12,\n",
        "          'grid.alpha':0.6,\n",
        "          'text.usetex':False}\n",
        "pylab.rcParams.update(params)"
      ]
    },
    {
      "cell_type": "markdown",
      "metadata": {
        "id": "K72wY0HkrIKZ"
      },
      "source": [
        "## Blasius solution\n",
        "\n",
        "The equation to solve is\n",
        "$$f'''+\\frac{1}{2} f f'' = 0 \\ ,$$\n",
        "subject to boundary conditions\n",
        "$$f(0)=0, f'(0)=0, f'(\\infty) = 1 \\ .$$\n",
        "\n",
        "We thus define first our equation:"
      ]
    },
    {
      "cell_type": "code",
      "execution_count": null,
      "metadata": {
        "id": "yf5w8YpRrIKZ"
      },
      "outputs": [],
      "source": [
        "def ff(u):\n",
        "    f0 =   u[1]\n",
        "    f1 =   u[2]\n",
        "    f2 = - 0.5*u[0] * u[2]\n",
        "    return np.array([f0,f1,f2])"
      ]
    },
    {
      "cell_type": "markdown",
      "metadata": {
        "id": "PjzKHLnbrIKa"
      },
      "source": [
        "and then the standard Runge-Kutta ODE integrator RK4, using the (unknown) initial value $a$ for $f''(0)$"
      ]
    },
    {
      "cell_type": "code",
      "execution_count": null,
      "metadata": {
        "id": "JuVVYqf6rIKa"
      },
      "outputs": [],
      "source": [
        "def RK4(a,h,L):\n",
        "    imax = int(L/h)\n",
        "    X = np.arange(imax+1)*h\n",
        "    U = np.zeros((imax+1,3)); U[0,:] = [0,0,a]\n",
        "    for i in range(imax):\n",
        "        K1 = ff(U[i,:]       )\n",
        "        K2 = ff(U[i,:]+K1*h/2)\n",
        "        K3 = ff(U[i,:]+K2*h/2)\n",
        "        K4 = ff(U[i,:]+K3*h  )\n",
        "        U[i+1,:] = U[i,:] + h*(K1+2*K2+2*K3+K4)/6\n",
        "    return X,U"
      ]
    },
    {
      "cell_type": "markdown",
      "metadata": {
        "id": "n2ZomO6VrIKb"
      },
      "source": [
        "The shooting function returns the value $1-f'(\\infty)$ (approximated as $1-f'(L)$):"
      ]
    },
    {
      "cell_type": "code",
      "execution_count": null,
      "metadata": {
        "id": "GGkjzYgLrIKb"
      },
      "outputs": [],
      "source": [
        "def shoot(a,h,L):\n",
        "    X,U = RK4(a,h,L)\n",
        "    return (1.0-U[-1,1])"
      ]
    },
    {
      "cell_type": "markdown",
      "metadata": {
        "id": "ziAqI3QMrIKc"
      },
      "source": [
        "The function `blasius` is performing a bisection method, in an effort to bring the error of $f'(L)=1$ below the specified tolerance"
      ]
    },
    {
      "cell_type": "code",
      "execution_count": null,
      "metadata": {
        "id": "_iZnI1AYrIKc"
      },
      "outputs": [],
      "source": [
        "def blasius(h,L,tol,nmax):\n",
        "    a = 0; fa = shoot(a,h,L)\n",
        "    b = 1; fb = shoot(b,h,L)\n",
        "    if (fa*fb > 0):\n",
        "        raise RuntimeError('Bad initial interval.')\n",
        "    n = 0; delta = (b-a)/2\n",
        "    while (abs(delta) >= tol and n <= nmax):\n",
        "        delta = (b-a)/2; n = n + 1;\n",
        "        x = a + delta; fx = shoot(x,h,L)\n",
        "        print(\" x = %14.7e (Estimated error %13.7e at iteration %d)\" % (x,abs(delta),n))\n",
        "        if (fx*fa > 0):\n",
        "            a = x;  fa = fx\n",
        "        else :\n",
        "            b = x;  fb = fx\n",
        "    if (n > nmax):\n",
        "        raise RuntimeError('Too many iterations.')\n",
        "    return x"
      ]
    },
    {
      "cell_type": "markdown",
      "metadata": {
        "id": "MVmJ0cXbrIKd"
      },
      "source": [
        "Finally, the main script calls the `blasius` function and computes the solution in $Y$ and $F$."
      ]
    },
    {
      "cell_type": "code",
      "execution_count": null,
      "metadata": {
        "id": "7jf-eZbWrIKd"
      },
      "outputs": [],
      "source": [
        "# parameters\n",
        "nmax = 100\n",
        "h   = 0.01\n",
        "L   = 30\n",
        "tol = 1e-8"
      ]
    },
    {
      "cell_type": "code",
      "execution_count": null,
      "metadata": {
        "id": "6RZb8b8QrIKd"
      },
      "outputs": [],
      "source": [
        "# compute the value of f''(0)\n",
        "a = blasius(h,L,tol,nmax)\n",
        "# recompute the Blasius solution with the optimised value for f''(0)\n",
        "eta,f = RK4(a,h,L)\n",
        "\n",
        "print(\"Final value for f''(0) = %.10f \" % f[0,2])"
      ]
    },
    {
      "cell_type": "markdown",
      "metadata": {
        "id": "YNOBGSyhrIKe"
      },
      "source": [
        "Finally, let us plot the results for the similarity function and its derivatives:"
      ]
    },
    {
      "cell_type": "code",
      "execution_count": null,
      "metadata": {
        "id": "jXHIGCCDrIKf"
      },
      "outputs": [],
      "source": [
        "fig=plt.figure()\n",
        "#fig.canvas.header_visible = False\n",
        "plt.title('Solution to the Blasius equation')\n",
        "plt.plot(f[:,0],eta,'-b',label=\"$f$\")\n",
        "plt.plot(f[:,1],eta,'-r',label=\"$f'$\")\n",
        "plt.plot(f[:,2],eta,'-g',label=\"$f''$\")\n",
        "plt.xlim([0, 2.5])\n",
        "plt.ylim([0,10])\n",
        "plt.grid()\n",
        "plt.xlabel(r\"$f$, $f'$, $f''$\")\n",
        "plt.ylabel(r'$\\eta = y/\\Delta$')\n",
        "plt.legend(loc='best')\n",
        "plt.show()"
      ]
    },
    {
      "cell_type": "markdown",
      "metadata": {
        "id": "7c9aSwSerIKf"
      },
      "source": [
        "Let us now compute some integral quantities: (Blasius length scale $\\Delta$, boundary-layer thickness $\\delta_{99}$, displacement thickness $\\delta^*$, momentum-loss thickness $\\theta$, shape factor $H_{12}$)"
      ]
    },
    {
      "cell_type": "code",
      "execution_count": null,
      "metadata": {
        "id": "emMWvM0mrIKf"
      },
      "outputs": [],
      "source": [
        "d99 = np.interp(0.99,f[:,1],eta)\n",
        "d1 = eta[-1]-f[-1,0]\n",
        "d2 = 2*f[0,2]   # only valid for Blasius, otherwise use d2 = np.trapz(f[:,1]*(1-f[:,1]),eta)\n",
        "H12 = d1/d2\n",
        "print('d99   / Delta = %14.10g' % d99)\n",
        "print('dstar / Delta = %14.10g' % d1)\n",
        "print('theta / Delta = %14.10g' % d2)\n",
        "print('H12           = %14.10g' % H12)\n",
        "print('dstar/d99     = %14.10g' % float(d1/d99))\n",
        "print('theta/d99     = %14.10g' % float(d2/d99))"
      ]
    },
    {
      "cell_type": "markdown",
      "metadata": {
        "id": "aGjKkKbSrIKg"
      },
      "source": [
        "## Checks of the integral values using integrals\n",
        "\n",
        "Useful to remember is that the displacement thickness is about a third of $\\delta_{99}$, and the momentum thickness about a tenth of $\\delta_{99}$.\n",
        "\n"
      ]
    },
    {
      "cell_type": "markdown",
      "metadata": {
        "id": "-jIIOeverIKg"
      },
      "source": [
        "The Blasius boundary layer thickness $$\\Delta = \\sqrt{\\frac{\\nu x}{U_\\infty}} = \\frac{x}{\\sqrt{Re_x}} $$ is used for non-dimensionalisation of length, and $U_\\infty$ for velocity. The streamwise velocity is $$u(y/\\Delta)/U_\\infty = f'(\\eta) \\ .$$ Thus, the local skin-friction coefficient $$c_f = \\frac{\\tau_w}{\\frac12 \\rho U_\\infty^2}= \\frac{2 f''(0)}{\\sqrt{Re_x}}=\\frac{0.664}{\\sqrt{Re_x}}$$ is computed using the wall-shear stress $$\\tau_w = \\mu \\frac{\\mathrm \\partial u}{\\partial y}|_{y=0} =\\mu \\frac{U_\\infty f''(0)}{\\Delta} =f''(0) \\frac{\\rho U_\\infty^2}{\\sqrt{Re_x}}\\ .$$"
      ]
    },
    {
      "cell_type": "code",
      "execution_count": null,
      "metadata": {
        "id": "uUYStpgyrIKh"
      },
      "outputs": [],
      "source": [
        "print(\"2f''(0)     = %14.10g\" % float(2*f[0,2]))"
      ]
    },
    {
      "cell_type": "markdown",
      "metadata": {
        "id": "7qEikwu-rIKh"
      },
      "source": [
        "The von Kármán integral equation states for a Blasius boundary layer ($U_\\infty = \\text{constant}$) $$c_f = 2 \\frac{\\mathrm d \\theta}{\\mathrm d x}\\ ,$$\n",
        "and with the definition of $\\theta$ we get\n",
        "$$ c_f = 2 \\frac{\\mathrm d \\theta}{\\mathrm d x} = \\frac{\\theta}{x}\\ ,$$ since $\\theta$ grows as a square root of $x$."
      ]
    },
    {
      "cell_type": "markdown",
      "metadata": {
        "id": "prFx1UyLrIKh"
      },
      "source": [
        "These integral quantities can also be verified by integration using the trapezoidal rule:\n",
        "\n",
        "$$\\delta^* = \\int_0^\\infty (1-u/U_\\infty) \\mathrm dy = \\Delta \\int_0^\\infty (1-f') \\mathrm d\\eta$$\n",
        "\n",
        "$$\\theta = \\int_0^\\infty (u/U_\\infty)(1-u/U_\\infty) \\mathrm dy = \\Delta \\int_0^\\infty f'(1-f') \\mathrm d\\eta$$"
      ]
    },
    {
      "cell_type": "code",
      "execution_count": null,
      "metadata": {
        "id": "Zo8dhQSOrIKh"
      },
      "outputs": [],
      "source": [
        "np.trapezoid(1-f[:,1],eta)           # displacement thickness"
      ]
    },
    {
      "cell_type": "code",
      "execution_count": null,
      "metadata": {
        "id": "G4EAlZImrIKi"
      },
      "outputs": [],
      "source": [
        "np.trapezoid(f[:,1]*(1-f[:,1]),eta)  # momentum thickness"
      ]
    },
    {
      "cell_type": "markdown",
      "metadata": {
        "id": "QY0Fi9MhrIKi"
      },
      "source": [
        "## Comparison with the parabolic profile and Polhausen profile\n",
        "\n",
        "For a ZPG case, the parabolic profile (e.g. a half-channel flow profile) is a good approximation to the Blasius profile. For more complicated cases (APG etc.), the fourth-order Pohlhausen profile should be preferred."
      ]
    },
    {
      "cell_type": "code",
      "execution_count": null,
      "metadata": {
        "id": "1rAZUHpprIKi"
      },
      "outputs": [],
      "source": [
        "par = np.hstack( (-eta[eta<=1]**2+2*eta[eta<=1], -eta[eta>1]*0+1  ))\n",
        "\n",
        "PolHausen = np.hstack( (-2*eta[eta<=1]**3+2*eta[eta<=1]+eta[eta<=1]**4, -eta[eta>1]*0+1  ))"
      ]
    },
    {
      "cell_type": "markdown",
      "metadata": {
        "id": "FA7uMRiN_ygl"
      },
      "source": [
        "Plot the comparison:"
      ]
    },
    {
      "cell_type": "code",
      "execution_count": null,
      "metadata": {
        "id": "IBIhn_0mrIKk"
      },
      "outputs": [],
      "source": [
        "fig=plt.figure()\n",
        "#fig.canvas.header_visible = False\n",
        "plt.title('Comparison Blasius and quadratic profile')\n",
        "plt.plot(f[:,1],eta/d99,'-r',label=\"Blasius\")\n",
        "plt.plot(par,eta,'-b',label=\"Parabola\")\n",
        "plt.plot(PolHausen,eta,'-m',label=\"Pohlhausen\")\n",
        "\n",
        "plt.xlim([0, 1.5])\n",
        "plt.ylim([0,2])\n",
        "plt.grid()\n",
        "plt.xlabel(r\"$u/U_\\infty$\")\n",
        "plt.ylabel(r'$y/\\delta$')\n",
        "plt.legend(loc='best')\n",
        "plt.show()"
      ]
    },
    {
      "cell_type": "code",
      "execution_count": null,
      "metadata": {
        "id": "jue-voNi_pmv"
      },
      "outputs": [],
      "source": []
    }
  ],
  "metadata": {
    "colab": {
      "provenance": []
    },
    "kernelspec": {
      "display_name": "Python 3 (ipykernel)",
      "language": "python",
      "name": "python3"
    },
    "language_info": {
      "codemirror_mode": {
        "name": "ipython",
        "version": 3
      },
      "file_extension": ".py",
      "mimetype": "text/x-python",
      "name": "python",
      "nbconvert_exporter": "python",
      "pygments_lexer": "ipython3",
      "version": "3.11.5"
    }
  },
  "nbformat": 4,
  "nbformat_minor": 0
}