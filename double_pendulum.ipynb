{
 "cells": [
  {
   "cell_type": "code",
   "execution_count": 1,
   "id": "3b46afac",
   "metadata": {},
   "outputs": [
    {
     "data": {
      "application/vnd.jupyter.widget-view+json": {
       "model_id": "831d3a5535d846a28e26ebcc10109e58",
       "version_major": 2,
       "version_minor": 0
      },
      "image/png": "[encoded data removed]",
      "text/html": [
       "\n",
       "            <div style=\"display: inline-block;\">\n",
       "                <div class=\"jupyter-widgets widget-label\" style=\"text-align: center;\">\n",
       "                    Figure\n",
       "                </div>\n",
       "                <img src='data:image/png;base64,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' width=500.0/>\n",
       "            </div>\n",
       "        "
      ],
      "text/plain": [
       "Canvas(toolbar=Toolbar(toolitems=[('Home', 'Reset original view', 'home', 'home'), ('Back', 'Back to previous …"
      ]
     },
     "metadata": {},
     "output_type": "display_data"
    }
   ],
   "source": [
    "from numpy import sin, cos\n",
    "import numpy as np\n",
    "import matplotlib.pyplot as plt\n",
    "import scipy.integrate as integrate\n",
    "import matplotlib.animation as animation\n",
    "from collections import deque\n",
    "%matplotlib widget\n",
    "\n",
    "G = 9.8  # acceleration due to gravity, in m/s^2\n",
    "L1 = 1.0  # length of pendulum 1 in m\n",
    "L2 = 1.0  # length of pendulum 2 in m\n",
    "L = L1 + L2  # maximal length of the combined pendulum\n",
    "M1 = 1.0  # mass of pendulum 1 in kg\n",
    "M2 = 1.0  # mass of pendulum 2 in kg\n",
    "t_stop = 5  # how many seconds to simulate\n",
    "history_len = 500  # how many trajectory points to display\n",
    "\n",
    "\n",
    "def derivs(state, t):\n",
    "\n",
    "    dydx = np.zeros_like(state)\n",
    "    dydx[0] = state[1]\n",
    "\n",
    "    delta = state[2] - state[0]\n",
    "    den1 = (M1+M2) * L1 - M2 * L1 * cos(delta) * cos(delta)\n",
    "    dydx[1] = ((M2 * L1 * state[1] * state[1] * sin(delta) * cos(delta)\n",
    "                + M2 * G * sin(state[2]) * cos(delta)\n",
    "                + M2 * L2 * state[3] * state[3] * sin(delta)\n",
    "                - (M1+M2) * G * sin(state[0]))\n",
    "               / den1)\n",
    "\n",
    "    dydx[2] = state[3]\n",
    "\n",
    "    den2 = (L2/L1) * den1\n",
    "    dydx[3] = ((- M2 * L2 * state[3] * state[3] * sin(delta) * cos(delta)\n",
    "                + (M1+M2) * G * sin(state[0]) * cos(delta)\n",
    "                - (M1+M2) * L1 * state[1] * state[1] * sin(delta)\n",
    "                - (M1+M2) * G * sin(state[2]))\n",
    "               / den2)\n",
    "\n",
    "    return dydx\n",
    "\n",
    "# create a time array from 0..t_stop sampled at 0.02 second steps\n",
    "dt = 0.02\n",
    "t = np.arange(0, t_stop, dt)\n",
    "\n",
    "# th1 and th2 are the initial angles (degrees)\n",
    "# w10 and w20 are the initial angular velocities (degrees per second)\n",
    "th1 = 120.0\n",
    "w1 = 0.0\n",
    "th2 = -10.0\n",
    "w2 = 0.0\n",
    "\n",
    "# initial state\n",
    "state = np.radians([th1, w1, th2, w2])\n",
    "\n",
    "# integrate your ODE using scipy.integrate.\n",
    "y = integrate.odeint(derivs, state, t)\n",
    "\n",
    "x1 = L1*sin(y[:, 0])\n",
    "y1 = -L1*cos(y[:, 0])\n",
    "\n",
    "x2 = L2*sin(y[:, 2]) + x1\n",
    "y2 = -L2*cos(y[:, 2]) + y1\n",
    "\n",
    "fig = plt.figure(figsize=(5, 4))\n",
    "ax = fig.add_subplot(autoscale_on=False, xlim=(-L, L), ylim=(-L, 1.))\n",
    "ax.set_aspect('equal')\n",
    "ax.grid()\n",
    "\n",
    "line, = ax.plot([], [], 'o-', lw=2)\n",
    "trace, = ax.plot([], [], '.-', lw=1, ms=2)\n",
    "time_template = 'time = %.1fs'\n",
    "time_text = ax.text(0.05, 0.9, '', transform=ax.transAxes)\n",
    "history_x, history_y = deque(maxlen=history_len), deque(maxlen=history_len)\n",
    "\n",
    "\n",
    "def animate(i):\n",
    "    thisx = [0, x1[i], x2[i]]\n",
    "    thisy = [0, y1[i], y2[i]]\n",
    "\n",
    "    if i == 0:\n",
    "        history_x.clear()\n",
    "        history_y.clear()\n",
    "\n",
    "    history_x.appendleft(thisx[2])\n",
    "    history_y.appendleft(thisy[2])\n",
    "\n",
    "    line.set_data(thisx, thisy)\n",
    "    trace.set_data(history_x, history_y)\n",
    "    time_text.set_text(time_template % (i*dt))\n",
    "    return line, trace, time_text\n",
    "\n",
    "\n",
    "ani = animation.FuncAnimation(\n",
    "    fig, animate, len(y), interval=dt*1000, blit=False)"
   ]
  },
  {
   "cell_type": "code",
   "execution_count": 3,
   "id": "465f0ebd",
   "metadata": {},
   "outputs": [],
   "source": [
    "writer = animation.writers['ffmpeg']\n",
    "writer = writer(fps=24)\n",
    "ani.save('double.mp4', writer=writer, dpi=200)"
   ]
  },
  {
   "cell_type": "code",
   "execution_count": null,
   "id": "4737f9da",
   "metadata": {},
   "outputs": [],
   "source": []
  }
 ],
 "metadata": {
  "kernelspec": {
   "display_name": "Python 3 (ipykernel)",
   "language": "python",
   "name": "python3"
  },
  "language_info": {
   "codemirror_mode": {
    "name": "ipython",
    "version": 3
   },
   "file_extension": ".py",
   "mimetype": "text/x-python",
   "name": "python",
   "nbconvert_exporter": "python",
   "pygments_lexer": "ipython3",
   "version": "3.11.5"
  }
 },
 "nbformat": 4,
 "nbformat_minor": 5
}
