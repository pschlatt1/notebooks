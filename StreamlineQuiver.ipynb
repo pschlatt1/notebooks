{
  "nbformat": 4,
  "nbformat_minor": 0,
  "metadata": {
    "colab": {
      "provenance": []
    },
    "kernelspec": {
      "name": "python3",
      "display_name": "Python 3"
    },
    "language_info": {
      "name": "python"
    }
  },
  "cells": [
    {
      "cell_type": "markdown",
      "source": [
        "Consider a 2D flow with a velocity field given by:\n",
        "$$\\mathbf{u} = x(1+2t) ~\\mathbf{\\hat{e}_x} + y ~\\mathbf{\\hat{e}_y}~,$$\n",
        "with the unit vectors $\\mathbf{\\hat{e}_i}$.\n",
        "\n",
        "The following code plots the velocity field at various time instants as a movie, the plot shows the velocity field at time $t=0$."
      ],
      "metadata": {
        "id": "HKPZH9qVeKtF"
      }
    },
    {
      "cell_type": "code",
      "execution_count": null,
      "metadata": {
        "id": "xxTQ2H7pHIpW"
      },
      "outputs": [],
      "source": [
        "import numpy as np\n",
        "import matplotlib.pyplot as plt\n",
        "import matplotlib.animation as animation\n",
        "from IPython.display import HTML\n",
        "import matplotlib as mpl\n",
        "\n",
        "# Set LaTeX-style fonts (without using external LaTeX)\n",
        "mpl.rcParams['mathtext.fontset'] = 'stix'\n",
        "mpl.rcParams['font.family'] = 'STIXGeneral'\n",
        "mpl.rcParams['axes.titlesize'] = 20\n",
        "mpl.rcParams['axes.labelsize'] = 20\n",
        "mpl.rcParams['xtick.labelsize'] = 20\n",
        "mpl.rcParams['ytick.labelsize'] = 20\n",
        "\n",
        "# Define the grid\n",
        "x = np.linspace(-2, 2, 20)\n",
        "y = np.linspace(-2, 2, 20)\n",
        "X, Y = np.meshgrid(x, y)\n",
        "\n",
        "# Set up the figure and axis\n",
        "fig, ax = plt.subplots(figsize=(6, 6))\n",
        "ax.set_xlim(-2.5, 2.5)\n",
        "ax.set_ylim(-2.5, 2.5)\n",
        "ax.set_xlabel(r'$x$')\n",
        "ax.set_ylabel(r'$y$')\n",
        "title = ax.set_title(r'$\\mathbf{Velocity\\ Field\\ at}\\ t=0.0$')\n",
        "\n",
        "# Initialize quiver plot\n",
        "U = X * (1 + 0)  # t = 0\n",
        "V = Y\n",
        "quiver = ax.quiver(X, Y, U, V)\n",
        "\n",
        "# Update function for animation\n",
        "def update(frame):\n",
        "    t = frame / 10.0\n",
        "    U = X * (1 + 2 * t)\n",
        "    V = Y\n",
        "    quiver.set_UVC(U, V)\n",
        "    title.set_text(rf'$\\mathbf{{Velocity\\ Field\\ at}}\\ t={t:.1f}$')\n",
        "    return quiver, title\n",
        "\n",
        "# Create the animation\n",
        "ani = animation.FuncAnimation(fig, update, frames=100, interval=200, blit=False)\n",
        "\n",
        "# Display animation inline (for Google Colab)\n",
        "HTML(ani.to_jshtml())\n"
      ]
    },
    {
      "cell_type": "markdown",
      "source": [],
      "metadata": {
        "id": "zs55xX5pd7Sr"
      }
    }
  ]
}
