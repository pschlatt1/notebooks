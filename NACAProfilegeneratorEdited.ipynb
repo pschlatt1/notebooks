{
  "cells": [
    {
      "cell_type": "markdown",
      "id": "0b117020",
      "metadata": {
        "id": "0b117020"
      },
      "source": [
        "### NACA 4-Series generator\n",
        "\n",
        "Philipp Schlatter, 2017-2024, adapted to generate symmetric airfoils by Venkatesh Pulletikurthi\n"
      ]
    },
    {
      "cell_type": "code",
      "execution_count": null,
      "id": "704d86d2",
      "metadata": {
        "colab": {
          "base_uri": "https://localhost:8080/",
          "height": 472
        },
        "id": "704d86d2",
        "outputId": "1d903979-5bd3-462c-d180-836e0f717011"
      },
      "outputs": [
        {
          "output_type": "display_data",
          "data": {
            "text/plain": [
              "<Figure size 640x480 with 1 Axes>"
            ],
            "image/png": "[encoded data removed]"
          },
          "metadata": {}
        }
      ],
      "source": [
        "import pylab as plt\n",
        "from array import *\n",
        "import numpy as np\n",
        "%matplotlib inline\n",
        "\n",
        "# NACA4412\n",
        "Name = \"NACA4412\"\n",
        "m=4./100.\n",
        "p=4./10.\n",
        "t=12./100.\n",
        "\n",
        "# wedge spreading orthogonal to camber line\n",
        "wd = 0.0005\n",
        "wd = 0.\n",
        "# wedge spreading in y direction\n",
        "#wd1 = 0.000\n",
        "\n",
        "\n",
        "# -----------------\n",
        "NpointsLE=1024;      #Number of divisions before x/c=p\n",
        "\n",
        "\n",
        "if p==0:\n",
        "  x = np.linspace(0,1,NpointsLE)\n",
        "  x1 = x[:int(0.5*np.size(x))]\n",
        "  x2 = x[int(0.5*np.size(x)):]\n",
        "  x=np.concatenate((x1,x2))\n",
        "else:\n",
        "  dtheta=(np.pi/2)/NpointsLE;\n",
        "  theta = np.arange(0.0, np.pi/2, dtheta)       #Half-cosine distribution up to x=p in order to refine LE\n",
        "  x1 = (1-np.cos(theta))*p\n",
        "  dx = x1[NpointsLE-1]-x1[NpointsLE-2];     #Linear distribution from x=p to TE\n",
        "  x2 = np.arange(p,1,dx)\n",
        "  x = np.concatenate((x1,x2))\n",
        "\n",
        "\n",
        "# original (open NACA)\n",
        "yt = 5*t*(0.2969*np.sqrt(x)-0.1260*x-0.3516*x**2+0.2843*x**3-0.1015*x**4)\n",
        "# modified to get zero at the end (closed NACA)\n",
        "yt = 5*t*(0.2969*np.sqrt(x)-0.1260*x-0.3516*x**2+0.2843*x**3-0.1036*x**4)\n",
        "\n",
        "# wedge orthogonal to camber line\n",
        "yt+=wd*x\n",
        "\n",
        "if p>0:\n",
        "  yc1 = m/p**2*(2*p*x1-x1**2)\n",
        "  yc2 = m/(1-p)**2*((1-2*p)+2*p*x2-x2**2)\n",
        "  yc = np.concatenate((yc1,yc2))\n",
        "else:\n",
        "  yc1 = 0*x1\n",
        "  yc2 = 0*x2\n",
        "  yc = np.concatenate((yc1,yc2))\n",
        "if p>0:\n",
        "  dd1 = 2*m/p**2*(p-x1)\n",
        "  dd2 = 2*m/(1-p)**2*(p-x2)\n",
        "  th1=np.arctan(dd1)\n",
        "  th2=np.arctan(dd2)\n",
        "  th = np.concatenate((th1,th2))\n",
        "else:\n",
        "  dd = 0*x\n",
        "  th = 0*x\n",
        "\n",
        "\n",
        "# only move in y direction (as in xfoil)\n",
        "#th = 0*th\n",
        "\n",
        "xu = x - yt*np.sin(th)\n",
        "yu = yc + yt*np.cos(th)\n",
        "xl = x + yt*np.sin(th)\n",
        "yl = yc - yt*np.cos(th)\n",
        "\n",
        "#Multiply times chord before generating profile\n",
        "chord = 1; #chord in [mm]\n",
        "xu = xu*chord;\n",
        "yu = yu*chord;\n",
        "xl = xl*chord;\n",
        "yl = yl*chord;\n",
        "x1 = x1*chord;\n",
        "yc1 = yc1*chord;\n",
        "x2 = x2*chord;\n",
        "yc2 = yc2*chord;\n",
        "\n",
        "\n",
        "# add wedge in y\n",
        "#yu+=wd1*x\n",
        "#yl-=wd1*x\n",
        "\n",
        "# plotting----------------------\n",
        "\n",
        "plt.figure(1)\n",
        "plt.plot(x1, yc1, 'b')\n",
        "plt.plot(x2, yc2,'r')\n",
        "plt.plot(xu,yu,'k',xl,yl,'k')\n",
        "plt.axis('equal')\n",
        "plt.title(Name)\n",
        "plt.ylabel('y/c')\n",
        "plt.xlabel('x/c')\n",
        "plt.grid(True)\n",
        "\n",
        "\n",
        "#write out current profile..........\n",
        "f = open(Name+'_TEGap.txt','w')\n",
        "print(Name+\" KTH Mechanics SimEx interpolated\",file=f)\n",
        "for i in range(xu.size-1,0,-1):\n",
        "    print(\" %18.9f %18.9f\"%(xu[i],yu[i]),file=f)\n",
        "for i in range(0,xl.size):\n",
        "    print(\" %18.9f %18.9f\"%(xl[i],yl[i]),file=f)\n",
        "f.close()\n",
        "\n",
        "f = open('Pressure_side_'+Name+'.txt','w')\n",
        "#print(\" NACA4412 KTH Mechanics SimEx interpolated\",file=f)\n",
        "for i in range(0,xu.size):\n",
        "    print(\" %18.9f %18.9f\"%(xu[i],yu[i]),file=f)\n",
        "f.close()\n",
        "\n",
        "f = open('Suction_side_'+Name+'.txt','w')\n",
        "for i in range(0,xl.size):\n",
        "    print(\" %18.9f %18.9f\"%(xl[i],yl[i]),file=f)\n",
        "f.close()\n"
      ]
    },
    {
      "cell_type": "code",
      "execution_count": null,
      "id": "8c8c7dc7",
      "metadata": {
        "id": "8c8c7dc7"
      },
      "outputs": [],
      "source": []
    }
  ],
  "metadata": {
    "kernelspec": {
      "display_name": "Python 3 (ipykernel)",
      "language": "python",
      "name": "python3"
    },
    "language_info": {
      "codemirror_mode": {
        "name": "ipython",
        "version": 3
      },
      "file_extension": ".py",
      "mimetype": "text/x-python",
      "name": "python",
      "nbconvert_exporter": "python",
      "pygments_lexer": "ipython3",
      "version": "3.11.5"
    },
    "colab": {
      "provenance": []
    }
  },
  "nbformat": 4,
  "nbformat_minor": 5
}
