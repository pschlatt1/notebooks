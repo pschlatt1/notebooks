import numpy as np
import matplotlib.pyplot as plt
import matplotlib.animation as animation
from IPython.display import HTML
import matplotlib as mpl

# Set LaTeX-style fonts (without using external LaTeX)
mpl.rcParams['mathtext.fontset'] = 'stix'
mpl.rcParams['font.family'] = 'STIXGeneral'
mpl.rcParams['axes.titlesize'] = 20
mpl.rcParams['axes.labelsize'] = 20
mpl.rcParams['xtick.labelsize'] = 20
mpl.rcParams['ytick.labelsize'] = 20

# Define the grid
x = np.linspace(-2, 2, 20)
y = np.linspace(-2, 2, 20)
X, Y = np.meshgrid(x, y)

# Set up the figure and axis
fig, ax = plt.subplots(figsize=(6, 6))
ax.set_xlim(-2.5, 2.5)
ax.set_ylim(-2.5, 2.5)
ax.set_xlabel(r'$x$')
ax.set_ylabel(r'$y$')
title = ax.set_title(r'$\mathbf{Velocity\ Field\ at}\ t=0.0$')

# Initialize quiver plot
U = X * (1 + 0)  # t = 0
V = Y
quiver = ax.quiver(X, Y, U, V)

# Update function for animation
def update(frame):
    t = frame / 10.0
    U = X * (1 + 2 * t)
    V = Y
    quiver.set_UVC(U, V)
    title.set_text(rf'$\mathbf{{Velocity\ Field\ at}}\ t={t:.1f}$')
    return quiver, title

# Create the animation
ani = animation.FuncAnimation(fig, update, frames=100, interval=200, blit=False)

# Display animation inline (for Google Colab)
HTML(ani.to_jshtml())
