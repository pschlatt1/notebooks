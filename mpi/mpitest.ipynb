{
 "cells": [
  {
   "cell_type": "code",
   "execution_count": 4,
   "id": "2ee3e85c-1c52-4034-bc05-5ad733a9c60f",
   "metadata": {},
   "outputs": [
    {
     "name": "stdout",
     "output_type": "stream",
     "text": [
      "Overwriting mpitest.py\n"
     ]
    }
   ],
   "source": [
    "%%file mpitest.py\n",
    "\n",
    "from mpi4py import MPI\n",
    "\n",
    "comm = MPI.COMM_WORLD\n",
    "rank = comm.Get_rank()\n",
    "\n",
    "if rank == 0:\n",
    "   data = [1.0, 2.0, 3.0, 4.0]\n",
    "   comm.send(data, dest=1, tag=11)\n",
    "elif rank == 1:\n",
    "   data = comm.recv(source=0, tag=11)\n",
    "    \n",
    "print(\"rank =\", rank, \", data =\", data)"
   ]
  },
  {
   "cell_type": "code",
   "execution_count": 5,
   "id": "4c2ae3ba-3665-435a-86ec-9fb99a32af53",
   "metadata": {},
   "outputs": [
    {
     "name": "stdout",
     "output_type": "stream",
     "text": [
      "--------------------------------------------------------------------------\n",
      "WARNING: Linux kernel CMA support was requested via the\n",
      "btl_vader_single_copy_mechanism MCA variable, but CMA support is\n",
      "not available due to restrictive ptrace settings.\n",
      "\n",
      "The vader shared memory BTL will fall back on another single-copy\n",
      "mechanism if one is available. This may result in lower performance.\n",
      "\n",
      "  Local host: yogi\n",
      "--------------------------------------------------------------------------\n",
      "rank = 0 , data = [1.0, 2.0, 3.0, 4.0]\n",
      "rank = 1 , data = [1.0, 2.0, 3.0, 4.0]\n",
      "[yogi:07438] 1 more process has sent help message help-btl-vader.txt / cma-permission-denied\n",
      "[yogi:07438] Set MCA parameter \"orte_base_help_aggregate\" to 0 to see all help / error messages\n"
     ]
    }
   ],
   "source": [
    "!mpirun -n 2 python mpitest.py"
   ]
  },
  {
   "cell_type": "code",
   "execution_count": null,
   "id": "cabbbc7e-aaf1-4581-a7b4-2800cc55bc89",
   "metadata": {},
   "outputs": [],
   "source": []
  }
 ],
 "metadata": {
  "kernelspec": {
   "display_name": "Python 3 (ipykernel)",
   "language": "python",
   "name": "python3"
  },
  "language_info": {
   "codemirror_mode": {
    "name": "ipython",
    "version": 3
   },
   "file_extension": ".py",
   "mimetype": "text/x-python",
   "name": "python",
   "nbconvert_exporter": "python",
   "pygments_lexer": "ipython3",
   "version": "3.12.2"
  }
 },
 "nbformat": 4,
 "nbformat_minor": 5
}
