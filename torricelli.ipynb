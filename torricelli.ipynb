{
  "cells": [
    {
      "cell_type": "markdown",
      "source": [
        "### Illustration of Torricelli's law\n",
        "\n",
        "LSTM-FAU, 2024\n",
        "\n",
        "Colab: https://colab.research.google.com/github/pschlatt1/notebooks/blob/main/torricelli.ipynb"
      ],
      "metadata": {
        "id": "It18APx7MQIv"
      },
      "id": "It18APx7MQIv"
    },
    {
      "cell_type": "code",
      "execution_count": 5,
      "id": "6ec3c6ba",
      "metadata": {
        "id": "6ec3c6ba"
      },
      "outputs": [],
      "source": [
        "import matplotlib.pyplot as plt\n",
        "import numpy as np\n",
        "from ipywidgets import interact\n",
        "from IPython.display import display, Math, Latex"
      ]
    },
    {
      "cell_type": "code",
      "source": [
        "\n",
        "def update_water_jet(depth, filling_level):\n",
        "    h = depth + filling_level - 10\n",
        "\n",
        "    if h <= 0:\n",
        "        # Create a figure and axes object\n",
        "        fig, ax = plt.subplots()\n",
        "        plt.rcParams['figure.figsize'] = [12, 8]\n",
        "\n",
        "        # Display the error message in the plot\n",
        "        ax.text(0.5, 0.5, 'Invalid range selected: Hydrostatic Head cannot be negative.',\n",
        "                horizontalalignment='center',\n",
        "                verticalalignment='center',\n",
        "                fontsize=14,\n",
        "                color='red')\n",
        "\n",
        "        # Set the x and y axis limits\n",
        "        ax.set_xlim(0, 1)\n",
        "        ax.set_ylim(0, 1)\n",
        "\n",
        "        # Hide the axis ticks and labels\n",
        "        ax.set_xticks([])\n",
        "        ax.set_yticks([])\n",
        "\n",
        "        # Display the plot\n",
        "        plt.show()\n",
        "\n",
        "        return\n",
        "\n",
        "    # Continue with the rest of the code for creating and displaying the plot\n",
        "    fig, ax = plt.subplots()\n",
        "    plt.rcParams['figure.figsize'] = [12, 8]\n",
        "\n",
        "    # Create a Rectangle patch representing the water container\n",
        "    container = plt.Rectangle((0.0, -10), -2, filling_level, fill=True, facecolor='blue')\n",
        "    container_border = plt.Rectangle((0, 0), -2, -10, fill=False, facecolor='blue',edgecolor='red', linewidth=6)\n",
        "\n",
        "    # Define the jet opening position and its shape\n",
        "    jet_extent = np.linspace(0, 20, 1000)\n",
        "    jet_height = h\n",
        "    jet_shape = -depth-((jet_extent) ** 2)/4/h\n",
        "\n",
        "    # Make the top container edge white\n",
        "    ax.plot([-2, 0], [0, 0], color='white', linewidth=5)\n",
        "\n",
        "    # Create the envelope\n",
        "    envelope = ax.plot([0, 20], [filling_level-10, -30+filling_level], color='black', linestyle='--')\n",
        "\n",
        "    # Plot the water jet as a thick line\n",
        "    ax.plot(jet_extent, jet_shape, color='blue', linewidth=6)\n",
        "\n",
        "    # Add the container patch to the axes\n",
        "    ax.add_patch(container)\n",
        "    ax.add_patch(container_border)\n",
        "\n",
        "    # Set the x and y axis limits\n",
        "    ax.set_xlim(-2.1, 20)\n",
        "    ax.set_ylim(-20.1, 0)\n",
        "\n",
        "    # Set the title of the figure\n",
        "    ax.set_title(\"Torricelli's Law\", fontsize=20)\n",
        "\n",
        "    # Display the plot\n",
        "    plt.show()"
      ],
      "metadata": {
        "id": "ULtLC24wL_oC"
      },
      "id": "ULtLC24wL_oC",
      "execution_count": 9,
      "outputs": []
    },
    {
      "cell_type": "code",
      "execution_count": 10,
      "id": "ac377bd8",
      "metadata": {
        "colab": {
          "base_uri": "https://localhost:8080/",
          "height": 771,
          "referenced_widgets": [
            "e4270539649f4908a6235d1cd9c43cd9",
            "5a3e156640724435840bde0881a5204d",
            "f0177fd5d47d4464a47099be1377c6c2",
            "8da851b342f541df91027b08f24dc67d",
            "f5ed2b9b994746a68d12da8c09939ab4",
            "df81c5d1665041dca3bc42237a3de418",
            "0b74e96744f04534812df479ebc51713",
            "cf5a9fef25c842e09146b83043a95fd2",
            "2c0eb12a1a2d42348a369baa093a0d48",
            "d8b582a97a8d45398e41a8ed6c786b3e"
          ]
        },
        "id": "ac377bd8",
        "outputId": "fc859167-f673-46f6-aa9b-2fbf258eecd0"
      },
      "outputs": [
        {
          "output_type": "display_data",
          "data": {
            "text/plain": [
              "interactive(children=(FloatSlider(value=5.0, description='depth', max=10.0, step=0.001), FloatSlider(value=5.0…"
            ],
            "application/vnd.jupyter.widget-view+json": {
              "version_major": 2,
              "version_minor": 0,
              "model_id": "e4270539649f4908a6235d1cd9c43cd9"
            }
          },
          "metadata": {}
        }
      ],
      "source": [
        "# Set the interactive widget with the height of the water jet opening and the filling level\n",
        "interact(update_water_jet, depth=(0, 10, 0.001), filling_level=(0.01, 10, 0.001));"
      ]
    },
    {
      "cell_type": "code",
      "source": [],
      "metadata": {
        "id": "OPQe2Y5hM4Tc"
      },
      "id": "OPQe2Y5hM4Tc",
      "execution_count": null,
      "outputs": []
    }
  ],
  "metadata": {
    "kernelspec": {
      "display_name": "Python 3 (ipykernel)",
      "language": "python",
      "name": "python3"
    },
    "language_info": {
      "codemirror_mode": {
        "name": "ipython",
        "version": 3
      },
      "file_extension": ".py",
      "mimetype": "text/x-python",
      "name": "python",
      "nbconvert_exporter": "python",
      "pygments_lexer": "ipython3",
      "version": "3.11.5"
    },
    "colab": {
      "provenance": []
    },
    "widgets": {
      "application/vnd.jupyter.widget-state+json": {
        "e4270539649f4908a6235d1cd9c43cd9": {
          "model_module": "@jupyter-widgets/controls",
          "model_name": "VBoxModel",
          "model_module_version": "1.5.0",
          "state": {
            "_dom_classes": [
              "widget-interact"
            ],
            "_model_module": "@jupyter-widgets/controls",
            "_model_module_version": "1.5.0",
            "_model_name": "VBoxModel",
            "_view_count": null,
            "_view_module": "@jupyter-widgets/controls",
            "_view_module_version": "1.5.0",
            "_view_name": "VBoxView",
            "box_style": "",
            "children": [
              "IPY_MODEL_5a3e156640724435840bde0881a5204d",
              "IPY_MODEL_f0177fd5d47d4464a47099be1377c6c2",
              "IPY_MODEL_8da851b342f541df91027b08f24dc67d"
            ],
            "layout": "IPY_MODEL_f5ed2b9b994746a68d12da8c09939ab4"
          }
        },
        "5a3e156640724435840bde0881a5204d": {
          "model_module": "@jupyter-widgets/controls",
          "model_name": "FloatSliderModel",
          "model_module_version": "1.5.0",
          "state": {
            "_dom_classes": [],
            "_model_module": "@jupyter-widgets/controls",
            "_model_module_version": "1.5.0",
            "_model_name": "FloatSliderModel",
            "_view_count": null,
            "_view_module": "@jupyter-widgets/controls",
            "_view_module_version": "1.5.0",
            "_view_name": "FloatSliderView",
            "continuous_update": true,
            "description": "depth",
            "description_tooltip": null,
            "disabled": false,
            "layout": "IPY_MODEL_df81c5d1665041dca3bc42237a3de418",
            "max": 10,
            "min": 0,
            "orientation": "horizontal",
            "readout": true,
            "readout_format": ".2f",
            "step": 0.001,
            "style": "IPY_MODEL_0b74e96744f04534812df479ebc51713",
            "value": 8.984
          }
        },
        "f0177fd5d47d4464a47099be1377c6c2": {
          "model_module": "@jupyter-widgets/controls",
          "model_name": "FloatSliderModel",
          "model_module_version": "1.5.0",
          "state": {
            "_dom_classes": [],
            "_model_module": "@jupyter-widgets/controls",
            "_model_module_version": "1.5.0",
            "_model_name": "FloatSliderModel",
            "_view_count": null,
            "_view_module": "@jupyter-widgets/controls",
            "_view_module_version": "1.5.0",
            "_view_name": "FloatSliderView",
            "continuous_update": true,
            "description": "filling_level",
            "description_tooltip": null,
            "disabled": false,
            "layout": "IPY_MODEL_cf5a9fef25c842e09146b83043a95fd2",
            "max": 10,
            "min": 0.01,
            "orientation": "horizontal",
            "readout": true,
            "readout_format": ".2f",
            "step": 0.001,
            "style": "IPY_MODEL_2c0eb12a1a2d42348a369baa093a0d48",
            "value": 5.005
          }
        },
        "8da851b342f541df91027b08f24dc67d": {
          "model_module": "@jupyter-widgets/output",
          "model_name": "OutputModel",
          "model_module_version": "1.0.0",
          "state": {
            "_dom_classes": [],
            "_model_module": "@jupyter-widgets/output",
            "_model_module_version": "1.0.0",
            "_model_name": "OutputModel",
            "_view_count": null,
            "_view_module": "@jupyter-widgets/output",
            "_view_module_version": "1.0.0",
            "_view_name": "OutputView",
            "layout": "IPY_MODEL_d8b582a97a8d45398e41a8ed6c786b3e",
            "msg_id": "",
            "outputs": [
              {
                "output_type": "display_data",
                "data": {
                  "text/plain": "<Figure size 1200x800 with 1 Axes>",
                  "image/png": "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\n"
                },
                "metadata": {}
              }
            ]
          }
        },
        "f5ed2b9b994746a68d12da8c09939ab4": {
          "model_module": "@jupyter-widgets/base",
          "model_name": "LayoutModel",
          "model_module_version": "1.2.0",
          "state": {
            "_model_module": "@jupyter-widgets/base",
            "_model_module_version": "1.2.0",
            "_model_name": "LayoutModel",
            "_view_count": null,
            "_view_module": "@jupyter-widgets/base",
            "_view_module_version": "1.2.0",
            "_view_name": "LayoutView",
            "align_content": null,
            "align_items": null,
            "align_self": null,
            "border": null,
            "bottom": null,
            "display": null,
            "flex": null,
            "flex_flow": null,
            "grid_area": null,
            "grid_auto_columns": null,
            "grid_auto_flow": null,
            "grid_auto_rows": null,
            "grid_column": null,
            "grid_gap": null,
            "grid_row": null,
            "grid_template_areas": null,
            "grid_template_columns": null,
            "grid_template_rows": null,
            "height": null,
            "justify_content": null,
            "justify_items": null,
            "left": null,
            "margin": null,
            "max_height": null,
            "max_width": null,
            "min_height": null,
            "min_width": null,
            "object_fit": null,
            "object_position": null,
            "order": null,
            "overflow": null,
            "overflow_x": null,
            "overflow_y": null,
            "padding": null,
            "right": null,
            "top": null,
            "visibility": null,
            "width": null
          }
        },
        "df81c5d1665041dca3bc42237a3de418": {
          "model_module": "@jupyter-widgets/base",
          "model_name": "LayoutModel",
          "model_module_version": "1.2.0",
          "state": {
            "_model_module": "@jupyter-widgets/base",
            "_model_module_version": "1.2.0",
            "_model_name": "LayoutModel",
            "_view_count": null,
            "_view_module": "@jupyter-widgets/base",
            "_view_module_version": "1.2.0",
            "_view_name": "LayoutView",
            "align_content": null,
            "align_items": null,
            "align_self": null,
            "border": null,
            "bottom": null,
            "display": null,
            "flex": null,
            "flex_flow": null,
            "grid_area": null,
            "grid_auto_columns": null,
            "grid_auto_flow": null,
            "grid_auto_rows": null,
            "grid_column": null,
            "grid_gap": null,
            "grid_row": null,
            "grid_template_areas": null,
            "grid_template_columns": null,
            "grid_template_rows": null,
            "height": null,
            "justify_content": null,
            "justify_items": null,
            "left": null,
            "margin": null,
            "max_height": null,
            "max_width": null,
            "min_height": null,
            "min_width": null,
            "object_fit": null,
            "object_position": null,
            "order": null,
            "overflow": null,
            "overflow_x": null,
            "overflow_y": null,
            "padding": null,
            "right": null,
            "top": null,
            "visibility": null,
            "width": null
          }
        },
        "0b74e96744f04534812df479ebc51713": {
          "model_module": "@jupyter-widgets/controls",
          "model_name": "SliderStyleModel",
          "model_module_version": "1.5.0",
          "state": {
            "_model_module": "@jupyter-widgets/controls",
            "_model_module_version": "1.5.0",
            "_model_name": "SliderStyleModel",
            "_view_count": null,
            "_view_module": "@jupyter-widgets/base",
            "_view_module_version": "1.2.0",
            "_view_name": "StyleView",
            "description_width": "",
            "handle_color": null
          }
        },
        "cf5a9fef25c842e09146b83043a95fd2": {
          "model_module": "@jupyter-widgets/base",
          "model_name": "LayoutModel",
          "model_module_version": "1.2.0",
          "state": {
            "_model_module": "@jupyter-widgets/base",
            "_model_module_version": "1.2.0",
            "_model_name": "LayoutModel",
            "_view_count": null,
            "_view_module": "@jupyter-widgets/base",
            "_view_module_version": "1.2.0",
            "_view_name": "LayoutView",
            "align_content": null,
            "align_items": null,
            "align_self": null,
            "border": null,
            "bottom": null,
            "display": null,
            "flex": null,
            "flex_flow": null,
            "grid_area": null,
            "grid_auto_columns": null,
            "grid_auto_flow": null,
            "grid_auto_rows": null,
            "grid_column": null,
            "grid_gap": null,
            "grid_row": null,
            "grid_template_areas": null,
            "grid_template_columns": null,
            "grid_template_rows": null,
            "height": null,
            "justify_content": null,
            "justify_items": null,
            "left": null,
            "margin": null,
            "max_height": null,
            "max_width": null,
            "min_height": null,
            "min_width": null,
            "object_fit": null,
            "object_position": null,
            "order": null,
            "overflow": null,
            "overflow_x": null,
            "overflow_y": null,
            "padding": null,
            "right": null,
            "top": null,
            "visibility": null,
            "width": null
          }
        },
        "2c0eb12a1a2d42348a369baa093a0d48": {
          "model_module": "@jupyter-widgets/controls",
          "model_name": "SliderStyleModel",
          "model_module_version": "1.5.0",
          "state": {
            "_model_module": "@jupyter-widgets/controls",
            "_model_module_version": "1.5.0",
            "_model_name": "SliderStyleModel",
            "_view_count": null,
            "_view_module": "@jupyter-widgets/base",
            "_view_module_version": "1.2.0",
            "_view_name": "StyleView",
            "description_width": "",
            "handle_color": null
          }
        },
        "d8b582a97a8d45398e41a8ed6c786b3e": {
          "model_module": "@jupyter-widgets/base",
          "model_name": "LayoutModel",
          "model_module_version": "1.2.0",
          "state": {
            "_model_module": "@jupyter-widgets/base",
            "_model_module_version": "1.2.0",
            "_model_name": "LayoutModel",
            "_view_count": null,
            "_view_module": "@jupyter-widgets/base",
            "_view_module_version": "1.2.0",
            "_view_name": "LayoutView",
            "align_content": null,
            "align_items": null,
            "align_self": null,
            "border": null,
            "bottom": null,
            "display": null,
            "flex": null,
            "flex_flow": null,
            "grid_area": null,
            "grid_auto_columns": null,
            "grid_auto_flow": null,
            "grid_auto_rows": null,
            "grid_column": null,
            "grid_gap": null,
            "grid_row": null,
            "grid_template_areas": null,
            "grid_template_columns": null,
            "grid_template_rows": null,
            "height": null,
            "justify_content": null,
            "justify_items": null,
            "left": null,
            "margin": null,
            "max_height": null,
            "max_width": null,
            "min_height": null,
            "min_width": null,
            "object_fit": null,
            "object_position": null,
            "order": null,
            "overflow": null,
            "overflow_x": null,
            "overflow_y": null,
            "padding": null,
            "right": null,
            "top": null,
            "visibility": null,
            "width": null
          }
        }
      }
    }
  },
  "nbformat": 4,
  "nbformat_minor": 5
}