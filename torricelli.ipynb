{
 "cells": [
  {
   "cell_type": "code",
   "execution_count": 1,
   "id": "6ec3c6ba",
   "metadata": {},
   "outputs": [
    {
     "data": {
      "application/vnd.jupyter.widget-view+json": {
       "model_id": "89834f52ff3c4ce6a9a29b08d253437c",
       "version_major": 2,
       "version_minor": 0
      },
      "text/plain": [
       "interactive(children=(FloatSlider(value=5.0, description='depth', max=10.0, step=0.001), FloatSlider(value=5.0…"
      ]
     },
     "metadata": {},
     "output_type": "display_data"
    }
   ],
   "source": [
    "import matplotlib.pyplot as plt\n",
    "import numpy as np\n",
    "from ipywidgets import interact\n",
    "from IPython.display import display, Math, Latex\n",
    "\n",
    "def update_water_jet(depth, filling_level):\n",
    "    h = depth + filling_level - 10\n",
    "\n",
    "    if h <= 0:\n",
    "        # Create a figure and axes object\n",
    "        fig, ax = plt.subplots()\n",
    "        plt.rcParams['figure.figsize'] = [18, 10]\n",
    "        \n",
    "        # Display the error message in the plot\n",
    "        ax.text(0.5, 0.5, 'Invalid range selected: Hydrostatic Head cannot be negative.',\n",
    "                horizontalalignment='center',\n",
    "                verticalalignment='center',\n",
    "                fontsize=14,\n",
    "                color='red')\n",
    "        \n",
    "        # Set the x and y axis limits\n",
    "        ax.set_xlim(0, 1)\n",
    "        ax.set_ylim(0, 1)\n",
    "        \n",
    "        # Hide the axis ticks and labels\n",
    "        ax.set_xticks([])\n",
    "        ax.set_yticks([])\n",
    "        \n",
    "        # Display the plot\n",
    "        plt.show()\n",
    "        \n",
    "        return\n",
    "    \n",
    "    # Continue with the rest of the code for creating and displaying the plot\n",
    "    fig, ax = plt.subplots()\n",
    "    plt.rcParams['figure.figsize'] = [18, 10]\n",
    "\n",
    "    # Create a Rectangle patch representing the water container\n",
    "    container = plt.Rectangle((0.0, -10), -2, filling_level, fill=True, facecolor='blue')\n",
    "    container_border = plt.Rectangle((0, 0), -2, -10, fill=False, facecolor='blue',edgecolor='red', linewidth=6)\n",
    "\n",
    "    # Define the jet opening position and its shape\n",
    "    jet_extent = np.linspace(0, 20, 1000)\n",
    "    jet_height = h\n",
    "    jet_shape = -depth-((jet_extent) ** 2)/4/h\n",
    "\n",
    "    # Make the top container edge white\n",
    "    ax.plot([-2, 0], [0, 0], color='white', linewidth=5)\n",
    "\n",
    "    # Create the envelope\n",
    "    envelope = ax.plot([0, 20], [filling_level-10, -30+filling_level], color='black', linestyle='--')\n",
    "\n",
    "    # Plot the water jet as a thick line\n",
    "    ax.plot(jet_extent, jet_shape, color='blue', linewidth=6)\n",
    "\n",
    "    # Add the container patch to the axes\n",
    "    ax.add_patch(container)\n",
    "    ax.add_patch(container_border)\n",
    "\n",
    "    # Set the x and y axis limits\n",
    "    ax.set_xlim(-2.1, 20)\n",
    "    ax.set_ylim(-20.1, 0)\n",
    "\n",
    "    # Set the title of the figure\n",
    "    ax.set_title(\"Torricelli's Law\", fontsize=20)\n",
    "\n",
    "    # Display the plot\n",
    "    plt.show()\n",
    "    \n",
    "\n",
    "# Set the interactive widget with the height of the water jet opening and the filling level\n",
    "interact(update_water_jet, depth=(0, 10, 0.001), filling_level=(0.01, 10, 0.001));"
   ]
  },
  {
   "cell_type": "code",
   "execution_count": null,
   "id": "ac377bd8",
   "metadata": {},
   "outputs": [],
   "source": []
  }
 ],
 "metadata": {
  "kernelspec": {
   "display_name": "Python 3 (ipykernel)",
   "language": "python",
   "name": "python3"
  },
  "language_info": {
   "codemirror_mode": {
    "name": "ipython",
    "version": 3
   },
   "file_extension": ".py",
   "mimetype": "text/x-python",
   "name": "python",
   "nbconvert_exporter": "python",
   "pygments_lexer": "ipython3",
   "version": "3.11.5"
  }
 },
 "nbformat": 4,
 "nbformat_minor": 5
}
